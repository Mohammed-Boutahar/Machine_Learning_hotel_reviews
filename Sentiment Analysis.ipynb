{
 "cells": [
  {
   "cell_type": "markdown",
   "id": "3656a41d",
   "metadata": {},
   "source": [
    "### Project members : \n",
    " EL-AJJOURI Safaa\n",
    " \n",
    " BOUTAHAR Mohammed"
   ]
  },
  {
   "cell_type": "markdown",
   "id": "83001f3d",
   "metadata": {},
   "source": [
    "# Sentiment Analysis"
   ]
  },
  {
   "cell_type": "markdown",
   "id": "998fc959",
   "metadata": {},
   "source": [
    "## All what you need to install"
   ]
  },
  {
   "cell_type": "code",
   "execution_count": null,
   "id": "beb1612f",
   "metadata": {},
   "outputs": [],
   "source": [
    "!pip install -U imbalanced-learn\n",
    "!pip install spacy\n",
    "!python -m spacy download en_core_web_sm"
   ]
  },
  {
   "cell_type": "markdown",
   "id": "064e9cf4",
   "metadata": {},
   "source": [
    "## All what you need to import"
   ]
  },
  {
   "cell_type": "code",
   "execution_count": 1,
   "id": "ab5a706e",
   "metadata": {},
   "outputs": [],
   "source": [
    "import pandas as pd\n",
    "import numpy as np\n",
    "import matplotlib.pyplot as plt\n",
    "from collections import Counter\n",
    "import re\n",
    "from sklearn.model_selection import train_test_split\n",
    "from imblearn.over_sampling import SMOTE\n",
    "import string\n",
    "import nltk \n",
    "import string\n",
    "from nltk.corpus import stopwords\n",
    "import spacy\n",
    "from tqdm.auto import tqdm\n",
    "import time"
   ]
  },
  {
   "cell_type": "markdown",
   "id": "146ff52c",
   "metadata": {},
   "source": [
    "## Import the dataset"
   ]
  },
  {
   "cell_type": "code",
   "execution_count": 2,
   "id": "4f50836e",
   "metadata": {},
   "outputs": [],
   "source": [
    "data = pd.read_csv(\"reviews_rating1,3,5.csv\", sep=';', on_bad_lines=\"skip\", encoding='ISO-8859-1')"
   ]
  },
  {
   "cell_type": "code",
   "execution_count": 68,
   "id": "87694071",
   "metadata": {},
   "outputs": [
    {
     "data": {
      "text/html": [
       "<div>\n",
       "<style scoped>\n",
       "    .dataframe tbody tr th:only-of-type {\n",
       "        vertical-align: middle;\n",
       "    }\n",
       "\n",
       "    .dataframe tbody tr th {\n",
       "        vertical-align: top;\n",
       "    }\n",
       "\n",
       "    .dataframe thead th {\n",
       "        text-align: right;\n",
       "    }\n",
       "</style>\n",
       "<table border=\"1\" class=\"dataframe\">\n",
       "  <thead>\n",
       "    <tr style=\"text-align: right;\">\n",
       "      <th></th>\n",
       "      <th>Review</th>\n",
       "      <th>Rating</th>\n",
       "    </tr>\n",
       "  </thead>\n",
       "  <tbody>\n",
       "    <tr>\n",
       "      <th>0</th>\n",
       "      <td>Hollywood Hotel sure lives up to its name.  Yo...</td>\n",
       "      <td>5</td>\n",
       "    </tr>\n",
       "    <tr>\n",
       "      <th>1</th>\n",
       "      <td>We had a reservation at this hotel this weeken...</td>\n",
       "      <td>5</td>\n",
       "    </tr>\n",
       "    <tr>\n",
       "      <th>2</th>\n",
       "      <td>Pil give us great customer service. He took go...</td>\n",
       "      <td>5</td>\n",
       "    </tr>\n",
       "    <tr>\n",
       "      <th>3</th>\n",
       "      <td>Very friendly staff. Daniel did an excellent j...</td>\n",
       "      <td>5</td>\n",
       "    </tr>\n",
       "    <tr>\n",
       "      <th>4</th>\n",
       "      <td>Daniel made me feel very comfortable and welco...</td>\n",
       "      <td>5</td>\n",
       "    </tr>\n",
       "    <tr>\n",
       "      <th>5</th>\n",
       "      <td>We needed bag storage, early check in, and bag...</td>\n",
       "      <td>5</td>\n",
       "    </tr>\n",
       "    <tr>\n",
       "      <th>6</th>\n",
       "      <td>We have stayed at this hotel three times now a...</td>\n",
       "      <td>5</td>\n",
       "    </tr>\n",
       "    <tr>\n",
       "      <th>7</th>\n",
       "      <td>The Hollywood Hotel is the place to stay when ...</td>\n",
       "      <td>5</td>\n",
       "    </tr>\n",
       "    <tr>\n",
       "      <th>8</th>\n",
       "      <td>I love Pil heâs the best so sweet and always...</td>\n",
       "      <td>5</td>\n",
       "    </tr>\n",
       "    <tr>\n",
       "      <th>9</th>\n",
       "      <td>Pil was the best manager ive had the pleasure ...</td>\n",
       "      <td>5</td>\n",
       "    </tr>\n",
       "  </tbody>\n",
       "</table>\n",
       "</div>"
      ],
      "text/plain": [
       "                                              Review  Rating\n",
       "0  Hollywood Hotel sure lives up to its name.  Yo...       5\n",
       "1  We had a reservation at this hotel this weeken...       5\n",
       "2  Pil give us great customer service. He took go...       5\n",
       "3  Very friendly staff. Daniel did an excellent j...       5\n",
       "4  Daniel made me feel very comfortable and welco...       5\n",
       "5  We needed bag storage, early check in, and bag...       5\n",
       "6  We have stayed at this hotel three times now a...       5\n",
       "7  The Hollywood Hotel is the place to stay when ...       5\n",
       "8  I love Pil heâs the best so sweet and always...       5\n",
       "9  Pil was the best manager ive had the pleasure ...       5"
      ]
     },
     "execution_count": 68,
     "metadata": {},
     "output_type": "execute_result"
    }
   ],
   "source": [
    "data.head(10)"
   ]
  },
  {
   "cell_type": "code",
   "execution_count": 61,
   "id": "2297447f",
   "metadata": {},
   "outputs": [
    {
     "data": {
      "text/html": [
       "<div>\n",
       "<style scoped>\n",
       "    .dataframe tbody tr th:only-of-type {\n",
       "        vertical-align: middle;\n",
       "    }\n",
       "\n",
       "    .dataframe tbody tr th {\n",
       "        vertical-align: top;\n",
       "    }\n",
       "\n",
       "    .dataframe thead th {\n",
       "        text-align: right;\n",
       "    }\n",
       "</style>\n",
       "<table border=\"1\" class=\"dataframe\">\n",
       "  <thead>\n",
       "    <tr style=\"text-align: right;\">\n",
       "      <th></th>\n",
       "      <th>Review</th>\n",
       "      <th>Rating</th>\n",
       "    </tr>\n",
       "  </thead>\n",
       "  <tbody>\n",
       "    <tr>\n",
       "      <th>38787</th>\n",
       "      <td>ok price look hotel ok little run average clea...</td>\n",
       "      <td>2</td>\n",
       "    </tr>\n",
       "    <tr>\n",
       "      <th>38788</th>\n",
       "      <td>deceptive staff deceptive desk staff claiming ...</td>\n",
       "      <td>2</td>\n",
       "    </tr>\n",
       "    <tr>\n",
       "      <th>38789</th>\n",
       "      <td>not impressed unfriendly staff checked asked h...</td>\n",
       "      <td>2</td>\n",
       "    </tr>\n",
       "    <tr>\n",
       "      <th>38790</th>\n",
       "      <td>ok just looks nice modern outside, desk staff ...</td>\n",
       "      <td>2</td>\n",
       "    </tr>\n",
       "    <tr>\n",
       "      <th>38791</th>\n",
       "      <td>people talking, ca n't believe excellent ratin...</td>\n",
       "      <td>2</td>\n",
       "    </tr>\n",
       "  </tbody>\n",
       "</table>\n",
       "</div>"
      ],
      "text/plain": [
       "                                                  Review  Rating\n",
       "38787  ok price look hotel ok little run average clea...       2\n",
       "38788  deceptive staff deceptive desk staff claiming ...       2\n",
       "38789  not impressed unfriendly staff checked asked h...       2\n",
       "38790  ok just looks nice modern outside, desk staff ...       2\n",
       "38791  people talking, ca n't believe excellent ratin...       2"
      ]
     },
     "execution_count": 61,
     "metadata": {},
     "output_type": "execute_result"
    }
   ],
   "source": [
    "data.tail()"
   ]
  },
  {
   "cell_type": "markdown",
   "id": "d708c602",
   "metadata": {},
   "source": [
    "## Evaluating the dataset"
   ]
  },
  {
   "cell_type": "markdown",
   "id": "4abbc4a9",
   "metadata": {},
   "source": [
    "### Handling Null Values"
   ]
  },
  {
   "cell_type": "code",
   "execution_count": 3,
   "id": "077e4c89",
   "metadata": {},
   "outputs": [
    {
     "data": {
      "text/plain": [
       "Review    False\n",
       "Rating    False\n",
       "dtype: bool"
      ]
     },
     "execution_count": 3,
     "metadata": {},
     "output_type": "execute_result"
    }
   ],
   "source": [
    "data.isna().any()"
   ]
  },
  {
   "cell_type": "code",
   "execution_count": 4,
   "id": "eec2b95c",
   "metadata": {},
   "outputs": [
    {
     "data": {
      "text/plain": [
       "Review    0\n",
       "Rating    0\n",
       "dtype: int64"
      ]
     },
     "execution_count": 4,
     "metadata": {},
     "output_type": "execute_result"
    }
   ],
   "source": [
    "data.isna().sum()"
   ]
  },
  {
   "cell_type": "markdown",
   "id": "61f078ae",
   "metadata": {},
   "source": [
    "### Useful information"
   ]
  },
  {
   "cell_type": "code",
   "execution_count": 5,
   "id": "e7e46643",
   "metadata": {},
   "outputs": [
    {
     "data": {
      "text/plain": [
       "(15706, 2)"
      ]
     },
     "execution_count": 5,
     "metadata": {},
     "output_type": "execute_result"
    }
   ],
   "source": [
    "data.shape"
   ]
  },
  {
   "cell_type": "code",
   "execution_count": 6,
   "id": "ce5327bc",
   "metadata": {},
   "outputs": [
    {
     "name": "stdout",
     "output_type": "stream",
     "text": [
      "5    6100\n",
      "3    5243\n",
      "1    4363\n",
      "Name: Rating, dtype: int64\n"
     ]
    },
    {
     "data": {
      "image/png": "[encoded data removed]",
      "text/plain": [
       "<Figure size 640x480 with 1 Axes>"
      ]
     },
     "metadata": {},
     "output_type": "display_data"
    }
   ],
   "source": [
    "# Count the number of instances in each class\n",
    "class_counts = data['Rating'].value_counts()\n",
    "print(class_counts)\n",
    "class_counts.plot.bar()\n",
    "plt.title('Class Distribution')\n",
    "plt.xlabel('Rating')\n",
    "plt.ylabel('Count')\n",
    "plt.show()"
   ]
  },
  {
   "cell_type": "code",
   "execution_count": 41,
   "id": "6c241656",
   "metadata": {},
   "outputs": [
    {
     "name": "stdout",
     "output_type": "stream",
     "text": [
      "<class 'pandas.core.frame.DataFrame'>\n",
      "RangeIndex: 21500 entries, 0 to 21499\n",
      "Data columns (total 2 columns):\n",
      " #   Column  Non-Null Count  Dtype \n",
      "---  ------  --------------  ----- \n",
      " 0   Review  21500 non-null  object\n",
      " 1   Rating  21500 non-null  int64 \n",
      "dtypes: int64(1), object(1)\n",
      "memory usage: 336.1+ KB\n"
     ]
    }
   ],
   "source": [
    "data.info()"
   ]
  },
  {
   "cell_type": "markdown",
   "id": "d33a2459",
   "metadata": {},
   "source": [
    "### In case you want to sub divide the dataset into sub-sets of equal shapes"
   ]
  },
  {
   "cell_type": "code",
   "execution_count": 10,
   "id": "1c576db4",
   "metadata": {},
   "outputs": [
    {
     "name": "stdout",
     "output_type": "stream",
     "text": [
      "Success\n"
     ]
    }
   ],
   "source": [
    "for rating in range(1, 6):\n",
    "    # Filter the DataFrame to get only the reviews with the current rating\n",
    "    rating_df = data[data['Rating'] == rating]\n",
    "    \n",
    "    # Sample 4300 reviews from the filtered DataFrame and add them to the sampled DataFrame\n",
    "    sub_data = pd.DataFrame(rating_df.sample(n=4300, random_state=42))\n",
    "\n",
    "    # Write the DataFrame to a CSV file\n",
    "    sub_data.to_csv(f'sub_data_{rating}.csv', sep=';', index=False)\n",
    "print(\"Success\")"
   ]
  },
  {
   "cell_type": "markdown",
   "id": "8c1bc6d5",
   "metadata": {},
   "source": [
    "## Preprocessing the Text"
   ]
  },
  {
   "cell_type": "code",
   "execution_count": 7,
   "id": "3efd5c3f",
   "metadata": {},
   "outputs": [],
   "source": [
    "# Load the English NLP model\n",
    "nlp = spacy.load('en_core_web_sm')\n",
    "\n",
    "# Define stop words\n",
    "stop_words = spacy.lang.en.stop_words.STOP_WORDS"
   ]
  },
  {
   "cell_type": "code",
   "execution_count": 8,
   "id": "d14c5de2",
   "metadata": {},
   "outputs": [
    {
     "data": {
      "text/plain": [
       "<spacy.lang.en.English at 0x19ad44f90d0>"
      ]
     },
     "execution_count": 8,
     "metadata": {},
     "output_type": "execute_result"
    }
   ],
   "source": [
    "nlp"
   ]
  },
  {
   "cell_type": "markdown",
   "id": "92dd796c",
   "metadata": {},
   "source": [
    "### Lemmatization"
   ]
  },
  {
   "cell_type": "code",
   "execution_count": 13,
   "id": "f48c539f",
   "metadata": {},
   "outputs": [],
   "source": [
    "def preprocess_text(text):\n",
    "    # Parse the text with Spacy\n",
    "    doc = nlp(text)\n",
    "    \n",
    "    # Lemmatize the tokens and remove stop words\n",
    "    lemmas = [token.lemma_.lower() for token in doc if not token.is_stop]\n",
    "    \n",
    "    # Join the lemmas back into a string and return it\n",
    "    return \" \".join(lemmas)"
   ]
  },
  {
   "cell_type": "code",
   "execution_count": 14,
   "id": "da90ca82",
   "metadata": {},
   "outputs": [
    {
     "data": {
      "application/vnd.jupyter.widget-view+json": {
       "model_id": "0de823ff855c41bd9993abca36277080",
       "version_major": 2,
       "version_minor": 0
      },
      "text/plain": [
       "  0%|          | 0/15706 [00:00<?, ?it/s]"
      ]
     },
     "metadata": {},
     "output_type": "display_data"
    },
    {
     "name": "stdout",
     "output_type": "stream",
     "text": [
      "Wall time: 2min 55s\n"
     ]
    }
   ],
   "source": [
    "%%time\n",
    "\n",
    "tqdm.pandas()\n",
    "\n",
    "data['Review'] = data['Review'].progress_apply(preprocess_text)"
   ]
  },
  {
   "cell_type": "markdown",
   "id": "ff7f240e",
   "metadata": {},
   "source": [
    "### Remove unwanted information"
   ]
  },
  {
   "cell_type": "code",
   "execution_count": 9,
   "id": "56b61ec3",
   "metadata": {},
   "outputs": [],
   "source": [
    "def remove_URL (text):\n",
    "    url = re.compile(r\"https?://\\s+ www\\.\\s+\")\n",
    "    return url.sub(r\"\", text)\n",
    "\n",
    "\n",
    "def remove_html(text):\n",
    "    html = re.compile(r\"<.*?>\")\n",
    "    return html.sub(r\"\", text)\n",
    "         \n",
    "\n",
    "def remove_emoji(string):\n",
    "    emoji_pattern = re.compile(\n",
    "        \"[\"\n",
    "        u\"\\U0001F600-\\U0001F64F\" # emoticons\n",
    "        u\"\\U0001F300-\\U0001F5FF\" # symbols & pictographs\n",
    "        u\"\\U0001F680-\\U0001F6FF\" # transport & map symbols\n",
    "        u\"\\U0001F1E0-\\U0001F1FF\" # flags (i0s)\n",
    "        u\"\\U00002702-\\U000027B0\"\n",
    "        u\"\\U000024C2-\\U0001F251\"\n",
    "        \"]+\",\n",
    "        flags=re.UNICODE,\n",
    "    )\n",
    "    return emoji_pattern.sub(r\"\", string)\n",
    "\n",
    "\n",
    "def remove_punct (text):\n",
    "    table = str.maketrans (\"\",\"\",string.punctuation)\n",
    "    return text.translate(table)\n",
    "\n",
    "stop = set (stopwords.words ( \"english\"))\n",
    "def remove_stopwords (text):\n",
    "    text = [word.lower () for word in text.split() if word.lower() not in stop]\n",
    "    return \" \".join (text)"
   ]
  },
  {
   "cell_type": "code",
   "execution_count": 10,
   "id": "b003b517",
   "metadata": {},
   "outputs": [],
   "source": [
    "def cleanDataframe(df):\n",
    "    Review_cleaned = df.Review.map(lambda x: remove_URL(x))\n",
    "    Review_cleaned = Review_cleaned.map(lambda x: remove_html(x))\n",
    "    Review_cleaned = Review_cleaned.map(lambda x: remove_emoji(x))\n",
    "    Review_cleaned = Review_cleaned.map(lambda x: remove_punct(x)) \n",
    "    Review_cleaned = Review_cleaned.map(remove_stopwords)   \n",
    "    return Review_cleaned"
   ]
  },
  {
   "cell_type": "code",
   "execution_count": 71,
   "id": "d50dc970",
   "metadata": {},
   "outputs": [
    {
     "data": {
      "text/html": [
       "<div>\n",
       "<style scoped>\n",
       "    .dataframe tbody tr th:only-of-type {\n",
       "        vertical-align: middle;\n",
       "    }\n",
       "\n",
       "    .dataframe tbody tr th {\n",
       "        vertical-align: top;\n",
       "    }\n",
       "\n",
       "    .dataframe thead th {\n",
       "        text-align: right;\n",
       "    }\n",
       "</style>\n",
       "<table border=\"1\" class=\"dataframe\">\n",
       "  <thead>\n",
       "    <tr style=\"text-align: right;\">\n",
       "      <th></th>\n",
       "      <th>Review</th>\n",
       "      <th>Review_cleaned</th>\n",
       "      <th>Rating</th>\n",
       "    </tr>\n",
       "  </thead>\n",
       "  <tbody>\n",
       "    <tr>\n",
       "      <th>0</th>\n",
       "      <td>Hollywood Hotel sure lives up to its name.  Yo...</td>\n",
       "      <td>hollywood hotel sure lives name really get sen...</td>\n",
       "      <td>5</td>\n",
       "    </tr>\n",
       "    <tr>\n",
       "      <th>1</th>\n",
       "      <td>We had a reservation at this hotel this weeken...</td>\n",
       "      <td>reservation hotel weekend chose book directly ...</td>\n",
       "      <td>5</td>\n",
       "    </tr>\n",
       "    <tr>\n",
       "      <th>2</th>\n",
       "      <td>Pil give us great customer service. He took go...</td>\n",
       "      <td>pil give us great customer service took good c...</td>\n",
       "      <td>5</td>\n",
       "    </tr>\n",
       "    <tr>\n",
       "      <th>3</th>\n",
       "      <td>Very friendly staff. Daniel did an excellent j...</td>\n",
       "      <td>friendly staff daniel excellent job customer s...</td>\n",
       "      <td>5</td>\n",
       "    </tr>\n",
       "    <tr>\n",
       "      <th>4</th>\n",
       "      <td>Daniel made me feel very comfortable and welco...</td>\n",
       "      <td>daniel made feel comfortable welcome check mad...</td>\n",
       "      <td>5</td>\n",
       "    </tr>\n",
       "    <tr>\n",
       "      <th>...</th>\n",
       "      <td>...</td>\n",
       "      <td>...</td>\n",
       "      <td>...</td>\n",
       "    </tr>\n",
       "    <tr>\n",
       "      <th>15701</th>\n",
       "      <td>worst sleep hip tooooo hip nite club building ...</td>\n",
       "      <td>worst sleep hip tooooo hip nite club building ...</td>\n",
       "      <td>1</td>\n",
       "    </tr>\n",
       "    <tr>\n",
       "      <th>15702</th>\n",
       "      <td>june 08 stay stayed hotel june 6/6-6/8/08, rea...</td>\n",
       "      <td>june 08 stay stayed hotel june 666808 read rev...</td>\n",
       "      <td>1</td>\n",
       "    </tr>\n",
       "    <tr>\n",
       "      <th>15703</th>\n",
       "      <td>not stay hotel brought group february worst ho...</td>\n",
       "      <td>stay hotel brought group february worst hotel ...</td>\n",
       "      <td>1</td>\n",
       "    </tr>\n",
       "    <tr>\n",
       "      <th>15704</th>\n",
       "      <td>returning la concha nightmare surprising hotel...</td>\n",
       "      <td>returning la concha nightmare surprising hotel...</td>\n",
       "      <td>1</td>\n",
       "    </tr>\n",
       "    <tr>\n",
       "      <th>15705</th>\n",
       "      <td>hotel theft ruined vacation hotel opened sept ...</td>\n",
       "      <td>hotel theft ruined vacation hotel opened sept ...</td>\n",
       "      <td>1</td>\n",
       "    </tr>\n",
       "  </tbody>\n",
       "</table>\n",
       "<p>15706 rows × 3 columns</p>\n",
       "</div>"
      ],
      "text/plain": [
       "                                                  Review  \\\n",
       "0      Hollywood Hotel sure lives up to its name.  Yo...   \n",
       "1      We had a reservation at this hotel this weeken...   \n",
       "2      Pil give us great customer service. He took go...   \n",
       "3      Very friendly staff. Daniel did an excellent j...   \n",
       "4      Daniel made me feel very comfortable and welco...   \n",
       "...                                                  ...   \n",
       "15701  worst sleep hip tooooo hip nite club building ...   \n",
       "15702  june 08 stay stayed hotel june 6/6-6/8/08, rea...   \n",
       "15703  not stay hotel brought group february worst ho...   \n",
       "15704  returning la concha nightmare surprising hotel...   \n",
       "15705  hotel theft ruined vacation hotel opened sept ...   \n",
       "\n",
       "                                          Review_cleaned  Rating  \n",
       "0      hollywood hotel sure lives name really get sen...       5  \n",
       "1      reservation hotel weekend chose book directly ...       5  \n",
       "2      pil give us great customer service took good c...       5  \n",
       "3      friendly staff daniel excellent job customer s...       5  \n",
       "4      daniel made feel comfortable welcome check mad...       5  \n",
       "...                                                  ...     ...  \n",
       "15701  worst sleep hip tooooo hip nite club building ...       1  \n",
       "15702  june 08 stay stayed hotel june 666808 read rev...       1  \n",
       "15703  stay hotel brought group february worst hotel ...       1  \n",
       "15704  returning la concha nightmare surprising hotel...       1  \n",
       "15705  hotel theft ruined vacation hotel opened sept ...       1  \n",
       "\n",
       "[15706 rows x 3 columns]"
      ]
     },
     "execution_count": 71,
     "metadata": {},
     "output_type": "execute_result"
    }
   ],
   "source": [
    "#comparison of cleaned data and raw data\n",
    "df=[]\n",
    "df = data.copy()\n",
    "df.insert(1, \"Review_cleaned\", cleanDataframe(data))\n",
    "df"
   ]
  },
  {
   "cell_type": "code",
   "execution_count": 11,
   "id": "67ab181b",
   "metadata": {},
   "outputs": [
    {
     "data": {
      "text/html": [
       "<div>\n",
       "<style scoped>\n",
       "    .dataframe tbody tr th:only-of-type {\n",
       "        vertical-align: middle;\n",
       "    }\n",
       "\n",
       "    .dataframe tbody tr th {\n",
       "        vertical-align: top;\n",
       "    }\n",
       "\n",
       "    .dataframe thead th {\n",
       "        text-align: right;\n",
       "    }\n",
       "</style>\n",
       "<table border=\"1\" class=\"dataframe\">\n",
       "  <thead>\n",
       "    <tr style=\"text-align: right;\">\n",
       "      <th></th>\n",
       "      <th>Review</th>\n",
       "      <th>Rating</th>\n",
       "    </tr>\n",
       "  </thead>\n",
       "  <tbody>\n",
       "    <tr>\n",
       "      <th>0</th>\n",
       "      <td>hollywood hotel sure lives name really get sen...</td>\n",
       "      <td>5</td>\n",
       "    </tr>\n",
       "    <tr>\n",
       "      <th>1</th>\n",
       "      <td>reservation hotel weekend chose book directly ...</td>\n",
       "      <td>5</td>\n",
       "    </tr>\n",
       "    <tr>\n",
       "      <th>2</th>\n",
       "      <td>pil give us great customer service took good c...</td>\n",
       "      <td>5</td>\n",
       "    </tr>\n",
       "    <tr>\n",
       "      <th>3</th>\n",
       "      <td>friendly staff daniel excellent job customer s...</td>\n",
       "      <td>5</td>\n",
       "    </tr>\n",
       "    <tr>\n",
       "      <th>4</th>\n",
       "      <td>daniel made feel comfortable welcome check mad...</td>\n",
       "      <td>5</td>\n",
       "    </tr>\n",
       "    <tr>\n",
       "      <th>...</th>\n",
       "      <td>...</td>\n",
       "      <td>...</td>\n",
       "    </tr>\n",
       "    <tr>\n",
       "      <th>15701</th>\n",
       "      <td>worst sleep hip tooooo hip nite club building ...</td>\n",
       "      <td>1</td>\n",
       "    </tr>\n",
       "    <tr>\n",
       "      <th>15702</th>\n",
       "      <td>june 08 stay stayed hotel june 666808 read rev...</td>\n",
       "      <td>1</td>\n",
       "    </tr>\n",
       "    <tr>\n",
       "      <th>15703</th>\n",
       "      <td>stay hotel brought group february worst hotel ...</td>\n",
       "      <td>1</td>\n",
       "    </tr>\n",
       "    <tr>\n",
       "      <th>15704</th>\n",
       "      <td>returning la concha nightmare surprising hotel...</td>\n",
       "      <td>1</td>\n",
       "    </tr>\n",
       "    <tr>\n",
       "      <th>15705</th>\n",
       "      <td>hotel theft ruined vacation hotel opened sept ...</td>\n",
       "      <td>1</td>\n",
       "    </tr>\n",
       "  </tbody>\n",
       "</table>\n",
       "<p>15706 rows × 2 columns</p>\n",
       "</div>"
      ],
      "text/plain": [
       "                                                  Review  Rating\n",
       "0      hollywood hotel sure lives name really get sen...       5\n",
       "1      reservation hotel weekend chose book directly ...       5\n",
       "2      pil give us great customer service took good c...       5\n",
       "3      friendly staff daniel excellent job customer s...       5\n",
       "4      daniel made feel comfortable welcome check mad...       5\n",
       "...                                                  ...     ...\n",
       "15701  worst sleep hip tooooo hip nite club building ...       1\n",
       "15702  june 08 stay stayed hotel june 666808 read rev...       1\n",
       "15703  stay hotel brought group february worst hotel ...       1\n",
       "15704  returning la concha nightmare surprising hotel...       1\n",
       "15705  hotel theft ruined vacation hotel opened sept ...       1\n",
       "\n",
       "[15706 rows x 2 columns]"
      ]
     },
     "execution_count": 11,
     "metadata": {},
     "output_type": "execute_result"
    }
   ],
   "source": [
    "#data cleaning\n",
    "data.Review = cleanDataframe(data)\n",
    "data"
   ]
  },
  {
   "cell_type": "markdown",
   "id": "aebab243",
   "metadata": {},
   "source": [
    "## Commonly Used Words"
   ]
  },
  {
   "cell_type": "code",
   "execution_count": 12,
   "id": "95a0227b",
   "metadata": {},
   "outputs": [],
   "source": [
    "# Concatenate all tweet texts into a single string\n",
    "all_text = ' '.join(data['Review'].values)"
   ]
  },
  {
   "cell_type": "code",
   "execution_count": 13,
   "id": "a5cbd02c",
   "metadata": {},
   "outputs": [],
   "source": [
    "# Split the text into individual words\n",
    "words = all_text.split()"
   ]
  },
  {
   "cell_type": "code",
   "execution_count": 14,
   "id": "4d1d9191",
   "metadata": {},
   "outputs": [],
   "source": [
    "# Count the frequency of each word\n",
    "word_counts = Counter(words)"
   ]
  },
  {
   "cell_type": "code",
   "execution_count": 15,
   "id": "4062cbbf",
   "metadata": {},
   "outputs": [
    {
     "data": {
      "text/plain": [
       "[('hotel', 20465),\n",
       " ('room', 18894),\n",
       " ('staff', 7500),\n",
       " ('stay', 7106),\n",
       " ('great', 6492),\n",
       " ('rooms', 5954),\n",
       " ('good', 4975),\n",
       " ('location', 4884),\n",
       " ('clean', 4503),\n",
       " ('service', 4218),\n",
       " ('stayed', 4153),\n",
       " ('nice', 4067),\n",
       " ('night', 4048),\n",
       " ('would', 3991),\n",
       " ('us', 3859),\n",
       " ('one', 3651),\n",
       " ('time', 3518),\n",
       " ('desk', 3420),\n",
       " ('universal', 3306),\n",
       " ('like', 3144)]"
      ]
     },
     "execution_count": 15,
     "metadata": {},
     "output_type": "execute_result"
    }
   ],
   "source": [
    "top_words = word_counts.most_common(20)\n",
    "top_words"
   ]
  },
  {
   "cell_type": "code",
   "execution_count": 16,
   "id": "053c4ed2",
   "metadata": {},
   "outputs": [
    {
     "data": {
      "image/png": "[encoded data removed]",
      "text/plain": [
       "<Figure size 640x480 with 1 Axes>"
      ]
     },
     "metadata": {},
     "output_type": "display_data"
    }
   ],
   "source": [
    "# Create a bar chart of the most common words\n",
    "top_words = word_counts.most_common(10) # Change the number to show more/less words\n",
    "x_values = [word[0] for word in top_words]\n",
    "y_values = [word[1] for word in top_words]\n",
    "plt.bar(x_values, y_values)\n",
    "plt.xlabel('Word')\n",
    "plt.ylabel('Frequency')\n",
    "plt.title('Most Commonly Used Words')\n",
    "plt.show()"
   ]
  },
  {
   "cell_type": "markdown",
   "id": "75924794",
   "metadata": {},
   "source": [
    "### Note:\n",
    "It wasn't really important to remove some frequently used words like 'room' and 'hotel' since models already handel that situation by ignoring words that are used in all classes"
   ]
  },
  {
   "cell_type": "markdown",
   "id": "0d0f8021",
   "metadata": {},
   "source": [
    "## Converting Text into Numerical Features / Vectorization"
   ]
  },
  {
   "cell_type": "code",
   "execution_count": 17,
   "id": "754e369b",
   "metadata": {},
   "outputs": [],
   "source": [
    "from sklearn.feature_extraction.text import TfidfVectorizer\n",
    "\n",
    "vectorizer = TfidfVectorizer()\n",
    "X = vectorizer.fit_transform(data['Review'])\n",
    "y = data['Rating']"
   ]
  },
  {
   "cell_type": "markdown",
   "id": "1f23baaa",
   "metadata": {},
   "source": [
    "# Machine Learning Models"
   ]
  },
  {
   "cell_type": "code",
   "execution_count": 18,
   "id": "7d222b4f",
   "metadata": {},
   "outputs": [],
   "source": [
    "from sklearn.model_selection import train_test_split\n",
    "from sklearn.metrics import accuracy_score, f1_score, recall_score, precision_score, confusion_matrix,confusion_matrix, ConfusionMatrixDisplay\n",
    "from sklearn.model_selection import cross_val_score,cross_val_predict, KFold\n",
    "\n",
    "#Hold-out\n",
    "X_train, X_test, y_train, y_test = train_test_split(X, y, test_size=0.2,  random_state=42)"
   ]
  },
  {
   "cell_type": "code",
   "execution_count": 19,
   "id": "57420ed3",
   "metadata": {},
   "outputs": [],
   "source": [
    "def cross_validation(model, X, y, folds):\n",
    "    # Define your cross-validation strategy\n",
    "    cv = KFold(n_splits=folds, shuffle=True, random_state=42)\n",
    "    \n",
    "    accuracies = cross_val_score(model, X, y, cv=cv, scoring='accuracy')\n",
    "    accuracies = pd.Series(accuracies)\n",
    "    print(\"Accuracy : min=\", accuracies.min()*100, \"%  max=\", accuracies.max()*100, \"%  mean=\", accuracies.mean()*100, \"%\")\n",
    "\n",
    "    precisions = cross_val_score(model, X, y, cv=cv, scoring='precision_macro')\n",
    "    print(\"Precisions : min=\", precisions.min()*100, \"%  max=\",precisions.max()*100, \"%  mean=\", precisions.mean()*100, \"%\")\n",
    "    \n",
    "    f1_scores = cross_val_score(model, X, y, cv=cv, scoring='f1_macro')\n",
    "    print(\"F1_score : min=\", f1_scores.min()*100, \"%  max=\",f1_scores.max()*100, \"%  mean=\",f1_scores.mean()*100, \"%\")\n",
    "    \n",
    "    y_pred = cross_val_predict(model, X, y, cv=cv)\n",
    "\n",
    "    cm = confusion_matrix(y, y_pred)\n",
    "\n",
    "    cm_display = ConfusionMatrixDisplay(cm).plot()\n"
   ]
  },
  {
   "cell_type": "markdown",
   "id": "855e3aca",
   "metadata": {},
   "source": [
    "## Support Vector Machines"
   ]
  },
  {
   "cell_type": "code",
   "execution_count": 20,
   "id": "e0927331",
   "metadata": {},
   "outputs": [
    {
     "data": {
      "text/plain": [
       "SVC(kernel='linear')"
      ]
     },
     "execution_count": 20,
     "metadata": {},
     "output_type": "execute_result"
    }
   ],
   "source": [
    "from sklearn import svm\n",
    "\n",
    "# train an SVM model\n",
    "svmModel = svm.SVC(kernel='linear')\n",
    "\n",
    "svmModel"
   ]
  },
  {
   "cell_type": "markdown",
   "id": "ff1b81c2",
   "metadata": {},
   "source": [
    "### Cross-Validation approach"
   ]
  },
  {
   "cell_type": "code",
   "execution_count": 15,
   "id": "c2381b25",
   "metadata": {},
   "outputs": [
    {
     "name": "stdout",
     "output_type": "stream",
     "text": [
      "Accuracy : min= 85.86437440305636 %  max= 86.9191597708466 %  mean= 86.42553841707922 %\n",
      "Precisions : min= 85.46116142873208 %  max= 86.4690334589112 %  mean= 85.9996075336267 %\n",
      "F1_score : min= 85.38767239998982 %  max= 86.50583542985747 %  mean= 85.96254113286577 %\n"
     ]
    },
    {
     "data": {
      "image/png": "[encoded data removed]",
      "text/plain": [
       "<Figure size 640x480 with 2 Axes>"
      ]
     },
     "metadata": {},
     "output_type": "display_data"
    }
   ],
   "source": [
    "cross_validation(svmModel, X, y, 5)"
   ]
  },
  {
   "cell_type": "markdown",
   "id": "b5ea044c",
   "metadata": {},
   "source": [
    "### Hold-Out approach "
   ]
  },
  {
   "cell_type": "code",
   "execution_count": 12,
   "id": "7c9f5a2e",
   "metadata": {},
   "outputs": [
    {
     "name": "stdout",
     "output_type": "stream",
     "text": [
      "Wall time: 27.3 s\n"
     ]
    },
    {
     "data": {
      "text/plain": [
       "SVC(kernel='linear')"
      ]
     },
     "execution_count": 12,
     "metadata": {},
     "output_type": "execute_result"
    }
   ],
   "source": [
    "%%time\n",
    "#training\n",
    "svmModel.fit(X_train, y_train)"
   ]
  },
  {
   "cell_type": "code",
   "execution_count": 13,
   "id": "52b620b3",
   "metadata": {},
   "outputs": [
    {
     "data": {
      "text/plain": [
       "array([3, 3, 5, ..., 3, 5, 3], dtype=int64)"
      ]
     },
     "execution_count": 13,
     "metadata": {},
     "output_type": "execute_result"
    }
   ],
   "source": [
    "#testing\n",
    "y_pred = svmModel.predict(X_test)"
   ]
  },
  {
   "cell_type": "code",
   "execution_count": 14,
   "id": "cd7ade47",
   "metadata": {},
   "outputs": [
    {
     "name": "stdout",
     "output_type": "stream",
     "text": [
      "Accuracy: 86.9191597708466 %\n",
      "precision score: 86.4690334589112 %\n",
      "f1score: 86.50583542985747 %\n"
     ]
    },
    {
     "data": {
      "image/png": "[encoded data removed]",
      "text/plain": [
       "<Figure size 640x480 with 2 Axes>"
      ]
     },
     "metadata": {},
     "output_type": "display_data"
    }
   ],
   "source": [
    "acc = accuracy_score(y_test, y_pred)\n",
    "precision = precision_score(y_test, y_pred, average='macro')\n",
    "f1 = f1_score(y_test, y_pred, average='macro')\n",
    "print(\"Accuracy:\", acc*100, \"%\")\n",
    "print(\"precision score:\", precision*100, \"%\")\n",
    "print(\"f1score:\", f1*100, \"%\")\n",
    "\n",
    "cm = confusion_matrix(y_test, y_pred)\n",
    "\n",
    "cm_display = ConfusionMatrixDisplay(cm).plot()"
   ]
  },
  {
   "cell_type": "markdown",
   "id": "80e68348",
   "metadata": {},
   "source": [
    "## Multinomial Naive Bayes Model"
   ]
  },
  {
   "cell_type": "code",
   "execution_count": 23,
   "id": "2efc99f0",
   "metadata": {},
   "outputs": [
    {
     "data": {
      "text/plain": [
       "MultinomialNB()"
      ]
     },
     "execution_count": 23,
     "metadata": {},
     "output_type": "execute_result"
    }
   ],
   "source": [
    "from sklearn.naive_bayes import MultinomialNB\n",
    "# train a Naive Bayes classifier\n",
    "mnb = MultinomialNB()\n",
    "mnb"
   ]
  },
  {
   "cell_type": "markdown",
   "id": "f5f920be",
   "metadata": {},
   "source": [
    "### Hold-out approach"
   ]
  },
  {
   "cell_type": "code",
   "execution_count": 24,
   "id": "3b68d272",
   "metadata": {},
   "outputs": [
    {
     "data": {
      "text/plain": [
       "MultinomialNB()"
      ]
     },
     "execution_count": 24,
     "metadata": {},
     "output_type": "execute_result"
    }
   ],
   "source": [
    "#training\n",
    "mnb.fit(X_train, y_train)"
   ]
  },
  {
   "cell_type": "code",
   "execution_count": 25,
   "id": "9d5b3243",
   "metadata": {},
   "outputs": [],
   "source": [
    "#testing\n",
    "y_pred = mnb.predict(X_test)"
   ]
  },
  {
   "cell_type": "code",
   "execution_count": 26,
   "id": "fd090c3a",
   "metadata": {},
   "outputs": [
    {
     "name": "stdout",
     "output_type": "stream",
     "text": [
      "Accuracy: 83.95926161680458 %\n",
      "precision score: 84.95793466497888 %\n",
      "f1score: 82.97369343195132 %\n"
     ]
    },
    {
     "data": {
      "image/png": "[encoded data removed]",
      "text/plain": [
       "<Figure size 640x480 with 2 Axes>"
      ]
     },
     "metadata": {},
     "output_type": "display_data"
    }
   ],
   "source": [
    "acc = accuracy_score(y_test, y_pred)\n",
    "precision = precision_score(y_test, y_pred, average='macro')\n",
    "f1 = f1_score(y_test, y_pred, average='macro')\n",
    "print(\"Accuracy:\", acc*100, \"%\")\n",
    "print(\"precision score:\", precision*100, \"%\")\n",
    "print(\"f1score:\", f1*100, \"%\")\n",
    "\n",
    "cm = confusion_matrix(y_test, y_pred)\n",
    "\n",
    "cm_display = ConfusionMatrixDisplay(cm).plot()"
   ]
  },
  {
   "cell_type": "markdown",
   "id": "4abb5f85",
   "metadata": {},
   "source": [
    "### Cross-Validation approach"
   ]
  },
  {
   "cell_type": "code",
   "execution_count": 27,
   "id": "24e00446",
   "metadata": {
    "scrolled": true
   },
   "outputs": [
    {
     "name": "stdout",
     "output_type": "stream",
     "text": [
      "Accuracy : min= 75.15923566878982 %  max= 89.80891719745223 %  mean= 83.82109167136983 %\n",
      "Precisions : min= 79.216213792485 %  max= 90.44031243519734 %  mean= 84.92387505905025 %\n",
      "F1_score : min= 74.35978835978835 %  max= 88.94236315988991 %  mean= 82.83926340083816 %\n"
     ]
    },
    {
     "data": {
      "image/png": "[encoded data removed]",
      "text/plain": [
       "<Figure size 640x480 with 2 Axes>"
      ]
     },
     "metadata": {},
     "output_type": "display_data"
    }
   ],
   "source": [
    "cross_validation(mnb, X, y, 100)"
   ]
  },
  {
   "cell_type": "markdown",
   "id": "8b61a7c1",
   "metadata": {},
   "source": [
    "## Decision Tree"
   ]
  },
  {
   "cell_type": "code",
   "execution_count": 21,
   "id": "4b36aaed",
   "metadata": {},
   "outputs": [
    {
     "data": {
      "text/plain": [
       "DecisionTreeClassifier()"
      ]
     },
     "execution_count": 21,
     "metadata": {},
     "output_type": "execute_result"
    }
   ],
   "source": [
    "from sklearn import tree\n",
    "dtc = tree.DecisionTreeClassifier()\n",
    "dtc"
   ]
  },
  {
   "cell_type": "markdown",
   "id": "939b42dd",
   "metadata": {},
   "source": [
    "### Hold-out approach"
   ]
  },
  {
   "cell_type": "code",
   "execution_count": 23,
   "id": "5021be2e",
   "metadata": {},
   "outputs": [
    {
     "name": "stdout",
     "output_type": "stream",
     "text": [
      "Wall time: 3.8 s\n"
     ]
    },
    {
     "data": {
      "text/plain": [
       "DecisionTreeClassifier()"
      ]
     },
     "execution_count": 23,
     "metadata": {},
     "output_type": "execute_result"
    }
   ],
   "source": [
    "%%time\n",
    "#training\n",
    "dtc.fit(X_train, y_train)"
   ]
  },
  {
   "cell_type": "code",
   "execution_count": 24,
   "id": "935e28e9",
   "metadata": {},
   "outputs": [],
   "source": [
    "#testing\n",
    "y_pred = dtc.predict(X_test)"
   ]
  },
  {
   "cell_type": "code",
   "execution_count": 27,
   "id": "cc9a1469",
   "metadata": {},
   "outputs": [
    {
     "name": "stdout",
     "output_type": "stream",
     "text": [
      "Accuracy: 70.21005728835136 %\n",
      "precision score: 70.07897047261244 %\n",
      "f1 score: 69.80197734709387 %\n"
     ]
    },
    {
     "data": {
      "image/png": "[encoded data removed]",
      "text/plain": [
       "<Figure size 640x480 with 2 Axes>"
      ]
     },
     "metadata": {},
     "output_type": "display_data"
    }
   ],
   "source": [
    "acc = accuracy_score(y_test, y_pred)\n",
    "precision = precision_score(y_test, y_pred, average='macro')\n",
    "f1 = f1_score(y_test, y_pred, average='macro')\n",
    "print(\"Accuracy:\", acc*100, \"%\")\n",
    "print(\"precision score:\", precision*100, \"%\")\n",
    "print(\"f1 score:\", f1*100, \"%\")\n",
    "cm = confusion_matrix(y_test, y_pred)\n",
    "\n",
    "cm_display = ConfusionMatrixDisplay(cm).plot()"
   ]
  },
  {
   "cell_type": "markdown",
   "id": "02d1644a",
   "metadata": {},
   "source": [
    "### Cross-Validation approach"
   ]
  },
  {
   "cell_type": "code",
   "execution_count": 22,
   "id": "7aa489c5",
   "metadata": {},
   "outputs": [
    {
     "name": "stdout",
     "output_type": "stream",
     "text": [
      "Accuracy : min= 67.60025461489498 %  max= 72.48407643312102 %  mean= 70.46356128394021 %\n",
      "Precisions : min= 67.15216130808061 %  max= 72.20516407371643 %  mean= 69.9180804083425 %\n",
      "F1_score : min= 66.62877396581266 %  max= 71.11284081661532 %  mean= 69.30360978828179 %\n"
     ]
    },
    {
     "data": {
      "image/png": "[encoded data removed]",
      "text/plain": [
       "<Figure size 640x480 with 2 Axes>"
      ]
     },
     "metadata": {},
     "output_type": "display_data"
    }
   ],
   "source": [
    "cross_validation(dtc, X, y, 10)"
   ]
  },
  {
   "cell_type": "markdown",
   "id": "a373afc5",
   "metadata": {},
   "source": [
    "## Random Forest"
   ]
  },
  {
   "cell_type": "code",
   "execution_count": 56,
   "id": "e0e628b7",
   "metadata": {},
   "outputs": [
    {
     "data": {
      "text/plain": [
       "RandomForestClassifier(random_state=0)"
      ]
     },
     "execution_count": 56,
     "metadata": {},
     "output_type": "execute_result"
    }
   ],
   "source": [
    "from sklearn.ensemble import RandomForestClassifier\n",
    "rfc = RandomForestClassifier(random_state=0)\n",
    "rfc"
   ]
  },
  {
   "cell_type": "markdown",
   "id": "8563072e",
   "metadata": {},
   "source": [
    "### Hold-out approach"
   ]
  },
  {
   "cell_type": "code",
   "execution_count": 32,
   "id": "c5c70e9d",
   "metadata": {},
   "outputs": [
    {
     "name": "stdout",
     "output_type": "stream",
     "text": [
      "Wall time: 19.4 s\n"
     ]
    },
    {
     "data": {
      "text/plain": [
       "RandomForestClassifier(random_state=0)"
      ]
     },
     "execution_count": 32,
     "metadata": {},
     "output_type": "execute_result"
    }
   ],
   "source": [
    "%%time\n",
    "#training\n",
    "rfc.fit(X_train, y_train)"
   ]
  },
  {
   "cell_type": "code",
   "execution_count": 33,
   "id": "bc92628d",
   "metadata": {},
   "outputs": [],
   "source": [
    "#testing\n",
    "y_pred = rfc.predict(X_test)"
   ]
  },
  {
   "cell_type": "code",
   "execution_count": 35,
   "id": "080e0b23",
   "metadata": {
    "scrolled": true
   },
   "outputs": [
    {
     "name": "stdout",
     "output_type": "stream",
     "text": [
      "Accuracy: 82.78166772756205 %\n",
      "precision score: 82.38152556232077 %\n",
      "f1 score: 82.09793271226515 %\n"
     ]
    },
    {
     "data": {
      "image/png": "[encoded data removed]",
      "text/plain": [
       "<Figure size 640x480 with 2 Axes>"
      ]
     },
     "metadata": {},
     "output_type": "display_data"
    }
   ],
   "source": [
    "acc = accuracy_score(y_test, y_pred)\n",
    "precision = precision_score(y_test, y_pred, average='macro')\n",
    "f1 = f1_score(y_test, y_pred, average='macro')\n",
    "print(\"Accuracy:\", acc*100, \"%\")\n",
    "print(\"precision score:\", precision*100, \"%\")\n",
    "print(\"f1 score:\", f1*100, \"%\")\n",
    "cm = confusion_matrix(y_test, y_pred)\n",
    "\n",
    "cm_display = ConfusionMatrixDisplay(cm).plot()"
   ]
  },
  {
   "cell_type": "markdown",
   "id": "a9b25e35",
   "metadata": {},
   "source": [
    "### Cross-Validation approach"
   ]
  },
  {
   "cell_type": "code",
   "execution_count": 36,
   "id": "7d5d55b5",
   "metadata": {},
   "outputs": [
    {
     "name": "stdout",
     "output_type": "stream",
     "text": [
      "Accuracy : min= 81.75740210124164 %  max= 83.25907065563335 %  mean= 82.47161674176023 %\n",
      "Precisions : min= 81.98395844904768 %  max= 83.01326585883872 %  mean= 82.39314264819596 %\n",
      "F1_score : min= 81.26932776545104 %  max= 82.6359738282859 %  mean= 81.89376814702578 %\n"
     ]
    },
    {
     "data": {
      "image/png": "[encoded data removed]",
      "text/plain": [
       "<Figure size 640x480 with 2 Axes>"
      ]
     },
     "metadata": {},
     "output_type": "display_data"
    }
   ],
   "source": [
    "cross_validation(rfc, X, y, 5)"
   ]
  },
  {
   "cell_type": "markdown",
   "id": "3a39c825",
   "metadata": {},
   "source": [
    "# The End"
   ]
  }
 ],
 "metadata": {
  "kernelspec": {
   "display_name": "Python 3 (ipykernel)",
   "language": "python",
   "name": "python3"
  },
  "language_info": {
   "codemirror_mode": {
    "name": "ipython",
    "version": 3
   },
   "file_extension": ".py",
   "mimetype": "text/x-python",
   "name": "python",
   "nbconvert_exporter": "python",
   "pygments_lexer": "ipython3",
   "version": "3.9.13"
  }
 },
 "nbformat": 4,
 "nbformat_minor": 5
}
