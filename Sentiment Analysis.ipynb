{
 "cells": [
  {
   "cell_type": "markdown",
   "id": "3656a41d",
   "metadata": {},
   "source": [
    "### Project members : \n",
    " EL-AJJOURI Safaa\n",
    " \n",
    " BOUTAHAR Mohammed"
   ]
  },
  {
   "cell_type": "markdown",
   "id": "83001f3d",
   "metadata": {},
   "source": [
    "# Sentiment Analysis"
   ]
  },
  {
   "cell_type": "markdown",
   "id": "998fc959",
   "metadata": {},
   "source": [
    "## All what you need to install"
   ]
  },
  {
   "cell_type": "code",
   "execution_count": null,
   "id": "beb1612f",
   "metadata": {},
   "outputs": [],
   "source": [
    "!pip install -U imbalanced-learn\n",
    "!pip install spacy\n",
    "!python -m spacy download en_core_web_sm"
   ]
  },
  {
   "cell_type": "markdown",
   "id": "064e9cf4",
   "metadata": {},
   "source": [
    "## All what you need to import"
   ]
  },
  {
   "cell_type": "code",
   "execution_count": 1,
   "id": "ab5a706e",
   "metadata": {},
   "outputs": [],
   "source": [
    "import pandas as pd\n",
    "import numpy as np\n",
    "import matplotlib.pyplot as plt\n",
    "from collections import Counter\n",
    "import re\n",
    "from sklearn.model_selection import train_test_split\n",
    "from imblearn.over_sampling import SMOTE\n",
    "import string\n",
    "import nltk \n",
    "import string\n",
    "from nltk.corpus import stopwords\n",
    "import spacy\n",
    "from tqdm.auto import tqdm\n",
    "import time"
   ]
  },
  {
   "cell_type": "markdown",
   "id": "146ff52c",
   "metadata": {},
   "source": [
    "## Import the dataset"
   ]
  },
  {
   "cell_type": "code",
   "execution_count": 2,
   "id": "4f50836e",
   "metadata": {},
   "outputs": [],
   "source": [
    "data = pd.read_csv(\"sub_reviews_hotels.csv\", sep=';', on_bad_lines=\"skip\", encoding='ISO-8859-1')"
   ]
  },
  {
   "cell_type": "code",
   "execution_count": 4,
   "id": "87694071",
   "metadata": {},
   "outputs": [
    {
     "data": {
      "text/html": [
       "<div>\n",
       "<style scoped>\n",
       "    .dataframe tbody tr th:only-of-type {\n",
       "        vertical-align: middle;\n",
       "    }\n",
       "\n",
       "    .dataframe tbody tr th {\n",
       "        vertical-align: top;\n",
       "    }\n",
       "\n",
       "    .dataframe thead th {\n",
       "        text-align: right;\n",
       "    }\n",
       "</style>\n",
       "<table border=\"1\" class=\"dataframe\">\n",
       "  <thead>\n",
       "    <tr style=\"text-align: right;\">\n",
       "      <th></th>\n",
       "      <th>Review</th>\n",
       "      <th>Rating</th>\n",
       "    </tr>\n",
       "  </thead>\n",
       "  <tbody>\n",
       "    <tr>\n",
       "      <th>0</th>\n",
       "      <td>mice room husband stayed museum hotel month st...</td>\n",
       "      <td>1</td>\n",
       "    </tr>\n",
       "    <tr>\n",
       "      <th>1</th>\n",
       "      <td>was there for wobi conference across the stree...</td>\n",
       "      <td>1</td>\n",
       "    </tr>\n",
       "    <tr>\n",
       "      <th>2</th>\n",
       "      <td>bad far outweighs good understand china expect...</td>\n",
       "      <td>1</td>\n",
       "    </tr>\n",
       "    <tr>\n",
       "      <th>3</th>\n",
       "      <td>terible experience birthday stayed hotel liana...</td>\n",
       "      <td>1</td>\n",
       "    </tr>\n",
       "    <tr>\n",
       "      <th>4</th>\n",
       "      <td>do yourself a huge favor and do not stay here ...</td>\n",
       "      <td>1</td>\n",
       "    </tr>\n",
       "    <tr>\n",
       "      <th>5</th>\n",
       "      <td>naploleon nightmare called hotel directly make...</td>\n",
       "      <td>1</td>\n",
       "    </tr>\n",
       "    <tr>\n",
       "      <th>6</th>\n",
       "      <td>regrettable i do not recommend it for anything...</td>\n",
       "      <td>1</td>\n",
       "    </tr>\n",
       "    <tr>\n",
       "      <th>7</th>\n",
       "      <td>myself and my family stayed here at the end of...</td>\n",
       "      <td>1</td>\n",
       "    </tr>\n",
       "    <tr>\n",
       "      <th>8</th>\n",
       "      <td>i am writing in regard of our stay earlier in ...</td>\n",
       "      <td>1</td>\n",
       "    </tr>\n",
       "    <tr>\n",
       "      <th>9</th>\n",
       "      <td>not family environment booked hotel travelocit...</td>\n",
       "      <td>1</td>\n",
       "    </tr>\n",
       "  </tbody>\n",
       "</table>\n",
       "</div>"
      ],
      "text/plain": [
       "                                              Review  Rating\n",
       "0  mice room husband stayed museum hotel month st...       1\n",
       "1  was there for wobi conference across the stree...       1\n",
       "2  bad far outweighs good understand china expect...       1\n",
       "3  terible experience birthday stayed hotel liana...       1\n",
       "4  do yourself a huge favor and do not stay here ...       1\n",
       "5  naploleon nightmare called hotel directly make...       1\n",
       "6  regrettable i do not recommend it for anything...       1\n",
       "7  myself and my family stayed here at the end of...       1\n",
       "8  i am writing in regard of our stay earlier in ...       1\n",
       "9  not family environment booked hotel travelocit...       1"
      ]
     },
     "execution_count": 4,
     "metadata": {},
     "output_type": "execute_result"
    }
   ],
   "source": [
    "data.head(10)"
   ]
  },
  {
   "cell_type": "code",
   "execution_count": 5,
   "id": "2297447f",
   "metadata": {},
   "outputs": [
    {
     "data": {
      "text/html": [
       "<div>\n",
       "<style scoped>\n",
       "    .dataframe tbody tr th:only-of-type {\n",
       "        vertical-align: middle;\n",
       "    }\n",
       "\n",
       "    .dataframe tbody tr th {\n",
       "        vertical-align: top;\n",
       "    }\n",
       "\n",
       "    .dataframe thead th {\n",
       "        text-align: right;\n",
       "    }\n",
       "</style>\n",
       "<table border=\"1\" class=\"dataframe\">\n",
       "  <thead>\n",
       "    <tr style=\"text-align: right;\">\n",
       "      <th></th>\n",
       "      <th>Review</th>\n",
       "      <th>Rating</th>\n",
       "    </tr>\n",
       "  </thead>\n",
       "  <tbody>\n",
       "    <tr>\n",
       "      <th>21495</th>\n",
       "      <td>love the new yorker hotel and especially their...</td>\n",
       "      <td>5</td>\n",
       "    </tr>\n",
       "    <tr>\n",
       "      <th>21496</th>\n",
       "      <td>i recommend this hotel to everyone booked thro...</td>\n",
       "      <td>5</td>\n",
       "    </tr>\n",
       "    <tr>\n",
       "      <th>21497</th>\n",
       "      <td>i stayed with my daughter in dec 2018 for a se...</td>\n",
       "      <td>5</td>\n",
       "    </tr>\n",
       "    <tr>\n",
       "      <th>21498</th>\n",
       "      <td>clean hotel room was lovely beds comfy reasona...</td>\n",
       "      <td>5</td>\n",
       "    </tr>\n",
       "    <tr>\n",
       "      <th>21499</th>\n",
       "      <td>the hilton hotel was fantasticmyself and a fri...</td>\n",
       "      <td>5</td>\n",
       "    </tr>\n",
       "  </tbody>\n",
       "</table>\n",
       "</div>"
      ],
      "text/plain": [
       "                                                  Review  Rating\n",
       "21495  love the new yorker hotel and especially their...       5\n",
       "21496  i recommend this hotel to everyone booked thro...       5\n",
       "21497  i stayed with my daughter in dec 2018 for a se...       5\n",
       "21498  clean hotel room was lovely beds comfy reasona...       5\n",
       "21499  the hilton hotel was fantasticmyself and a fri...       5"
      ]
     },
     "execution_count": 5,
     "metadata": {},
     "output_type": "execute_result"
    }
   ],
   "source": [
    "data.tail()"
   ]
  },
  {
   "cell_type": "markdown",
   "id": "d708c602",
   "metadata": {},
   "source": [
    "## Evaluating the dataset"
   ]
  },
  {
   "cell_type": "markdown",
   "id": "4abbc4a9",
   "metadata": {},
   "source": [
    "### Handling Null Values"
   ]
  },
  {
   "cell_type": "code",
   "execution_count": 226,
   "id": "077e4c89",
   "metadata": {},
   "outputs": [
    {
     "data": {
      "text/plain": [
       "Review    False\n",
       "Rating    False\n",
       "dtype: bool"
      ]
     },
     "execution_count": 226,
     "metadata": {},
     "output_type": "execute_result"
    }
   ],
   "source": [
    "data.isna().any()"
   ]
  },
  {
   "cell_type": "code",
   "execution_count": 227,
   "id": "eec2b95c",
   "metadata": {},
   "outputs": [
    {
     "data": {
      "text/plain": [
       "Review    0\n",
       "Rating    0\n",
       "dtype: int64"
      ]
     },
     "execution_count": 227,
     "metadata": {},
     "output_type": "execute_result"
    }
   ],
   "source": [
    "data.isna().sum()"
   ]
  },
  {
   "cell_type": "markdown",
   "id": "61f078ae",
   "metadata": {},
   "source": [
    "### Useful information"
   ]
  },
  {
   "cell_type": "code",
   "execution_count": 3,
   "id": "e7e46643",
   "metadata": {},
   "outputs": [
    {
     "data": {
      "text/plain": [
       "(21500, 2)"
      ]
     },
     "execution_count": 3,
     "metadata": {},
     "output_type": "execute_result"
    }
   ],
   "source": [
    "data.shape"
   ]
  },
  {
   "cell_type": "code",
   "execution_count": 8,
   "id": "ce5327bc",
   "metadata": {},
   "outputs": [
    {
     "name": "stdout",
     "output_type": "stream",
     "text": [
      "Rating\n",
      "1    4300\n",
      "2    4300\n",
      "3    4300\n",
      "4    4300\n",
      "5    4300\n",
      "dtype: int64\n"
     ]
    }
   ],
   "source": [
    "review_counts = data.groupby('Rating').size()\n",
    "\n",
    "# Print the count of reviews for each rating\n",
    "print(review_counts)"
   ]
  },
  {
   "cell_type": "code",
   "execution_count": 9,
   "id": "6c241656",
   "metadata": {},
   "outputs": [
    {
     "name": "stdout",
     "output_type": "stream",
     "text": [
      "<class 'pandas.core.frame.DataFrame'>\n",
      "RangeIndex: 21500 entries, 0 to 21499\n",
      "Data columns (total 2 columns):\n",
      " #   Column  Non-Null Count  Dtype \n",
      "---  ------  --------------  ----- \n",
      " 0   Review  21500 non-null  object\n",
      " 1   Rating  21500 non-null  int64 \n",
      "dtypes: int64(1), object(1)\n",
      "memory usage: 336.1+ KB\n"
     ]
    }
   ],
   "source": [
    "data.info()"
   ]
  },
  {
   "cell_type": "markdown",
   "id": "d33a2459",
   "metadata": {},
   "source": [
    "### In case you want to sub divide the dataset into sub-sets of the same shape"
   ]
  },
  {
   "cell_type": "code",
   "execution_count": 222,
   "id": "1c576db4",
   "metadata": {},
   "outputs": [
    {
     "name": "stdout",
     "output_type": "stream",
     "text": [
      "                                                  Review Rating\n",
      "36990  mice room husband stayed museum hotel month st...      1\n",
      "10533  was there for wobi conference across the stree...      1\n",
      "35693  bad far outweighs good understand china expect...      1\n",
      "36360  terible experience birthday stayed hotel liana...      1\n",
      "15140  do yourself a huge favor and do not stay here ...      1\n",
      "...                                                  ...    ...\n",
      "26408  the hotel is well located on 8th avenue a shor...      1\n",
      "36402  hotel mithila mithila hotel not recommended re...      1\n",
      "32672  ive used premier inns for business for many ye...      1\n",
      "7653   i got a nice please check in email from hilton...      1\n",
      "18300  let me start from the top the young bell boy w...      1\n",
      "\n",
      "[4300 rows x 2 columns]\n",
      "                                                  Review Rating\n",
      "37775  needs improvement having stayed hotel 4 nights...      2\n",
      "37210  medium yes place mixed reviews depending revie...      2\n",
      "29985  small rooms and upon looking over the room a h...      2\n",
      "37569  needs improvements just got trip punta cana ju...      2\n",
      "18190  the room i was given smelled horrible like mol...      2\n",
      "...                                                  ...    ...\n",
      "19283  before leaving for the us visiting and staying...      2\n",
      "37989  fine not great just got spending week esj towe...      2\n",
      "37705  hotel lesuck parking fiasco lot really shady n...      2\n",
      "38467  dissapointed 2 nights thought 3 star hotel sug...      2\n",
      "29168  i loved the bowery and also the maritime and i...      2\n",
      "\n",
      "[4300 rows x 2 columns]\n",
      "                                                  Review Rating\n",
      "9851   i have stayed at this hotel several times for ...      3\n",
      "30754  the good part about the hotel is it is on the ...      3\n",
      "14417  the location is pretty good with a subway line...      3\n",
      "7963   front desk staff were friendly and helpful the...      3\n",
      "9424   im sorry but i would not recommend staying her...      3\n",
      "...                                                  ...    ...\n",
      "5438   the hotel is good for location and view and th...      3\n",
      "14264  excellent location and good value rooms are cl...      3\n",
      "14784  the hotel for the most part was clean having t...      3\n",
      "15663  i have booked one room on this hotel on pricel...      3\n",
      "30384  hotels in ny are very expensive park west hote...      3\n",
      "\n",
      "[4300 rows x 2 columns]\n",
      "                                                  Review Rating\n",
      "18562  very well located old hotel clean helpful staf...      4\n",
      "34184  nice hotel well located for tourists but most ...      4\n",
      "21846  the hotel is conveniently located near penn st...      4\n",
      "7322   had a great time as usual at the hilton they a...      4\n",
      "13959  this was a nice hotel and very conveniently lo...      4\n",
      "...                                                  ...    ...\n",
      "25166  we spent a night at the 1070room wyndham new y...      4\n",
      "27371  this hotel is in a great location for sightsee...      4\n",
      "21565  we spent 11 nights at new yorker hotel we live...      4\n",
      "4671   stayed for 1 night in april in a suite gorgeou...      4\n",
      "13014  we were 4 people and easily fit into the room ...      4\n",
      "\n",
      "[4300 rows x 2 columns]\n",
      "                                                  Review Rating\n",
      "5012   the rooms are very clean and comfortable the p...      5\n",
      "32886  set next to london eye great for sightseeing a...      5\n",
      "29041  i visited nyc in april i am a female in my lat...      5\n",
      "34111  excellent service and courtesy from the staff ...      5\n",
      "26473  we stayed as a family of 4 for 5 nights in apr...      5\n",
      "...                                                  ...    ...\n",
      "30101  love the new yorker hotel and especially their...      5\n",
      "33209  i recommend this hotel to everyone booked thro...      5\n",
      "23106  i stayed with my daughter in dec 2018 for a se...      5\n",
      "26512  clean hotel room was lovely beds comfy reasona...      5\n",
      "9977   the hilton hotel was fantasticmyself and a fri...      5\n",
      "\n",
      "[4300 rows x 2 columns]\n"
     ]
    }
   ],
   "source": [
    "for rating in range(1, 6):\n",
    "    # Filter the DataFrame to get only the reviews with the current rating\n",
    "    rating_df = data[data['Rating'] == rating]\n",
    "    \n",
    "    # Sample 4300 reviews from the filtered DataFrame and add them to the sampled DataFrame\n",
    "    sub_data = pd.DataFrame(rating_df.sample(n=4300, random_state=42))\n",
    "\n",
    "    # Write the DataFrame to a CSV file\n",
    "    sub_data.to_csv(f'sub_data_{rating}.csv', sep=';', index=False)\n",
    "print(\"Success\")"
   ]
  },
  {
   "cell_type": "markdown",
   "id": "8c1bc6d5",
   "metadata": {},
   "source": [
    "## Preprocessing the Text"
   ]
  },
  {
   "cell_type": "code",
   "execution_count": 3,
   "id": "3efd5c3f",
   "metadata": {},
   "outputs": [],
   "source": [
    "# Load the English NLP model\n",
    "nlp = spacy.load('en_core_web_sm')\n",
    "\n",
    "# Define stop words\n",
    "stop_words = spacy.lang.en.stop_words.STOP_WORDS"
   ]
  },
  {
   "cell_type": "code",
   "execution_count": 4,
   "id": "d14c5de2",
   "metadata": {},
   "outputs": [
    {
     "data": {
      "text/plain": [
       "<spacy.lang.en.English at 0x1f62b2563d0>"
      ]
     },
     "execution_count": 4,
     "metadata": {},
     "output_type": "execute_result"
    }
   ],
   "source": [
    "nlp"
   ]
  },
  {
   "cell_type": "markdown",
   "id": "92dd796c",
   "metadata": {},
   "source": [
    "### Lemmatization"
   ]
  },
  {
   "cell_type": "code",
   "execution_count": 234,
   "id": "f48c539f",
   "metadata": {},
   "outputs": [],
   "source": [
    "def preprocess_text(text):\n",
    "    # Parse the text with Spacy\n",
    "    doc = nlp(text)\n",
    "    \n",
    "    # Lemmatize the tokens and remove stop words\n",
    "    lemmas = [token.lemma_.lower() for token in doc if not token.is_stop]\n",
    "    \n",
    "    # Join the lemmas back into a string and return it\n",
    "    return \" \".join(lemmas)"
   ]
  },
  {
   "cell_type": "code",
   "execution_count": 235,
   "id": "da90ca82",
   "metadata": {},
   "outputs": [
    {
     "data": {
      "application/vnd.jupyter.widget-view+json": {
       "model_id": "2f34cf4443d64433868f639346ca2d46",
       "version_major": 2,
       "version_minor": 0
      },
      "text/plain": [
       "  0%|          | 0/21500 [00:00<?, ?it/s]"
      ]
     },
     "metadata": {},
     "output_type": "display_data"
    },
    {
     "name": "stdout",
     "output_type": "stream",
     "text": [
      "Wall time: 3min 50s\n"
     ]
    }
   ],
   "source": [
    "%%time\n",
    "\n",
    "tqdm.pandas()\n",
    "\n",
    "data['Review'] = data['Review'].progress_apply(preprocess_text)"
   ]
  },
  {
   "cell_type": "markdown",
   "id": "ff7f240e",
   "metadata": {},
   "source": [
    "### Remove unwanted information"
   ]
  },
  {
   "cell_type": "code",
   "execution_count": 5,
   "id": "56b61ec3",
   "metadata": {},
   "outputs": [],
   "source": [
    "def remove_URL (text):\n",
    "    url = re.compile(r\"https?://\\s+ www\\.\\s+\")\n",
    "    return url.sub(r\"\", text)\n",
    "\n",
    "\n",
    "def remove_html(text):\n",
    "    html = re.compile(r\"<.*?>\")\n",
    "    return html.sub(r\"\", text)\n",
    "         \n",
    "\n",
    "def remove_emoji(string):\n",
    "    emoji_pattern = re.compile(\n",
    "        \"[\"\n",
    "        u\"\\U0001F600-\\U0001F64F\" # emoticons\n",
    "        u\"\\U0001F300-\\U0001F5FF\" # symbols & pictographs\n",
    "        u\"\\U0001F680-\\U0001F6FF\" # transport & map symbols\n",
    "        u\"\\U0001F1E0-\\U0001F1FF\" # flags (i0s)\n",
    "        u\"\\U00002702-\\U000027B0\"\n",
    "        u\"\\U000024C2-\\U0001F251\"\n",
    "        \"]+\",\n",
    "        flags=re.UNICODE,\n",
    "    )\n",
    "    return emoji_pattern.sub(r\"\", string)\n",
    "\n",
    "\n",
    "def remove_punct (text):\n",
    "    table = str.maketrans (\"\",\"\",string.punctuation)\n",
    "    return text.translate(table)\n",
    "\n",
    "stop = set (stopwords.words ( \"english\"))\n",
    "def remove_stopwords (text):\n",
    "    text = [word.lower () for word in text.split() if word.lower() not in stop]\n",
    "    return \" \".join (text)"
   ]
  },
  {
   "cell_type": "code",
   "execution_count": 6,
   "id": "b003b517",
   "metadata": {},
   "outputs": [],
   "source": [
    "def cleanDataframe(df):\n",
    "    Review_cleaned = df.Review.map(lambda x: remove_URL(x))\n",
    "    Review_cleaned = Review_cleaned.map(lambda x: remove_html(x))\n",
    "    Review_cleaned = Review_cleaned.map(lambda x: remove_emoji(x))\n",
    "    Review_cleaned = Review_cleaned.map(lambda x: remove_punct(x)) \n",
    "    Review_cleaned = Review_cleaned.map(remove_stopwords)   \n",
    "    return Review_cleaned"
   ]
  },
  {
   "cell_type": "code",
   "execution_count": 53,
   "id": "d50dc970",
   "metadata": {},
   "outputs": [
    {
     "data": {
      "text/html": [
       "<div>\n",
       "<style scoped>\n",
       "    .dataframe tbody tr th:only-of-type {\n",
       "        vertical-align: middle;\n",
       "    }\n",
       "\n",
       "    .dataframe tbody tr th {\n",
       "        vertical-align: top;\n",
       "    }\n",
       "\n",
       "    .dataframe thead th {\n",
       "        text-align: right;\n",
       "    }\n",
       "</style>\n",
       "<table border=\"1\" class=\"dataframe\">\n",
       "  <thead>\n",
       "    <tr style=\"text-align: right;\">\n",
       "      <th></th>\n",
       "      <th>Review</th>\n",
       "      <th>Review_cleaned</th>\n",
       "      <th>Rating</th>\n",
       "    </tr>\n",
       "  </thead>\n",
       "  <tbody>\n",
       "    <tr>\n",
       "      <th>0</th>\n",
       "      <td>mice room husband stayed museum hotel month st...</td>\n",
       "      <td>mice room husband stayed museum hotel month st...</td>\n",
       "      <td>1</td>\n",
       "    </tr>\n",
       "    <tr>\n",
       "      <th>1</th>\n",
       "      <td>was there for wobi conference across the stree...</td>\n",
       "      <td>wobi conference across street lincoln center d...</td>\n",
       "      <td>1</td>\n",
       "    </tr>\n",
       "    <tr>\n",
       "      <th>2</th>\n",
       "      <td>bad far outweighs good understand china expect...</td>\n",
       "      <td>bad far outweighs good understand china expect...</td>\n",
       "      <td>1</td>\n",
       "    </tr>\n",
       "    <tr>\n",
       "      <th>3</th>\n",
       "      <td>terible experience birthday stayed hotel liana...</td>\n",
       "      <td>terible experience birthday stayed hotel liana...</td>\n",
       "      <td>1</td>\n",
       "    </tr>\n",
       "    <tr>\n",
       "      <th>4</th>\n",
       "      <td>do yourself a huge favor and do not stay here ...</td>\n",
       "      <td>huge favor stay dont even know begin vast majo...</td>\n",
       "      <td>1</td>\n",
       "    </tr>\n",
       "    <tr>\n",
       "      <th>...</th>\n",
       "      <td>...</td>\n",
       "      <td>...</td>\n",
       "      <td>...</td>\n",
       "    </tr>\n",
       "    <tr>\n",
       "      <th>21495</th>\n",
       "      <td>love the new yorker hotel and especially their...</td>\n",
       "      <td>love new yorker hotel especially staff employe...</td>\n",
       "      <td>5</td>\n",
       "    </tr>\n",
       "    <tr>\n",
       "      <th>21496</th>\n",
       "      <td>i recommend this hotel to everyone booked thro...</td>\n",
       "      <td>recommend hotel everyone booked lastminutecom ...</td>\n",
       "      <td>5</td>\n",
       "    </tr>\n",
       "    <tr>\n",
       "      <th>21497</th>\n",
       "      <td>i stayed with my daughter in dec 2018 for a se...</td>\n",
       "      <td>stayed daughter dec 2018 second time course st...</td>\n",
       "      <td>5</td>\n",
       "    </tr>\n",
       "    <tr>\n",
       "      <th>21498</th>\n",
       "      <td>clean hotel room was lovely beds comfy reasona...</td>\n",
       "      <td>clean hotel room lovely beds comfy reasonably ...</td>\n",
       "      <td>5</td>\n",
       "    </tr>\n",
       "    <tr>\n",
       "      <th>21499</th>\n",
       "      <td>the hilton hotel was fantasticmyself and a fri...</td>\n",
       "      <td>hilton hotel fantasticmyself friend stayed sep...</td>\n",
       "      <td>5</td>\n",
       "    </tr>\n",
       "  </tbody>\n",
       "</table>\n",
       "<p>21500 rows × 3 columns</p>\n",
       "</div>"
      ],
      "text/plain": [
       "                                                  Review  \\\n",
       "0      mice room husband stayed museum hotel month st...   \n",
       "1      was there for wobi conference across the stree...   \n",
       "2      bad far outweighs good understand china expect...   \n",
       "3      terible experience birthday stayed hotel liana...   \n",
       "4      do yourself a huge favor and do not stay here ...   \n",
       "...                                                  ...   \n",
       "21495  love the new yorker hotel and especially their...   \n",
       "21496  i recommend this hotel to everyone booked thro...   \n",
       "21497  i stayed with my daughter in dec 2018 for a se...   \n",
       "21498  clean hotel room was lovely beds comfy reasona...   \n",
       "21499  the hilton hotel was fantasticmyself and a fri...   \n",
       "\n",
       "                                          Review_cleaned  Rating  \n",
       "0      mice room husband stayed museum hotel month st...       1  \n",
       "1      wobi conference across street lincoln center d...       1  \n",
       "2      bad far outweighs good understand china expect...       1  \n",
       "3      terible experience birthday stayed hotel liana...       1  \n",
       "4      huge favor stay dont even know begin vast majo...       1  \n",
       "...                                                  ...     ...  \n",
       "21495  love new yorker hotel especially staff employe...       5  \n",
       "21496  recommend hotel everyone booked lastminutecom ...       5  \n",
       "21497  stayed daughter dec 2018 second time course st...       5  \n",
       "21498  clean hotel room lovely beds comfy reasonably ...       5  \n",
       "21499  hilton hotel fantasticmyself friend stayed sep...       5  \n",
       "\n",
       "[21500 rows x 3 columns]"
      ]
     },
     "execution_count": 53,
     "metadata": {},
     "output_type": "execute_result"
    }
   ],
   "source": [
    "#comparison of cleaned data and raw data\n",
    "df=[]\n",
    "df = data.copy()\n",
    "df.insert(1, \"Review_cleaned\", cleanDataframe(data))\n",
    "df"
   ]
  },
  {
   "cell_type": "code",
   "execution_count": 7,
   "id": "67ab181b",
   "metadata": {},
   "outputs": [
    {
     "data": {
      "text/html": [
       "<div>\n",
       "<style scoped>\n",
       "    .dataframe tbody tr th:only-of-type {\n",
       "        vertical-align: middle;\n",
       "    }\n",
       "\n",
       "    .dataframe tbody tr th {\n",
       "        vertical-align: top;\n",
       "    }\n",
       "\n",
       "    .dataframe thead th {\n",
       "        text-align: right;\n",
       "    }\n",
       "</style>\n",
       "<table border=\"1\" class=\"dataframe\">\n",
       "  <thead>\n",
       "    <tr style=\"text-align: right;\">\n",
       "      <th></th>\n",
       "      <th>Review</th>\n",
       "      <th>Rating</th>\n",
       "    </tr>\n",
       "  </thead>\n",
       "  <tbody>\n",
       "    <tr>\n",
       "      <th>0</th>\n",
       "      <td>mice room husband stayed museum hotel month st...</td>\n",
       "      <td>1</td>\n",
       "    </tr>\n",
       "    <tr>\n",
       "      <th>1</th>\n",
       "      <td>wobi conference across street lincoln center d...</td>\n",
       "      <td>1</td>\n",
       "    </tr>\n",
       "    <tr>\n",
       "      <th>2</th>\n",
       "      <td>bad far outweighs good understand china expect...</td>\n",
       "      <td>1</td>\n",
       "    </tr>\n",
       "    <tr>\n",
       "      <th>3</th>\n",
       "      <td>terible experience birthday stayed hotel liana...</td>\n",
       "      <td>1</td>\n",
       "    </tr>\n",
       "    <tr>\n",
       "      <th>4</th>\n",
       "      <td>huge favor stay dont even know begin vast majo...</td>\n",
       "      <td>1</td>\n",
       "    </tr>\n",
       "    <tr>\n",
       "      <th>...</th>\n",
       "      <td>...</td>\n",
       "      <td>...</td>\n",
       "    </tr>\n",
       "    <tr>\n",
       "      <th>21495</th>\n",
       "      <td>love new yorker hotel especially staff employe...</td>\n",
       "      <td>5</td>\n",
       "    </tr>\n",
       "    <tr>\n",
       "      <th>21496</th>\n",
       "      <td>recommend hotel everyone booked lastminutecom ...</td>\n",
       "      <td>5</td>\n",
       "    </tr>\n",
       "    <tr>\n",
       "      <th>21497</th>\n",
       "      <td>stayed daughter dec 2018 second time course st...</td>\n",
       "      <td>5</td>\n",
       "    </tr>\n",
       "    <tr>\n",
       "      <th>21498</th>\n",
       "      <td>clean hotel room lovely beds comfy reasonably ...</td>\n",
       "      <td>5</td>\n",
       "    </tr>\n",
       "    <tr>\n",
       "      <th>21499</th>\n",
       "      <td>hilton hotel fantasticmyself friend stayed sep...</td>\n",
       "      <td>5</td>\n",
       "    </tr>\n",
       "  </tbody>\n",
       "</table>\n",
       "<p>21500 rows × 2 columns</p>\n",
       "</div>"
      ],
      "text/plain": [
       "                                                  Review  Rating\n",
       "0      mice room husband stayed museum hotel month st...       1\n",
       "1      wobi conference across street lincoln center d...       1\n",
       "2      bad far outweighs good understand china expect...       1\n",
       "3      terible experience birthday stayed hotel liana...       1\n",
       "4      huge favor stay dont even know begin vast majo...       1\n",
       "...                                                  ...     ...\n",
       "21495  love new yorker hotel especially staff employe...       5\n",
       "21496  recommend hotel everyone booked lastminutecom ...       5\n",
       "21497  stayed daughter dec 2018 second time course st...       5\n",
       "21498  clean hotel room lovely beds comfy reasonably ...       5\n",
       "21499  hilton hotel fantasticmyself friend stayed sep...       5\n",
       "\n",
       "[21500 rows x 2 columns]"
      ]
     },
     "execution_count": 7,
     "metadata": {},
     "output_type": "execute_result"
    }
   ],
   "source": [
    "#data cleaning\n",
    "data.Review = cleanDataframe(data)\n",
    "data"
   ]
  },
  {
   "cell_type": "markdown",
   "id": "aebab243",
   "metadata": {},
   "source": [
    "## Commonly Used Words"
   ]
  },
  {
   "cell_type": "code",
   "execution_count": 56,
   "id": "95a0227b",
   "metadata": {},
   "outputs": [],
   "source": [
    "# Concatenate all tweet texts into a single string\n",
    "all_text = ' '.join(data['Review'].values)"
   ]
  },
  {
   "cell_type": "code",
   "execution_count": 57,
   "id": "a5cbd02c",
   "metadata": {},
   "outputs": [],
   "source": [
    "# Split the text into individual words\n",
    "words = all_text.split()"
   ]
  },
  {
   "cell_type": "code",
   "execution_count": 58,
   "id": "4d1d9191",
   "metadata": {},
   "outputs": [],
   "source": [
    "# Count the frequency of each word\n",
    "word_counts = Counter(words)"
   ]
  },
  {
   "cell_type": "code",
   "execution_count": 59,
   "id": "4062cbbf",
   "metadata": {},
   "outputs": [
    {
     "data": {
      "text/plain": [
       "[('room', 29772),\n",
       " ('hotel', 29257),\n",
       " ('staff', 10833),\n",
       " ('stay', 10036),\n",
       " ('rooms', 9220),\n",
       " ('great', 8932),\n",
       " ('good', 8140),\n",
       " ('location', 7982),\n",
       " ('clean', 6578),\n",
       " ('stayed', 6475),\n",
       " ('night', 6248),\n",
       " ('nice', 6121),\n",
       " ('would', 5757),\n",
       " ('service', 5696),\n",
       " ('time', 5692),\n",
       " ('small', 5611),\n",
       " ('us', 5228),\n",
       " ('like', 4982),\n",
       " ('day', 4975),\n",
       " ('one', 4940),\n",
       " ('desk', 4702),\n",
       " ('bathroom', 4605),\n",
       " ('bed', 4469),\n",
       " ('place', 4283),\n",
       " ('really', 4252),\n",
       " ('new', 4152),\n",
       " ('friendly', 4108),\n",
       " ('get', 4028),\n",
       " ('breakfast', 3915),\n",
       " ('floor', 3904),\n",
       " ('nt', 3880),\n",
       " ('got', 3769),\n",
       " ('2', 3435),\n",
       " ('walk', 3399),\n",
       " ('helpful', 3368),\n",
       " ('check', 3277),\n",
       " ('also', 3212),\n",
       " ('people', 3203),\n",
       " ('food', 3171),\n",
       " ('could', 3108),\n",
       " ('told', 3092),\n",
       " ('front', 3064),\n",
       " ('shower', 3035),\n",
       " ('water', 2973),\n",
       " ('nights', 2962),\n",
       " ('booked', 2917),\n",
       " ('lobby', 2892),\n",
       " ('view', 2860),\n",
       " ('area', 2824),\n",
       " ('even', 2802)]"
      ]
     },
     "execution_count": 59,
     "metadata": {},
     "output_type": "execute_result"
    }
   ],
   "source": [
    "top_words = word_counts.most_common(50)\n",
    "top_words"
   ]
  },
  {
   "cell_type": "code",
   "execution_count": 60,
   "id": "053c4ed2",
   "metadata": {},
   "outputs": [
    {
     "data": {
      "image/png": "[encoded data removed]",
      "text/plain": [
       "<Figure size 640x480 with 1 Axes>"
      ]
     },
     "metadata": {},
     "output_type": "display_data"
    }
   ],
   "source": [
    "# Create a bar chart of the most common words\n",
    "top_words = word_counts.most_common(10) # Change the number to show more/less words\n",
    "x_values = [word[0] for word in top_words]\n",
    "y_values = [word[1] for word in top_words]\n",
    "plt.bar(x_values, y_values)\n",
    "plt.xlabel('Word')\n",
    "plt.ylabel('Frequency')\n",
    "plt.title('Most Commonly Used Words')\n",
    "plt.show()"
   ]
  },
  {
   "cell_type": "markdown",
   "id": "75924794",
   "metadata": {},
   "source": [
    "### Note:\n",
    "It wasn't really important to remove some frequently used words like 'room' and 'hotel' since models already handel that situation by ignoring words that are used in all classes"
   ]
  },
  {
   "cell_type": "markdown",
   "id": "0d0f8021",
   "metadata": {},
   "source": [
    "## Converting Text into Numerical Features / Vectorization"
   ]
  },
  {
   "cell_type": "code",
   "execution_count": 8,
   "id": "754e369b",
   "metadata": {},
   "outputs": [],
   "source": [
    "from sklearn.feature_extraction.text import TfidfVectorizer\n",
    "\n",
    "vectorizer = TfidfVectorizer()\n",
    "X = vectorizer.fit_transform(data['Review'])\n",
    "y = data['Rating']"
   ]
  },
  {
   "cell_type": "markdown",
   "id": "04845926",
   "metadata": {},
   "source": [
    "## Class Distributions"
   ]
  },
  {
   "cell_type": "code",
   "execution_count": 64,
   "id": "8d27fc88",
   "metadata": {},
   "outputs": [
    {
     "data": {
      "image/png": "[encoded data removed]",
      "text/plain": [
       "<Figure size 640x480 with 1 Axes>"
      ]
     },
     "metadata": {},
     "output_type": "display_data"
    }
   ],
   "source": [
    "# Count the number of instances in each class\n",
    "class_counts = data['Rating'].value_counts()\n",
    "class_counts.plot.bar()\n",
    "plt.title('Class Distribution')\n",
    "plt.xlabel('Rating')\n",
    "plt.ylabel('Count')\n",
    "plt.show()"
   ]
  },
  {
   "cell_type": "markdown",
   "id": "1f23baaa",
   "metadata": {},
   "source": [
    "# Machine Learning Models"
   ]
  },
  {
   "cell_type": "code",
   "execution_count": 9,
   "id": "7d222b4f",
   "metadata": {},
   "outputs": [],
   "source": [
    "from sklearn.model_selection import train_test_split\n",
    "from sklearn.metrics import accuracy_score, f1_score, recall_score, precision_score, confusion_matrix,confusion_matrix, ConfusionMatrixDisplay\n",
    "from sklearn.model_selection import cross_val_score, KFold\n",
    "\n",
    "X_train, X_test, y_train, y_test = train_test_split(X, y, test_size=0.2,  random_state=42)"
   ]
  },
  {
   "cell_type": "code",
   "execution_count": 10,
   "id": "57420ed3",
   "metadata": {},
   "outputs": [],
   "source": [
    "def cross_validation(model, X, y, folds):\n",
    "    # Define your cross-validation strategy\n",
    "    cv = KFold(n_splits=folds, shuffle=True, random_state=42)\n",
    "    \n",
    "    accuracies = cross_val_score(model, X, y, cv=cv, scoring='accuracy')\n",
    "    accuracies = pd.Series(accuracies)\n",
    "    print(\"Accuracy : min=\", accuracies.min()*100, \"%  max=\", accuracies.max()*100, \"%  mean=\", accuracies.mean()*100, \"%\")\n",
    "\n",
    "    precisions = cross_val_score(model, X, y, cv=cv, scoring='precision_macro')\n",
    "    print(\"Precisions : min=\", precisions.min()*100, \"%  max=\",precisions.max()*100, \"%  mean=\", precisions.mean()*100, \"%\")\n",
    "    \n",
    "    f1_scores = cross_val_score(model, X, y, cv=cv, scoring='f1_macro')\n",
    "    print(\"F1_score : min=\", f1_scores.min()*100, \"%  max=\",f1_scores.max()*100, \"%  mean=\",f1_scores.mean())\n",
    "    \n",
    "    y_pred = cross_val_predict(model, X, y, cv=cv)\n",
    "\n",
    "    cm = confusion_matrix(y, y_pred)\n",
    "\n",
    "    cm_display = ConfusionMatrixDisplay(cm).plot()\n"
   ]
  },
  {
   "cell_type": "markdown",
   "id": "855e3aca",
   "metadata": {},
   "source": [
    "## Support Vector Machines"
   ]
  },
  {
   "cell_type": "code",
   "execution_count": 11,
   "id": "e0927331",
   "metadata": {},
   "outputs": [
    {
     "data": {
      "text/plain": [
       "SVC(kernel='linear')"
      ]
     },
     "execution_count": 11,
     "metadata": {},
     "output_type": "execute_result"
    }
   ],
   "source": [
    "from sklearn import svm\n",
    "\n",
    "# train an SVM model\n",
    "svmModel = svm.SVC(kernel='linear')\n",
    "\n",
    "svmModel"
   ]
  },
  {
   "cell_type": "markdown",
   "id": "3747cc71",
   "metadata": {},
   "source": [
    "### Cross-Validation approach"
   ]
  },
  {
   "cell_type": "code",
   "execution_count": 13,
   "id": "c2381b25",
   "metadata": {},
   "outputs": [
    {
     "name": "stdout",
     "output_type": "stream",
     "text": [
      "Accuracy : min= 56.74418604651162 %  max= 58.93023255813954 %  mean= 58.069767441860456 %\n",
      "Precisions : min= 56.68222890133505 %  max= 58.96934402267815 %  mean= 58.135864278562366 %\n",
      "F1_score : min= 56.60409889100464 %  max= 58.93377752893934 %  mean= 0.5803084404760577\n"
     ]
    },
    {
     "ename": "NameError",
     "evalue": "name 'cross_val_predict' is not defined",
     "output_type": "error",
     "traceback": [
      "\u001b[1;31m---------------------------------------------------------------------------\u001b[0m",
      "\u001b[1;31mNameError\u001b[0m                                 Traceback (most recent call last)",
      "\u001b[1;32m~\\AppData\\Local\\Temp\\ipykernel_2284\\562237647.py\u001b[0m in \u001b[0;36m<module>\u001b[1;34m\u001b[0m\n\u001b[1;32m----> 1\u001b[1;33m \u001b[0mcross_validation\u001b[0m\u001b[1;33m(\u001b[0m\u001b[0msvmModel\u001b[0m\u001b[1;33m,\u001b[0m \u001b[0mX\u001b[0m\u001b[1;33m,\u001b[0m \u001b[0my\u001b[0m\u001b[1;33m,\u001b[0m \u001b[1;36m5\u001b[0m\u001b[1;33m)\u001b[0m\u001b[1;33m\u001b[0m\u001b[1;33m\u001b[0m\u001b[0m\n\u001b[0m",
      "\u001b[1;32m~\\AppData\\Local\\Temp\\ipykernel_2284\\1375399492.py\u001b[0m in \u001b[0;36mcross_validation\u001b[1;34m(model, X, y, folds)\u001b[0m\n\u001b[0;32m     13\u001b[0m     \u001b[0mprint\u001b[0m\u001b[1;33m(\u001b[0m\u001b[1;34m\"F1_score : min=\"\u001b[0m\u001b[1;33m,\u001b[0m \u001b[0mf1_scores\u001b[0m\u001b[1;33m.\u001b[0m\u001b[0mmin\u001b[0m\u001b[1;33m(\u001b[0m\u001b[1;33m)\u001b[0m\u001b[1;33m*\u001b[0m\u001b[1;36m100\u001b[0m\u001b[1;33m,\u001b[0m \u001b[1;34m\"%  max=\"\u001b[0m\u001b[1;33m,\u001b[0m\u001b[0mf1_scores\u001b[0m\u001b[1;33m.\u001b[0m\u001b[0mmax\u001b[0m\u001b[1;33m(\u001b[0m\u001b[1;33m)\u001b[0m\u001b[1;33m*\u001b[0m\u001b[1;36m100\u001b[0m\u001b[1;33m,\u001b[0m \u001b[1;34m\"%  mean=\"\u001b[0m\u001b[1;33m,\u001b[0m\u001b[0mf1_scores\u001b[0m\u001b[1;33m.\u001b[0m\u001b[0mmean\u001b[0m\u001b[1;33m(\u001b[0m\u001b[1;33m)\u001b[0m\u001b[1;33m)\u001b[0m\u001b[1;33m\u001b[0m\u001b[1;33m\u001b[0m\u001b[0m\n\u001b[0;32m     14\u001b[0m \u001b[1;33m\u001b[0m\u001b[0m\n\u001b[1;32m---> 15\u001b[1;33m     \u001b[0my_pred\u001b[0m \u001b[1;33m=\u001b[0m \u001b[0mcross_val_predict\u001b[0m\u001b[1;33m(\u001b[0m\u001b[0mmodel\u001b[0m\u001b[1;33m,\u001b[0m \u001b[0mX\u001b[0m\u001b[1;33m,\u001b[0m \u001b[0my\u001b[0m\u001b[1;33m,\u001b[0m \u001b[0mcv\u001b[0m\u001b[1;33m=\u001b[0m\u001b[0mcv\u001b[0m\u001b[1;33m)\u001b[0m\u001b[1;33m\u001b[0m\u001b[1;33m\u001b[0m\u001b[0m\n\u001b[0m\u001b[0;32m     16\u001b[0m \u001b[1;33m\u001b[0m\u001b[0m\n\u001b[0;32m     17\u001b[0m     \u001b[0mcm\u001b[0m \u001b[1;33m=\u001b[0m \u001b[0mconfusion_matrix\u001b[0m\u001b[1;33m(\u001b[0m\u001b[0my\u001b[0m\u001b[1;33m,\u001b[0m \u001b[0my_pred\u001b[0m\u001b[1;33m)\u001b[0m\u001b[1;33m\u001b[0m\u001b[1;33m\u001b[0m\u001b[0m\n",
      "\u001b[1;31mNameError\u001b[0m: name 'cross_val_predict' is not defined"
     ]
    }
   ],
   "source": [
    "cross_validation(svmModel, X, y, 5)"
   ]
  },
  {
   "cell_type": "markdown",
   "id": "037d97af",
   "metadata": {},
   "source": [
    "### Hold-Out approach "
   ]
  },
  {
   "cell_type": "code",
   "execution_count": 12,
   "id": "cc130c22",
   "metadata": {},
   "outputs": [
    {
     "data": {
      "text/plain": [
       "SVC(kernel='linear')"
      ]
     },
     "execution_count": 12,
     "metadata": {},
     "output_type": "execute_result"
    }
   ],
   "source": [
    "svmModel.fit(X_train, y_train)"
   ]
  },
  {
   "cell_type": "code",
   "execution_count": 13,
   "id": "9331e5dd",
   "metadata": {},
   "outputs": [
    {
     "data": {
      "text/plain": [
       "array([5, 3, 4, ..., 1, 4, 4], dtype=int64)"
      ]
     },
     "execution_count": 13,
     "metadata": {},
     "output_type": "execute_result"
    }
   ],
   "source": [
    "y_pred = svmModel.predict(X_test)\n",
    "y_pred"
   ]
  },
  {
   "cell_type": "code",
   "execution_count": 14,
   "id": "0e80abb7",
   "metadata": {},
   "outputs": [
    {
     "name": "stdout",
     "output_type": "stream",
     "text": [
      "Accuracy: 58.651162790697676 %\n",
      "precision score: 58.725426707264546 %\n",
      "f1score: 58.68054035755883 %\n",
      "[[601 184  49   4   4]\n",
      " [244 432 162  27   7]\n",
      " [ 89 128 454 162  28]\n",
      " [ 11  30 218 443 183]\n",
      " [  6  11  32 199 592]]\n"
     ]
    },
    {
     "data": {
      "image/png": "[encoded data removed]",
      "text/plain": [
       "<Figure size 640x480 with 2 Axes>"
      ]
     },
     "metadata": {},
     "output_type": "display_data"
    }
   ],
   "source": [
    "acc = accuracy_score(y_test, y_pred)\n",
    "precision = precision_score(y_test, y_pred, average='macro')\n",
    "f1 = f1_score(y_test, y_pred, average='macro')\n",
    "print(\"Accuracy:\", acc*100, \"%\")\n",
    "print(\"precision score:\", precision*100, \"%\")\n",
    "print(\"f1score:\", f1*100, \"%\")\n",
    "print(confusion_matrix(y_test, y_pred))\n",
    "\n",
    "cm = confusion_matrix(y_test, y_pred)\n",
    "\n",
    "cm_display = ConfusionMatrixDisplay(cm).plot()"
   ]
  },
  {
   "cell_type": "markdown",
   "id": "80e68348",
   "metadata": {},
   "source": [
    "## Multinomial Naive Bayes Model"
   ]
  },
  {
   "cell_type": "code",
   "execution_count": 71,
   "id": "2efc99f0",
   "metadata": {},
   "outputs": [],
   "source": [
    "from sklearn.naive_bayes import MultinomialNB\n",
    "# train a Naive Bayes classifier\n",
    "mnb = MultinomialNB()"
   ]
  },
  {
   "cell_type": "code",
   "execution_count": 72,
   "id": "3b68d272",
   "metadata": {},
   "outputs": [
    {
     "data": {
      "text/plain": [
       "MultinomialNB()"
      ]
     },
     "execution_count": 72,
     "metadata": {},
     "output_type": "execute_result"
    }
   ],
   "source": [
    "mnb.fit(X_train, y_train)"
   ]
  },
  {
   "cell_type": "code",
   "execution_count": 13,
   "id": "9d5b3243",
   "metadata": {},
   "outputs": [
    {
     "data": {
      "text/plain": [
       "array([4, 3, 4, ..., 3, 3, 4], dtype=int64)"
      ]
     },
     "execution_count": 13,
     "metadata": {},
     "output_type": "execute_result"
    }
   ],
   "source": [
    "# evaluate the classifier on the test set\n",
    "y_pred = mnb.predict(X_test)\n",
    "y_pred"
   ]
  },
  {
   "cell_type": "code",
   "execution_count": 15,
   "id": "fd090c3a",
   "metadata": {},
   "outputs": [
    {
     "name": "stdout",
     "output_type": "stream",
     "text": [
      "Accuracy: 58.395348837209305 %\n",
      "f1score: 58.7704362913961 %\n",
      "[[538 208  90   4   2]\n",
      " [200 424 212  28   8]\n",
      " [ 73  90 468 211  19]\n",
      " [ 14  23 194 514 140]\n",
      " [  6   5  23 239 567]]\n"
     ]
    },
    {
     "data": {
      "image/png": "[encoded data removed]",
      "text/plain": [
       "<Figure size 640x480 with 2 Axes>"
      ]
     },
     "metadata": {},
     "output_type": "display_data"
    }
   ],
   "source": [
    "acc_naivebayes = accuracy_score(y_test, y_pred)\n",
    "precision = precision_score(y_test, y_pred, average='macro')\n",
    "f1 = f1_score(y_test, y_pred, average='macro')\n",
    "print(\"Accuracy:\", acc*100, \"%\")\n",
    "print(\"precision score:\", precision*100, \"%\")\n",
    "print(\"f1score:\", f1*100, \"%\")\n",
    "print(confusion_matrix(y_test, y_pred))\n",
    "\n",
    "cm = confusion_matrix(y_test, y_pred)\n",
    "\n",
    "cm_display = ConfusionMatrixDisplay(cm).plot()"
   ]
  },
  {
   "cell_type": "code",
   "execution_count": 27,
   "id": "019a2165",
   "metadata": {},
   "outputs": [],
   "source": []
  },
  {
   "cell_type": "code",
   "execution_count": 87,
   "id": "24e00446",
   "metadata": {
    "scrolled": true
   },
   "outputs": [
    {
     "name": "stdout",
     "output_type": "stream",
     "text": [
      "Accuracy : min= 50.93023255813953 %  max= 63.0232558139535 %  mean= 56.81860465116277 %\n",
      "Precisions : min= 52.59074333134887 %  max= 63.97685902448861 %  mean= 58.363154018571564 %\n",
      "F1_score : min= 51.425358113517184 %  max= 62.56974210587429 %  mean= 0.5707338289520523\n"
     ]
    }
   ],
   "source": [
    "cross_validation(mnb, X, y, 50)"
   ]
  },
  {
   "cell_type": "markdown",
   "id": "8b61a7c1",
   "metadata": {},
   "source": [
    "## Decision Tree"
   ]
  },
  {
   "cell_type": "code",
   "execution_count": 15,
   "id": "4b36aaed",
   "metadata": {},
   "outputs": [],
   "source": [
    "from sklearn import tree"
   ]
  },
  {
   "cell_type": "code",
   "execution_count": 16,
   "id": "8a51bda4",
   "metadata": {},
   "outputs": [],
   "source": [
    "dtc = tree.DecisionTreeClassifier()"
   ]
  },
  {
   "cell_type": "code",
   "execution_count": 17,
   "id": "5021be2e",
   "metadata": {},
   "outputs": [
    {
     "name": "stdout",
     "output_type": "stream",
     "text": [
      "Wall time: 9.02 s\n"
     ]
    },
    {
     "data": {
      "text/plain": [
       "DecisionTreeClassifier()"
      ]
     },
     "execution_count": 17,
     "metadata": {},
     "output_type": "execute_result"
    }
   ],
   "source": [
    "%%time\n",
    "dtc.fit(X_train, y_train)"
   ]
  },
  {
   "cell_type": "code",
   "execution_count": 18,
   "id": "935e28e9",
   "metadata": {},
   "outputs": [],
   "source": [
    "# evaluate the classifier on the test set\n",
    "y_pred = dtc.predict(X_test)"
   ]
  },
  {
   "cell_type": "code",
   "execution_count": 265,
   "id": "a20171da",
   "metadata": {},
   "outputs": [
    {
     "data": {
      "text/plain": [
       "array([3, 4, 5, ..., 4, 3, 3], dtype=int64)"
      ]
     },
     "execution_count": 265,
     "metadata": {},
     "output_type": "execute_result"
    }
   ],
   "source": [
    "y_pred"
   ]
  },
  {
   "cell_type": "code",
   "execution_count": 22,
   "id": "cc9a1469",
   "metadata": {},
   "outputs": [
    {
     "name": "stdout",
     "output_type": "stream",
     "text": [
      "Accuracy: 41.651162790697676 %\n",
      "precision score: 41.49670731773796 %\n",
      "f1 score: 41.608605531733396 %\n",
      "[[467 215  93  38  29]\n",
      " [254 328 137  86  67]\n",
      " [115 145 283 193 125]\n",
      " [ 53  76 229 306 221]\n",
      " [ 39  55 120 219 407]]\n"
     ]
    }
   ],
   "source": [
    "acc = accuracy_score(y_test, y_pred)\n",
    "precision = precision_score(y_test, y_pred, average='macro')\n",
    "f1 = f1_score(y_test, y_pred, average='macro')\n",
    "print(\"Accuracy:\", acc*100, \"%\")\n",
    "print(\"precision score:\", precision*100, \"%\")\n",
    "print(\"f1 score:\", f1*100, \"%\")\n",
    "print(confusion_matrix(y_test, y_pred))"
   ]
  },
  {
   "cell_type": "code",
   "execution_count": 20,
   "id": "4f4a7c7d",
   "metadata": {},
   "outputs": [
    {
     "data": {
      "image/png": "[encoded data removed]",
      "text/plain": [
       "<Figure size 640x480 with 2 Axes>"
      ]
     },
     "metadata": {},
     "output_type": "display_data"
    }
   ],
   "source": [
    "cm = confusion_matrix(y_test, y_pred)\n",
    "\n",
    "cm_display = ConfusionMatrixDisplay(cm).plot()"
   ]
  },
  {
   "cell_type": "code",
   "execution_count": 32,
   "id": "7aa489c5",
   "metadata": {},
   "outputs": [
    {
     "name": "stdout",
     "output_type": "stream",
     "text": [
      "Accuracy : min= 0.39325581395348835   max= 0.4211627906976744   moyenne= 0.41162790697674423\n",
      "Precisions : min= 0.8836130835473422   max= 0.8836130835473422   moyenne= 0.8836130835473422\n",
      "F1_score : min= 0.8836298440904896   max= 0.8836298440904896   moyenne= 0.8836298440904896\n"
     ]
    }
   ],
   "source": [
    "cross_validation(dtc, X, y)"
   ]
  },
  {
   "cell_type": "markdown",
   "id": "a373afc5",
   "metadata": {},
   "source": [
    "## Random Forest"
   ]
  },
  {
   "cell_type": "code",
   "execution_count": 15,
   "id": "e0e628b7",
   "metadata": {},
   "outputs": [],
   "source": [
    "from sklearn.ensemble import RandomForestClassifier"
   ]
  },
  {
   "cell_type": "code",
   "execution_count": 16,
   "id": "d0afc23f",
   "metadata": {},
   "outputs": [],
   "source": [
    "rfc = RandomForestClassifier(random_state=0)"
   ]
  },
  {
   "cell_type": "code",
   "execution_count": 17,
   "id": "c5c70e9d",
   "metadata": {},
   "outputs": [
    {
     "name": "stdout",
     "output_type": "stream",
     "text": [
      "Wall time: 40.4 s\n"
     ]
    },
    {
     "data": {
      "text/plain": [
       "RandomForestClassifier(random_state=0)"
      ]
     },
     "execution_count": 17,
     "metadata": {},
     "output_type": "execute_result"
    }
   ],
   "source": [
    "%%time\n",
    "rfc.fit(X_train, y_train)"
   ]
  },
  {
   "cell_type": "code",
   "execution_count": 18,
   "id": "bc92628d",
   "metadata": {},
   "outputs": [],
   "source": [
    "# evaluate the classifier on the test set\n",
    "y_pred = rfc.predict(X_test)"
   ]
  },
  {
   "cell_type": "code",
   "execution_count": 19,
   "id": "2bf39332",
   "metadata": {},
   "outputs": [
    {
     "data": {
      "text/plain": [
       "array([5, 3, 4, ..., 1, 4, 5], dtype=int64)"
      ]
     },
     "execution_count": 19,
     "metadata": {},
     "output_type": "execute_result"
    }
   ],
   "source": [
    "y_pred"
   ]
  },
  {
   "cell_type": "code",
   "execution_count": 21,
   "id": "080e0b23",
   "metadata": {},
   "outputs": [
    {
     "name": "stdout",
     "output_type": "stream",
     "text": [
      "Accuracy: 54.81395348837209 %\n",
      "precision score: 54.75676209481304 %\n",
      "f1 score: 53.6706758693 %\n",
      "[[658 114  44  11  15]\n",
      " [350 300 145  38  39]\n",
      " [145  66 386 193  71]\n",
      " [ 39  22 172 384 268]\n",
      " [ 19   5  25 162 629]]\n"
     ]
    }
   ],
   "source": [
    "acc = accuracy_score(y_test, y_pred)\n",
    "precision = precision_score(y_test, y_pred, average='macro')\n",
    "f1 = f1_score(y_test, y_pred, average='macro')\n",
    "print(\"Accuracy:\", acc*100, \"%\")\n",
    "print(\"precision score:\", precision*100, \"%\")\n",
    "print(\"f1 score:\", f1*100, \"%\")\n",
    "print(confusion_matrix(y_test, y_pred))"
   ]
  },
  {
   "cell_type": "code",
   "execution_count": 22,
   "id": "f47d450b",
   "metadata": {},
   "outputs": [
    {
     "data": {
      "image/png": "[encoded data removed]",
      "text/plain": [
       "<Figure size 640x480 with 2 Axes>"
      ]
     },
     "metadata": {},
     "output_type": "display_data"
    }
   ],
   "source": [
    "cm = confusion_matrix(y_test, y_pred)\n",
    "\n",
    "cm_display = ConfusionMatrixDisplay(cm).plot()"
   ]
  },
  {
   "cell_type": "code",
   "execution_count": null,
   "id": "17227a5e",
   "metadata": {},
   "outputs": [],
   "source": [
    "#Affichage résumé des entrainements de modèles\n",
    "summary = pd.DataFrame(columns=['File Name','Size','Category 1','Category 2','Category 3','Category 4','Category 5','Lemmatization',''])"
   ]
  }
 ],
 "metadata": {
  "kernelspec": {
   "display_name": "Python 3 (ipykernel)",
   "language": "python",
   "name": "python3"
  },
  "language_info": {
   "codemirror_mode": {
    "name": "ipython",
    "version": 3
   },
   "file_extension": ".py",
   "mimetype": "text/x-python",
   "name": "python",
   "nbconvert_exporter": "python",
   "pygments_lexer": "ipython3",
   "version": "3.9.13"
  }
 },
 "nbformat": 4,
 "nbformat_minor": 5
}
