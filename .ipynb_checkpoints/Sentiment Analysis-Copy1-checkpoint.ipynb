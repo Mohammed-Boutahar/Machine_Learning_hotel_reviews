{
 "cells": [
  {
   "cell_type": "code",
   "execution_count": null,
   "id": "beb1612f",
   "metadata": {},
   "outputs": [],
   "source": [
    "!pip install -U imbalanced-learn\n",
    "!pip install spacy\n",
    "!python -m spacy download en_core_web_sm"
   ]
  },
  {
   "cell_type": "code",
   "execution_count": 1,
   "id": "ab5a706e",
   "metadata": {},
   "outputs": [],
   "source": [
    "import pandas as pd\n",
    "import matplotlib.pyplot as plt\n",
    "\n",
    "from collections import Counter\n",
    "import re\n",
    "\n",
    "from sklearn.model_selection import train_test_split\n",
    "\n",
    "from imblearn.over_sampling import SMOTE\n",
    "\n",
    "import string\n",
    "\n",
    "import spacy\n",
    "from tqdm.auto import tqdm\n",
    "import time"
   ]
  },
  {
   "cell_type": "code",
   "execution_count": 2,
   "id": "4f50836e",
   "metadata": {},
   "outputs": [],
   "source": [
    "data = pd.read_csv(\"very_good_reviews.csv\", sep=\";\", on_bad_lines=\"skip\")"
   ]
  },
  {
   "cell_type": "code",
   "execution_count": 3,
   "id": "87694071",
   "metadata": {},
   "outputs": [
    {
     "data": {
      "text/html": [
       "<div>\n",
       "<style scoped>\n",
       "    .dataframe tbody tr th:only-of-type {\n",
       "        vertical-align: middle;\n",
       "    }\n",
       "\n",
       "    .dataframe tbody tr th {\n",
       "        vertical-align: top;\n",
       "    }\n",
       "\n",
       "    .dataframe thead th {\n",
       "        text-align: right;\n",
       "    }\n",
       "</style>\n",
       "<table border=\"1\" class=\"dataframe\">\n",
       "  <thead>\n",
       "    <tr style=\"text-align: right;\">\n",
       "      <th></th>\n",
       "      <th>Review</th>\n",
       "      <th>Rating</th>\n",
       "    </tr>\n",
       "  </thead>\n",
       "  <tbody>\n",
       "    <tr>\n",
       "      <th>0</th>\n",
       "      <td>Hollywood Hotel sure lives up to its name.  Yo...</td>\n",
       "      <td>5</td>\n",
       "    </tr>\n",
       "    <tr>\n",
       "      <th>1</th>\n",
       "      <td>We had a reservation at this hotel this weeken...</td>\n",
       "      <td>5</td>\n",
       "    </tr>\n",
       "    <tr>\n",
       "      <th>2</th>\n",
       "      <td>We were mostly happy with our stay here. The s...</td>\n",
       "      <td>4</td>\n",
       "    </tr>\n",
       "    <tr>\n",
       "      <th>3</th>\n",
       "      <td>Pil give us great customer service. He took go...</td>\n",
       "      <td>5</td>\n",
       "    </tr>\n",
       "    <tr>\n",
       "      <th>4</th>\n",
       "      <td>Very friendly staff. Daniel did an excellent j...</td>\n",
       "      <td>5</td>\n",
       "    </tr>\n",
       "    <tr>\n",
       "      <th>5</th>\n",
       "      <td>Daniel made me feel very comfortable and welco...</td>\n",
       "      <td>5</td>\n",
       "    </tr>\n",
       "    <tr>\n",
       "      <th>6</th>\n",
       "      <td>We needed bag storage, early check in, and bag...</td>\n",
       "      <td>5</td>\n",
       "    </tr>\n",
       "    <tr>\n",
       "      <th>7</th>\n",
       "      <td>We have stayed at this hotel three times now a...</td>\n",
       "      <td>5</td>\n",
       "    </tr>\n",
       "    <tr>\n",
       "      <th>8</th>\n",
       "      <td>The Hollywood Hotel is the place to stay when ...</td>\n",
       "      <td>5</td>\n",
       "    </tr>\n",
       "    <tr>\n",
       "      <th>9</th>\n",
       "      <td>I love Pil he’s the best so sweet and always h...</td>\n",
       "      <td>5</td>\n",
       "    </tr>\n",
       "  </tbody>\n",
       "</table>\n",
       "</div>"
      ],
      "text/plain": [
       "                                              Review  Rating\n",
       "0  Hollywood Hotel sure lives up to its name.  Yo...       5\n",
       "1  We had a reservation at this hotel this weeken...       5\n",
       "2  We were mostly happy with our stay here. The s...       4\n",
       "3  Pil give us great customer service. He took go...       5\n",
       "4  Very friendly staff. Daniel did an excellent j...       5\n",
       "5  Daniel made me feel very comfortable and welco...       5\n",
       "6  We needed bag storage, early check in, and bag...       5\n",
       "7  We have stayed at this hotel three times now a...       5\n",
       "8  The Hollywood Hotel is the place to stay when ...       5\n",
       "9  I love Pil he’s the best so sweet and always h...       5"
      ]
     },
     "execution_count": 3,
     "metadata": {},
     "output_type": "execute_result"
    }
   ],
   "source": [
    "data.head(10)"
   ]
  },
  {
   "cell_type": "code",
   "execution_count": 4,
   "id": "2297447f",
   "metadata": {},
   "outputs": [
    {
     "data": {
      "text/html": [
       "<div>\n",
       "<style scoped>\n",
       "    .dataframe tbody tr th:only-of-type {\n",
       "        vertical-align: middle;\n",
       "    }\n",
       "\n",
       "    .dataframe tbody tr th {\n",
       "        vertical-align: top;\n",
       "    }\n",
       "\n",
       "    .dataframe thead th {\n",
       "        text-align: right;\n",
       "    }\n",
       "</style>\n",
       "<table border=\"1\" class=\"dataframe\">\n",
       "  <thead>\n",
       "    <tr style=\"text-align: right;\">\n",
       "      <th></th>\n",
       "      <th>Review</th>\n",
       "      <th>Rating</th>\n",
       "    </tr>\n",
       "  </thead>\n",
       "  <tbody>\n",
       "    <tr>\n",
       "      <th>24680</th>\n",
       "      <td>We selected this hotel for its close proximity...</td>\n",
       "      <td>5</td>\n",
       "    </tr>\n",
       "    <tr>\n",
       "      <th>24681</th>\n",
       "      <td>Good facilities, modern and beautiful rooms, a...</td>\n",
       "      <td>4</td>\n",
       "    </tr>\n",
       "    <tr>\n",
       "      <th>24682</th>\n",
       "      <td>Stayed for 4 days 1St Sept 4th Sept  We stayed...</td>\n",
       "      <td>5</td>\n",
       "    </tr>\n",
       "    <tr>\n",
       "      <th>24683</th>\n",
       "      <td>Our room was lovely,we had a brilliant doorman...</td>\n",
       "      <td>5</td>\n",
       "    </tr>\n",
       "    <tr>\n",
       "      <th>24684</th>\n",
       "      <td>Really enjoyed our experience, hotel was clean...</td>\n",
       "      <td>4</td>\n",
       "    </tr>\n",
       "  </tbody>\n",
       "</table>\n",
       "</div>"
      ],
      "text/plain": [
       "                                                  Review  Rating\n",
       "24680  We selected this hotel for its close proximity...       5\n",
       "24681  Good facilities, modern and beautiful rooms, a...       4\n",
       "24682  Stayed for 4 days 1St Sept 4th Sept  We stayed...       5\n",
       "24683  Our room was lovely,we had a brilliant doorman...       5\n",
       "24684  Really enjoyed our experience, hotel was clean...       4"
      ]
     },
     "execution_count": 4,
     "metadata": {},
     "output_type": "execute_result"
    }
   ],
   "source": [
    "data.tail()"
   ]
  },
  {
   "cell_type": "markdown",
   "id": "d708c602",
   "metadata": {},
   "source": [
    "# EDA"
   ]
  },
  {
   "cell_type": "markdown",
   "id": "4abbc4a9",
   "metadata": {},
   "source": [
    "## Handling Null Values"
   ]
  },
  {
   "cell_type": "code",
   "execution_count": 5,
   "id": "077e4c89",
   "metadata": {},
   "outputs": [
    {
     "data": {
      "text/plain": [
       "Review    False\n",
       "Rating    False\n",
       "dtype: bool"
      ]
     },
     "execution_count": 5,
     "metadata": {},
     "output_type": "execute_result"
    }
   ],
   "source": [
    "data.isna().any()"
   ]
  },
  {
   "cell_type": "code",
   "execution_count": 6,
   "id": "eec2b95c",
   "metadata": {},
   "outputs": [
    {
     "data": {
      "text/plain": [
       "Review    0\n",
       "Rating    0\n",
       "dtype: int64"
      ]
     },
     "execution_count": 6,
     "metadata": {},
     "output_type": "execute_result"
    }
   ],
   "source": [
    "data.isna().sum()"
   ]
  },
  {
   "cell_type": "code",
   "execution_count": 7,
   "id": "e7e46643",
   "metadata": {},
   "outputs": [
    {
     "data": {
      "text/plain": [
       "(24685, 2)"
      ]
     },
     "execution_count": 7,
     "metadata": {},
     "output_type": "execute_result"
    }
   ],
   "source": [
    "data.shape"
   ]
  },
  {
   "cell_type": "markdown",
   "id": "6cf6d3d4",
   "metadata": {},
   "source": [
    "## Handling Duplicate Values"
   ]
  },
  {
   "cell_type": "code",
   "execution_count": 8,
   "id": "e623e2d1",
   "metadata": {},
   "outputs": [
    {
     "data": {
      "text/plain": [
       "True"
      ]
     },
     "execution_count": 8,
     "metadata": {},
     "output_type": "execute_result"
    }
   ],
   "source": [
    "data.nunique().any()"
   ]
  },
  {
   "cell_type": "code",
   "execution_count": 9,
   "id": "bb8424a3",
   "metadata": {},
   "outputs": [
    {
     "data": {
      "text/plain": [
       "Review    23986\n",
       "Rating        2\n",
       "dtype: int64"
      ]
     },
     "execution_count": 9,
     "metadata": {},
     "output_type": "execute_result"
    }
   ],
   "source": [
    "data.nunique()"
   ]
  },
  {
   "cell_type": "markdown",
   "id": "8c1bc6d5",
   "metadata": {},
   "source": [
    "## Preprocessing the Text"
   ]
  },
  {
   "cell_type": "code",
   "execution_count": 10,
   "id": "3efd5c3f",
   "metadata": {},
   "outputs": [],
   "source": [
    "# Load the English NLP model\n",
    "nlp = spacy.load('en_core_web_sm')\n",
    "\n",
    "# Define stop words\n",
    "stop_words = spacy.lang.en.stop_words.STOP_WORDS"
   ]
  },
  {
   "cell_type": "code",
   "execution_count": 11,
   "id": "d14c5de2",
   "metadata": {},
   "outputs": [
    {
     "data": {
      "text/plain": [
       "<spacy.lang.en.English at 0x22cad767790>"
      ]
     },
     "execution_count": 11,
     "metadata": {},
     "output_type": "execute_result"
    }
   ],
   "source": [
    "nlp"
   ]
  },
  {
   "cell_type": "code",
   "execution_count": 12,
   "id": "f48c539f",
   "metadata": {},
   "outputs": [],
   "source": [
    "def preprocess_text(text):\n",
    "    # Parse the text with Spacy\n",
    "    doc = nlp(text)\n",
    "    \n",
    "    # Lemmatize the tokens and remove stop words\n",
    "    lemmas = [token.lemma_.lower() for token in doc if not token.is_stop]\n",
    "    \n",
    "    # Join the lemmas back into a string and return it\n",
    "    return \" \".join(lemmas)"
   ]
  },
  {
   "cell_type": "code",
   "execution_count": 13,
   "id": "da90ca82",
   "metadata": {},
   "outputs": [
    {
     "data": {
      "application/vnd.jupyter.widget-view+json": {
       "model_id": "f533d0035d7641b8ace81a4de2af0d82",
       "version_major": 2,
       "version_minor": 0
      },
      "text/plain": [
       "  0%|          | 0/24685 [00:00<?, ?it/s]"
      ]
     },
     "metadata": {},
     "output_type": "display_data"
    },
    {
     "name": "stdout",
     "output_type": "stream",
     "text": [
      "Wall time: 9min 37s\n"
     ]
    }
   ],
   "source": [
    "%%time\n",
    "\n",
    "tqdm.pandas()\n",
    "\n",
    "data['Review'] = data['Review'].progress_apply(preprocess_text)"
   ]
  },
  {
   "cell_type": "code",
   "execution_count": 14,
   "id": "f6e50109",
   "metadata": {},
   "outputs": [],
   "source": [
    "def preprocess_signs(text):\n",
    "    # Remove URLs\n",
    "    text = re.sub(r'http\\S+', '', text)\n",
    "    text = re.sub(r\"https?://\\s+ www\\.\\s+\", '', text)\n",
    "    \n",
    "    #Remove html\n",
    "    text = re.sub(r\"<.*?>\", '', text)\n",
    "\n",
    "    # Remove mentions and hashtags\n",
    "    text = re.sub(r'@\\w+|#\\w+', '', text)\n",
    "\n",
    "    # Remove punctuation and convert to lowercase\n",
    "    text = text.translate(str.maketrans('', '', string.punctuation)).lower()\n",
    "\n",
    "    # Remove extra whitespace\n",
    "    text = re.sub('\\s+', ' ', text).strip()\n",
    "\n",
    "    return text"
   ]
  },
  {
   "cell_type": "code",
   "execution_count": 15,
   "id": "62630e07",
   "metadata": {},
   "outputs": [],
   "source": [
    "data['Review'] = data['Review'].apply(preprocess_signs)"
   ]
  },
  {
   "cell_type": "markdown",
   "id": "aebab243",
   "metadata": {},
   "source": [
    "## Commonly Used Words"
   ]
  },
  {
   "cell_type": "code",
   "execution_count": 16,
   "id": "9bfcb8ba",
   "metadata": {},
   "outputs": [],
   "source": [
    "import matplotlib.pyplot as plt\n",
    "from collections import Counter\n",
    "import re\n",
    "\n",
    "import nltk\n",
    "from nltk.corpus import stopwords"
   ]
  },
  {
   "cell_type": "code",
   "execution_count": 17,
   "id": "95a0227b",
   "metadata": {},
   "outputs": [],
   "source": [
    "# Concatenate all tweet texts into a single string\n",
    "all_text = ' '.join(data['Review'].values)"
   ]
  },
  {
   "cell_type": "code",
   "execution_count": 18,
   "id": "a5cbd02c",
   "metadata": {},
   "outputs": [],
   "source": [
    "# Split the text into individual words\n",
    "words = all_text.split()"
   ]
  },
  {
   "cell_type": "code",
   "execution_count": 19,
   "id": "f4d2c3bf",
   "metadata": {},
   "outputs": [],
   "source": [
    "# Remove stop words\n",
    "stop_words = set(stopwords.words('english'))\n",
    "words = [word for word in words if not word in stop_words]"
   ]
  },
  {
   "cell_type": "code",
   "execution_count": 20,
   "id": "4d1d9191",
   "metadata": {},
   "outputs": [],
   "source": [
    "# Count the frequency of each word\n",
    "word_counts = Counter(words)"
   ]
  },
  {
   "cell_type": "code",
   "execution_count": 21,
   "id": "4062cbbf",
   "metadata": {},
   "outputs": [
    {
     "data": {
      "text/plain": [
       "[('room', 30396),\n",
       " ('hotel', 30370),\n",
       " ('stay', 21025),\n",
       " ('great', 15312),\n",
       " ('staff', 14898),\n",
       " ('good', 10452),\n",
       " ('location', 10390),\n",
       " ('clean', 9855),\n",
       " ('walk', 7921),\n",
       " ('nice', 7610),\n",
       " ('friendly', 7092),\n",
       " ('time', 6982),\n",
       " ('night', 6849),\n",
       " ('service', 6355),\n",
       " ('helpful', 6353),\n",
       " ('bed', 5610),\n",
       " ('check', 5457),\n",
       " ('new', 5300),\n",
       " ('day', 5246),\n",
       " ('breakfast', 5067),\n",
       " ('comfortable', 4987),\n",
       " ('view', 4906),\n",
       " ('place', 4893),\n",
       " ('small', 4730),\n",
       " ('universal', 4448),\n",
       " ('need', 4178),\n",
       " ('close', 4092),\n",
       " ('restaurant', 4003),\n",
       " ('city', 3987),\n",
       " ('park', 3881),\n",
       " ('recommend', 3810),\n",
       " ('bathroom', 3755),\n",
       " ('like', 3737),\n",
       " ('excellent', 3660),\n",
       " ('desk', 3545),\n",
       " ('bar', 3488),\n",
       " ('empire', 3451),\n",
       " ('square', 3449),\n",
       " ('area', 3438),\n",
       " ('riad', 3388),\n",
       " ('go', 3294),\n",
       " ('visit', 3286),\n",
       " ('floor', 3189),\n",
       " ('nyc', 3122),\n",
       " ('amazing', 3103),\n",
       " ('minute', 3037),\n",
       " ('come', 3031),\n",
       " ('definitely', 3015),\n",
       " ('food', 2963),\n",
       " ('perfect', 2936)]"
      ]
     },
     "execution_count": 21,
     "metadata": {},
     "output_type": "execute_result"
    }
   ],
   "source": [
    "top_words = word_counts.most_common(50)\n",
    "top_words"
   ]
  },
  {
   "cell_type": "code",
   "execution_count": 22,
   "id": "053c4ed2",
   "metadata": {},
   "outputs": [
    {
     "data": {
      "image/png": "[encoded data removed]",
      "text/plain": [
       "<Figure size 640x480 with 1 Axes>"
      ]
     },
     "metadata": {},
     "output_type": "display_data"
    }
   ],
   "source": [
    "# Create a bar chart of the most common words\n",
    "top_words = word_counts.most_common(10) # Change the number to show more/less words\n",
    "x_values = [word[0] for word in top_words]\n",
    "y_values = [word[1] for word in top_words]\n",
    "plt.bar(x_values, y_values)\n",
    "plt.xlabel('Word')\n",
    "plt.ylabel('Frequency')\n",
    "plt.title('Most Commonly Used Words')\n",
    "plt.show()"
   ]
  },
  {
   "cell_type": "markdown",
   "id": "0d0f8021",
   "metadata": {},
   "source": [
    "## Converting Text into Numerical Features / Vectorization"
   ]
  },
  {
   "cell_type": "code",
   "execution_count": 23,
   "id": "754e369b",
   "metadata": {},
   "outputs": [],
   "source": [
    "from sklearn.feature_extraction.text import TfidfVectorizer\n",
    "\n",
    "vectorizer = TfidfVectorizer()\n",
    "X = vectorizer.fit_transform(data['Review'])\n",
    "y = data['Rating']"
   ]
  },
  {
   "cell_type": "markdown",
   "id": "04845926",
   "metadata": {},
   "source": [
    "## Class Distributions"
   ]
  },
  {
   "cell_type": "code",
   "execution_count": 24,
   "id": "20216e88",
   "metadata": {},
   "outputs": [
    {
     "name": "stdout",
     "output_type": "stream",
     "text": [
      "Ratings distribution:\n",
      "5    15104\n",
      "4     9581\n",
      "Name: Rating, dtype: int64\n"
     ]
    }
   ],
   "source": [
    "# Count the number of instances in each class\n",
    "class_counts = data['Rating'].value_counts()\n",
    "\n",
    "# Print the class distribution\n",
    "print('Ratings distribution:')\n",
    "print(class_counts)"
   ]
  },
  {
   "cell_type": "code",
   "execution_count": 25,
   "id": "8d27fc88",
   "metadata": {},
   "outputs": [
    {
     "data": {
      "image/png": "[encoded data removed]",
      "text/plain": [
       "<Figure size 640x480 with 1 Axes>"
      ]
     },
     "metadata": {},
     "output_type": "display_data"
    }
   ],
   "source": [
    "class_counts.plot.bar()\n",
    "plt.title('Class Distribution')\n",
    "plt.xlabel('Rating')\n",
    "plt.ylabel('Count')\n",
    "plt.show()"
   ]
  },
  {
   "cell_type": "markdown",
   "id": "1f23baaa",
   "metadata": {},
   "source": [
    "## ML Models"
   ]
  },
  {
   "cell_type": "code",
   "execution_count": 26,
   "id": "7d222b4f",
   "metadata": {},
   "outputs": [],
   "source": [
    "from sklearn.model_selection import train_test_split\n",
    "from sklearn.metrics import accuracy_score, f1_score, confusion_matrix, confusion_matrix, ConfusionMatrixDisplay\n",
    "\n",
    "X_train, X_test, y_train, y_test = train_test_split(X, y, test_size=0.2, random_state=42)"
   ]
  },
  {
   "cell_type": "markdown",
   "id": "855e3aca",
   "metadata": {},
   "source": [
    "## Logistic Regression Model"
   ]
  },
  {
   "cell_type": "code",
   "execution_count": 27,
   "id": "e0927331",
   "metadata": {},
   "outputs": [],
   "source": [
    "from sklearn.linear_model import LogisticRegression"
   ]
  },
  {
   "cell_type": "code",
   "execution_count": 28,
   "id": "5f6f6bae",
   "metadata": {},
   "outputs": [
    {
     "name": "stdout",
     "output_type": "stream",
     "text": [
      "1.0.2\n"
     ]
    }
   ],
   "source": [
    "import sklearn\n",
    "print(sklearn.__version__)"
   ]
  },
  {
   "cell_type": "code",
   "execution_count": 29,
   "id": "a7b91a3b",
   "metadata": {},
   "outputs": [],
   "source": [
    "# train a Logistic Regression Model\n",
    "lrm = LogisticRegression(max_iter=1000)"
   ]
  },
  {
   "cell_type": "code",
   "execution_count": 31,
   "id": "c2381b25",
   "metadata": {},
   "outputs": [
    {
     "data": {
      "text/plain": [
       "LogisticRegression(max_iter=1000)"
      ]
     },
     "execution_count": 31,
     "metadata": {},
     "output_type": "execute_result"
    }
   ],
   "source": [
    "%%time\n",
    "lrm.fit(X_train, y_train)"
   ]
  },
  {
   "cell_type": "code",
   "execution_count": 33,
   "id": "b3fe5108",
   "metadata": {},
   "outputs": [],
   "source": [
    "# evaluate the classifier on the test set\n",
    "\n",
    "y_pred = lrm.predict(X_test)"
   ]
  },
  {
   "cell_type": "code",
   "execution_count": 30,
   "id": "ce3f6b55",
   "metadata": {},
   "outputs": [
    {
     "data": {
      "text/plain": [
       "array([1, 5, 5, ..., 4, 5, 5], dtype=int64)"
      ]
     },
     "execution_count": 30,
     "metadata": {},
     "output_type": "execute_result"
    }
   ],
   "source": [
    "y_pred"
   ]
  },
  {
   "cell_type": "code",
   "execution_count": 34,
   "id": "c6dda235",
   "metadata": {},
   "outputs": [
    {
     "name": "stdout",
     "output_type": "stream",
     "text": [
      "Accuracy: 75.63297549118899 %\n",
      "f1score: 73.71380703716444 %\n",
      "[[1200  710]\n",
      " [ 493 2534]]\n"
     ]
    }
   ],
   "source": [
    "acc_logisticregression = accuracy_score(y_test, y_pred)\n",
    "f1_logisticregression = f1_score(y_test, y_pred, average='macro')\n",
    "print(\"Accuracy:\", acc_logisticregression*100, \"%\")\n",
    "print(\"f1score:\", f1_logisticregression*100, \"%\")\n",
    "print(confusion_matrix(y_test, y_pred))"
   ]
  },
  {
   "cell_type": "code",
   "execution_count": 35,
   "id": "1e4da63d",
   "metadata": {},
   "outputs": [
    {
     "data": {
      "image/png": "[encoded data removed]",
      "text/plain": [
       "<Figure size 640x480 with 2 Axes>"
      ]
     },
     "metadata": {},
     "output_type": "display_data"
    }
   ],
   "source": [
    "cm = confusion_matrix(y_test, y_pred)\n",
    "\n",
    "cm_display = ConfusionMatrixDisplay(cm).plot()"
   ]
  },
  {
   "cell_type": "markdown",
   "id": "80e68348",
   "metadata": {},
   "source": [
    "## Multinomial Naive Bayes Model"
   ]
  },
  {
   "cell_type": "code",
   "execution_count": 36,
   "id": "2efc99f0",
   "metadata": {},
   "outputs": [],
   "source": [
    "from sklearn.naive_bayes import MultinomialNB\n",
    "# train a Naive Bayes classifier\n",
    "mnb = MultinomialNB()"
   ]
  },
  {
   "cell_type": "code",
   "execution_count": 37,
   "id": "3b68d272",
   "metadata": {},
   "outputs": [
    {
     "data": {
      "text/plain": [
       "MultinomialNB()"
      ]
     },
     "execution_count": 37,
     "metadata": {},
     "output_type": "execute_result"
    }
   ],
   "source": [
    "mnb.fit(X_train, y_train)"
   ]
  },
  {
   "cell_type": "code",
   "execution_count": 38,
   "id": "9d5b3243",
   "metadata": {},
   "outputs": [
    {
     "data": {
      "text/plain": [
       "array([5, 4, 5, ..., 5, 5, 5], dtype=int64)"
      ]
     },
     "execution_count": 38,
     "metadata": {},
     "output_type": "execute_result"
    }
   ],
   "source": [
    "# evaluate the classifier on the test set\n",
    "y_pred = mnb.predict(X_test)\n",
    "y_pred"
   ]
  },
  {
   "cell_type": "code",
   "execution_count": 39,
   "id": "fd090c3a",
   "metadata": {},
   "outputs": [
    {
     "name": "stdout",
     "output_type": "stream",
     "text": [
      "Accuracy: 71.56167713186146 %\n",
      "f1score: 66.06474165026583 %\n",
      "[[ 773 1137]\n",
      " [ 267 2760]]\n"
     ]
    }
   ],
   "source": [
    "acc_naivebayes = accuracy_score(y_test, y_pred)\n",
    "f1_naivebayes = f1_score(y_test, y_pred, average='macro')\n",
    "print(\"Accuracy:\", acc_naivebayes*100, \"%\")\n",
    "print(\"f1score:\", f1_naivebayes*100, \"%\")\n",
    "print(confusion_matrix(y_test, y_pred))"
   ]
  },
  {
   "cell_type": "markdown",
   "id": "8b61a7c1",
   "metadata": {},
   "source": [
    "## Decision Tree"
   ]
  },
  {
   "cell_type": "code",
   "execution_count": 40,
   "id": "4b36aaed",
   "metadata": {},
   "outputs": [],
   "source": [
    "from sklearn import tree"
   ]
  },
  {
   "cell_type": "code",
   "execution_count": 41,
   "id": "8a51bda4",
   "metadata": {},
   "outputs": [],
   "source": [
    "dtc = tree.DecisionTreeClassifier()"
   ]
  },
  {
   "cell_type": "code",
   "execution_count": 42,
   "id": "5021be2e",
   "metadata": {},
   "outputs": [
    {
     "name": "stdout",
     "output_type": "stream",
     "text": [
      "Wall time: 10 s\n"
     ]
    },
    {
     "data": {
      "text/plain": [
       "DecisionTreeClassifier()"
      ]
     },
     "execution_count": 42,
     "metadata": {},
     "output_type": "execute_result"
    }
   ],
   "source": [
    "%%time\n",
    "dtc.fit(X_train, y_train)"
   ]
  },
  {
   "cell_type": "code",
   "execution_count": 64,
   "id": "c8eb19a0",
   "metadata": {},
   "outputs": [
    {
     "data": {
      "text/plain": [
       "[Text(0.932532401483884, 0.9965986394557823, 'X[18648] <= 0.033\\ngini = 0.708\\nsamples = 24272\\nvalue = [1847, 1801, 3596, 6564, 10464]'),\n",
       " Text(0.8663777741796345, 0.9897959183673469, 'X[10582] <= 0.068\\ngini = 0.721\\nsamples = 23031\\nvalue = [1847, 1800, 3592, 6548, 9244]'),\n",
       " Text(0.7700308866273708, 0.9829931972789115, 'X[21726] <= 0.076\\ngini = 0.752\\nsamples = 17385\\nvalue = [1793, 1669, 3069, 4812, 6042]'),\n",
       " Text(0.723089774728026, 0.9761904761904762, 'X[7526] <= 0.035\\ngini = 0.759\\nsamples = 16423\\nvalue = [1774, 1638, 3036, 4653, 5322]'),\n",
       " Text(0.6539729048720587, 0.9693877551020408, 'X[20106] <= 0.048\\ngini = 0.751\\nsamples = 15892\\nvalue = [1510, 1500, 2945, 4623, 5314]'),\n",
       " Text(0.5634868306127012, 0.9625850340136054, 'X[21604] <= 0.025\\ngini = 0.739\\nsamples = 12515\\nvalue = [1258, 1092, 2015, 3457, 4693]'),\n",
       " Text(0.5161588737297151, 0.95578231292517, 'X[3505] <= 0.063\\ngini = 0.724\\nsamples = 11534\\nvalue = [952, 898, 1814, 3327, 4543]'),\n",
       " Text(0.48566560330409936, 0.9489795918367347, 'X[2590] <= 0.085\\ngini = 0.71\\nsamples = 10790\\nvalue = [756, 779, 1617, 3182, 4456]'),\n",
       " Text(0.4650554801664476, 0.9421768707482994, 'X[11233] <= 0.098\\ngini = 0.72\\nsamples = 10108\\nvalue = [752, 770, 1581, 3048, 3957]'),\n",
       " Text(0.4395201614512294, 0.935374149659864, 'X[7141] <= 0.104\\ngini = 0.726\\nsamples = 9768\\nvalue = [749, 766, 1577, 2999, 3677]'),\n",
       " Text(0.40484847584221395, 0.9285714285714286, 'X[20640] <= 0.068\\ngini = 0.733\\nsamples = 9242\\nvalue = [739, 757, 1566, 2867, 3313]'),\n",
       " Text(0.35688186144683964, 0.9217687074829932, 'X[13732] <= 0.074\\ngini = 0.747\\nsamples = 7549\\nvalue = [658, 685, 1392, 2354, 2460]'),\n",
       " Text(0.3201584147010273, 0.9149659863945578, 'X[23680] <= 0.055\\ngini = 0.754\\nsamples = 7029\\nvalue = [653, 674, 1361, 2175, 2166]'),\n",
       " Text(0.2717408562210025, 0.9081632653061225, 'X[8896] <= 0.076\\ngini = 0.77\\nsamples = 5433\\nvalue = [619, 610, 1085, 1500, 1619]'),\n",
       " Text(0.23325218267172979, 0.9013605442176871, 'X[5564] <= 0.045\\ngini = 0.776\\nsamples = 4995\\nvalue = [619, 600, 1025, 1360, 1391]'),\n",
       " Text(0.1719438970263223, 0.8945578231292517, 'X[18842] <= 0.024\\ngini = 0.787\\nsamples = 3713\\nvalue = [561, 514, 734, 885, 1019]'),\n",
       " Text(0.12390197355718402, 0.8877551020408163, 'X[19229] <= 0.028\\ngini = 0.75\\nsamples = 1227\\nvalue = [179, 115, 184, 285, 464]'),\n",
       " Text(0.11803813721838517, 0.8809523809523809, 'X[5220] <= 0.076\\ngini = 0.738\\nsamples = 1138\\nvalue = [142, 106, 159, 277, 454]'),\n",
       " Text(0.1132504552320796, 0.8741496598639455, 'X[3685] <= 0.026\\ngini = 0.725\\nsamples = 1077\\nvalue = [122, 96, 140, 268, 451]'),\n",
       " Text(0.10995859634482757, 0.8673469387755102, 'X[24189] <= 0.092\\ngini = 0.711\\nsamples = 1012\\nvalue = [110, 81, 120, 257, 444]'),\n",
       " Text(0.10618838831003655, 0.8605442176870748, 'X[3384] <= 0.102\\ngini = 0.72\\nsamples = 974\\nvalue = [110, 81, 120, 252, 411]'),\n",
       " Text(0.10164904929614836, 0.8537414965986394, 'X[16502] <= 0.03\\ngini = 0.717\\nsamples = 960\\nvalue = [110, 81, 109, 250, 410]'),\n",
       " Text(0.09608725844301329, 0.8469387755102041, 'X[11454] <= 0.054\\ngini = 0.704\\nsamples = 898\\nvalue = [99, 71, 97, 228, 403]'),\n",
       " Text(0.09176299194104962, 0.8401360544217688, 'X[16816] <= 0.072\\ngini = 0.698\\nsamples = 879\\nvalue = [88, 68, 95, 227, 401]'),\n",
       " Text(0.09138785730908787, 0.8333333333333334, 'X[15325] <= 0.079\\ngini = 0.703\\nsamples = 862\\nvalue = [88, 68, 95, 227, 384]'),\n",
       " Text(0.08728783171769659, 0.826530612244898, 'X[18158] <= 0.116\\ngini = 0.706\\nsamples = 778\\nvalue = [87, 66, 88, 185, 352]'),\n",
       " Text(0.0850430428173066, 0.8197278911564626, 'X[19781] <= 0.029\\ngini = 0.703\\nsamples = 768\\nvalue = [79, 66, 88, 185, 350]'),\n",
       " Text(0.08167886891241183, 0.8129251700680272, 'X[17093] <= 0.1\\ngini = 0.693\\nsamples = 744\\nvalue = [74, 58, 82, 182, 348]'),\n",
       " Text(0.0788894347382205, 0.8061224489795918, 'X[575] <= 0.041\\ngini = 0.687\\nsamples = 731\\nvalue = [73, 51, 82, 177, 348]'),\n",
       " Text(0.07668677807749352, 0.7993197278911565, 'X[11134] <= 0.047\\ngini = 0.678\\nsamples = 712\\nvalue = [69, 48, 77, 170, 348]'),\n",
       " Text(0.07453227254780995, 0.7925170068027211, 'X[20589] <= 0.157\\ngini = 0.7\\nsamples = 630\\nvalue = [69, 46, 74, 151, 290]'),\n",
       " Text(0.07266163659619411, 0.7857142857142857, 'X[16622] <= 0.105\\ngini = 0.698\\nsamples = 618\\nvalue = [69, 46, 74, 141, 288]'),\n",
       " Text(0.07004576858884765, 0.7789115646258503, 'X[10942] <= 0.206\\ngini = 0.712\\nsamples = 582\\nvalue = [69, 46, 73, 135, 259]'),\n",
       " Text(0.06967063395688591, 0.7721088435374149, 'X[3794] <= 0.071\\ngini = 0.711\\nsamples = 576\\nvalue = [69, 46, 73, 129, 259]'),\n",
       " Text(0.06762754231386774, 0.7653061224489796, 'X[23838] <= 0.04\\ngini = 0.702\\nsamples = 548\\nvalue = [58, 44, 72, 120, 254]'),\n",
       " Text(0.06579216681960182, 0.7585034013605442, 'X[21674] <= 0.091\\ngini = 0.695\\nsamples = 538\\nvalue = [56, 40, 68, 120, 254]'),\n",
       " Text(0.06399708899087866, 0.7517006802721088, 'X[3774] <= 0.035\\ngini = 0.688\\nsamples = 528\\nvalue = [50, 38, 67, 120, 253]'),\n",
       " Text(0.062282606493241036, 0.7448979591836735, 'X[24463] <= 0.069\\ngini = 0.698\\nsamples = 509\\nvalue = [49, 38, 66, 120, 236]'),\n",
       " Text(0.060729314657774466, 0.7380952380952381, 'X[14031] <= 0.085\\ngini = 0.708\\nsamples = 485\\nvalue = [47, 38, 66, 118, 216]'),\n",
       " Text(0.058748134882726545, 0.7312925170068028, 'X[2408] <= 0.102\\ngini = 0.707\\nsamples = 473\\nvalue = [47, 38, 65, 109, 214]'),\n",
       " Text(0.056661448492439384, 0.7244897959183674, 'X[20473] <= 0.089\\ngini = 0.719\\nsamples = 449\\nvalue = [46, 38, 65, 106, 194]'),\n",
       " Text(0.054363748871673744, 0.717687074829932, 'X[23881] <= 0.075\\ngini = 0.71\\nsamples = 434\\nvalue = [44, 32, 60, 106, 192]'),\n",
       " Text(0.05201915742191289, 0.7108843537414966, 'X[18613] <= 0.077\\ngini = 0.719\\nsamples = 420\\nvalue = [44, 32, 60, 105, 179]'),\n",
       " Text(0.048455378418276386, 0.7040816326530612, 'X[21436] <= 0.062\\ngini = 0.708\\nsamples = 396\\nvalue = [33, 30, 59, 100, 174]'),\n",
       " Text(0.04582943599454423, 0.6972789115646258, 'X[19544] <= 0.118\\ngini = 0.72\\nsamples = 364\\nvalue = [31, 28, 58, 96, 151]'),\n",
       " Text(0.044328897466697284, 0.6904761904761905, 'X[13351] <= 0.042\\ngini = 0.732\\nsamples = 337\\nvalue = [30, 27, 58, 91, 131]'),\n",
       " Text(0.043578628202773806, 0.6836734693877551, 'X[9927] <= 0.135\\ngini = 0.731\\nsamples = 330\\nvalue = [30, 26, 58, 85, 131]'),\n",
       " Text(0.043203493570812074, 0.6768707482993197, 'X[8439] <= 0.158\\ngini = 0.73\\nsamples = 325\\nvalue = [30, 26, 58, 80, 131]'),\n",
       " Text(0.042828358938850335, 0.6700680272108843, 'X[20640] <= 0.059\\ngini = 0.737\\nsamples = 316\\nvalue = [30, 26, 58, 80, 122]'),\n",
       " Text(0.040741672548563174, 0.6632653061224489, 'X[20740] <= 0.082\\ngini = 0.732\\nsamples = 305\\nvalue = [30, 25, 50, 79, 121]'),\n",
       " Text(0.03919424219172101, 0.6564625850340136, 'X[4060] <= 0.079\\ngini = 0.741\\nsamples = 292\\nvalue = [30, 25, 50, 77, 110]'),\n",
       " Text(0.03722478537392189, 0.6496598639455783, 'X[7314] <= 0.063\\ngini = 0.734\\nsamples = 281\\nvalue = [30, 23, 43, 75, 110]'),\n",
       " Text(0.035161544898132335, 0.6428571428571429, 'X[8439] <= 0.132\\ngini = 0.74\\nsamples = 255\\nvalue = [26, 22, 40, 74, 93]'),\n",
       " Text(0.034786410266170596, 0.6360544217687075, 'X[11681] <= 0.194\\ngini = 0.741\\nsamples = 249\\nvalue = [26, 22, 40, 68, 93]'),\n",
       " Text(0.034411275634208864, 0.6292517006802721, 'X[18586] <= 0.088\\ngini = 0.738\\nsamples = 245\\nvalue = [26, 22, 36, 68, 93]'),\n",
       " Text(0.034036141002247125, 0.6224489795918368, 'X[16358] <= 0.033\\ngini = 0.744\\nsamples = 238\\nvalue = [26, 22, 36, 68, 86]'),\n",
       " Text(0.03272316979038105, 0.6156462585034014, 'X[5273] <= 0.147\\ngini = 0.743\\nsamples = 228\\nvalue = [26, 22, 33, 61, 86]'),\n",
       " Text(0.03197290052645757, 0.608843537414966, 'X[5090] <= 0.109\\ngini = 0.737\\nsamples = 221\\nvalue = [26, 22, 28, 59, 86]'),\n",
       " Text(0.03159776589449584, 0.6020408163265306, 'X[23693] <= 0.036\\ngini = 0.737\\nsamples = 217\\nvalue = [26, 22, 28, 55, 86]'),\n",
       " Text(0.029972670945880343, 0.5952380952380952, 'X[13394] <= 0.047\\ngini = 0.729\\nsamples = 209\\nvalue = [26, 20, 24, 53, 86]'),\n",
       " Text(0.02859815420845804, 0.5884353741496599, 'X[11549] <= 0.07\\ngini = 0.722\\nsamples = 205\\nvalue = [26, 19, 21, 53, 86]'),\n",
       " Text(0.026974524629498647, 0.5816326530612245, 'X[13524] <= 0.103\\ngini = 0.711\\nsamples = 192\\nvalue = [25, 18, 17, 47, 85]'),\n",
       " Text(0.025602938631388548, 0.5748299319727891, 'X[5498] <= 0.014\\ngini = 0.707\\nsamples = 187\\nvalue = [24, 18, 17, 43, 85]'),\n",
       " Text(0.023985170531053555, 0.5680272108843537, 'X[4591] <= 0.042\\ngini = 0.724\\nsamples = 169\\nvalue = [22, 18, 16, 42, 71]'),\n",
       " Text(0.02262530749019226, 0.5612244897959183, 'X[17440] <= 0.138\\ngini = 0.713\\nsamples = 163\\nvalue = [21, 18, 12, 41, 71]'),\n",
       " Text(0.022250172858230523, 0.5544217687074829, 'X[13597] <= 0.041\\ngini = 0.71\\nsamples = 159\\nvalue = [21, 18, 12, 37, 71]'),\n",
       " Text(0.02065585067239314, 0.5476190476190477, 'X[10261] <= 0.098\\ngini = 0.697\\nsamples = 143\\nvalue = [20, 17, 10, 28, 68]'),\n",
       " Text(0.019718014092488797, 0.5408163265306123, 'X[21075] <= 0.104\\ngini = 0.673\\nsamples = 134\\nvalue = [16, 16, 8, 26, 68]'),\n",
       " Text(0.01934287946052706, 0.5340136054421769, 'X[7434] <= 0.13\\ngini = 0.666\\nsamples = 131\\nvalue = [16, 16, 8, 23, 68]'),\n",
       " Text(0.018967744828565326, 0.5272108843537415, 'X[17355] <= 0.104\\ngini = 0.658\\nsamples = 128\\nvalue = [16, 16, 8, 20, 68]'),\n",
       " Text(0.01821747556464185, 0.5204081632653061, 'X[14459] <= 0.088\\ngini = 0.639\\nsamples = 123\\nvalue = [16, 13, 7, 19, 68]'),\n",
       " Text(0.017842340932680112, 0.5136054421768708, 'X[12856] <= 0.045\\ngini = 0.629\\nsamples = 121\\nvalue = [16, 13, 5, 19, 68]'),\n",
       " Text(0.01709207166875664, 0.5068027210884354, 'X[6173] <= 0.082\\ngini = 0.607\\nsamples = 116\\nvalue = [14, 11, 5, 18, 68]'),\n",
       " Text(0.0167169370367949, 0.5, 'X[11054] <= 0.035\\ngini = 0.596\\nsamples = 114\\nvalue = [14, 9, 5, 18, 68]'),\n",
       " Text(0.016341802404833166, 0.4931972789115646, 'X[7550] <= 0.047\\ngini = 0.584\\nsamples = 112\\nvalue = [14, 7, 5, 18, 68]'),\n",
       " Text(0.01596666777287143, 0.48639455782312924, 'X[23886] <= 0.042\\ngini = 0.571\\nsamples = 110\\nvalue = [14, 5, 5, 18, 68]'),\n",
       " Text(0.014290284886292417, 0.47959183673469385, 'X[3282] <= 0.032\\ngini = 0.537\\nsamples = 103\\nvalue = [11, 5, 4, 16, 67]'),\n",
       " Text(0.012813192272943077, 0.47278911564625853, 'X[10332] <= 0.079\\ngini = 0.507\\nsamples = 99\\nvalue = [11, 4, 3, 14, 67]'),\n",
       " Text(0.011734680206053083, 0.46598639455782315, 'X[16758] <= 0.092\\ngini = 0.48\\nsamples = 96\\nvalue = [11, 2, 3, 13, 67]'),\n",
       " Text(0.010703059968158308, 0.45918367346938777, 'X[11493] <= 0.128\\ngini = 0.451\\nsamples = 93\\nvalue = [9, 2, 2, 13, 67]'),\n",
       " Text(0.009765223388253965, 0.4523809523809524, 'X[13180] <= 0.05\\ngini = 0.42\\nsamples = 90\\nvalue = [9, 2, 1, 11, 67]'),\n",
       " Text(0.00901495412433049, 0.445578231292517, 'X[5117] <= 0.158\\ngini = 0.387\\nsamples = 87\\nvalue = [8, 2, 1, 9, 67]'),\n",
       " Text(0.008639819492368753, 0.4387755102040816, 'X[19490] <= 0.061\\ngini = 0.362\\nsamples = 85\\nvalue = [8, 2, 1, 7, 67]'),\n",
       " Text(0.007151003921770611, 0.43197278911564624, 'X[19468] <= 0.099\\ngini = 0.323\\nsamples = 81\\nvalue = [6, 1, 1, 7, 66]'),\n",
       " Text(0.006049045940383008, 0.42517006802721086, 'X[4703] <= 0.148\\ngini = 0.29\\nsamples = 79\\nvalue = [5, 1, 0, 7, 66]'),\n",
       " Text(0.004970533873493014, 0.41836734693877553, 'X[3576] <= 0.093\\ngini = 0.254\\nsamples = 77\\nvalue = [4, 0, 0, 7, 66]'),\n",
       " Text(0.003938913635598238, 0.41156462585034015, 'X[11004] <= 0.153\\ngini = 0.218\\nsamples = 75\\nvalue = [3, 0, 0, 6, 66]'),\n",
       " Text(0.0030010770556938957, 0.40476190476190477, 'X[13691] <= 0.146\\ngini = 0.18\\nsamples = 72\\nvalue = [3, 0, 0, 4, 65]'),\n",
       " Text(0.002250807791770422, 0.3979591836734694, 'X[17594] <= 0.202\\ngini = 0.137\\nsamples = 69\\nvalue = [3, 0, 0, 2, 64]'),\n",
       " Text(0.0018756731598086847, 0.391156462585034, 'X[8838] <= 0.194\\ngini = 0.112\\nsamples = 68\\nvalue = [3, 0, 0, 1, 64]'),\n",
       " Text(0.0015005385278469478, 0.3843537414965986, 'X[22357] <= 0.097\\ngini = 0.086\\nsamples = 67\\nvalue = [3, 0, 0, 0, 64]'),\n",
       " Text(0.001125403895885211, 0.37755102040816324, 'X[19953] <= 0.185\\ngini = 0.059\\nsamples = 66\\nvalue = [2, 0, 0, 0, 64]'),\n",
       " Text(0.0007502692639234739, 0.3707482993197279, 'X[5052] <= 0.205\\ngini = 0.03\\nsamples = 65\\nvalue = [1, 0, 0, 0, 64]'),\n",
       " Text(0.00037513463196173696, 0.36394557823129253, 'gini = 0.0\\nsamples = 64\\nvalue = [0, 0, 0, 0, 64]'),\n",
       " Text(0.001125403895885211, 0.36394557823129253, 'gini = 0.0\\nsamples = 1\\nvalue = [1, 0, 0, 0, 0]'),\n",
       " Text(0.0015005385278469478, 0.3707482993197279, 'gini = 0.0\\nsamples = 1\\nvalue = [1, 0, 0, 0, 0]'),\n",
       " Text(0.0018756731598086847, 0.37755102040816324, 'gini = 0.0\\nsamples = 1\\nvalue = [1, 0, 0, 0, 0]'),\n",
       " Text(0.002250807791770422, 0.3843537414965986, 'gini = 0.0\\nsamples = 1\\nvalue = [0, 0, 0, 1, 0]'),\n",
       " Text(0.0026259424237321588, 0.391156462585034, 'gini = 0.0\\nsamples = 1\\nvalue = [0, 0, 0, 1, 0]'),\n",
       " Text(0.0037513463196173695, 0.3979591836734694, 'X[5970] <= 0.101\\ngini = 0.444\\nsamples = 3\\nvalue = [0, 0, 0, 2, 1]'),\n",
       " Text(0.0033762116876556326, 0.391156462585034, 'gini = 0.0\\nsamples = 2\\nvalue = [0, 0, 0, 2, 0]'),\n",
       " Text(0.004126480951579106, 0.391156462585034, 'gini = 0.0\\nsamples = 1\\nvalue = [0, 0, 0, 0, 1]'),\n",
       " Text(0.00487675021550258, 0.40476190476190477, 'X[14731] <= 0.207\\ngini = 0.444\\nsamples = 3\\nvalue = [0, 0, 0, 2, 1]'),\n",
       " Text(0.004501615583540844, 0.3979591836734694, 'gini = 0.0\\nsamples = 2\\nvalue = [0, 0, 0, 2, 0]'),\n",
       " Text(0.0052518848474643175, 0.3979591836734694, 'gini = 0.0\\nsamples = 1\\nvalue = [0, 0, 0, 0, 1]'),\n",
       " Text(0.006002154111387791, 0.41156462585034015, 'X[4073] <= 0.153\\ngini = 0.5\\nsamples = 2\\nvalue = [1, 0, 0, 1, 0]'),\n",
       " Text(0.005627019479426054, 0.40476190476190477, 'gini = 0.0\\nsamples = 1\\nvalue = [0, 0, 0, 1, 0]'),\n",
       " Text(0.006377288743349528, 0.40476190476190477, 'gini = 0.0\\nsamples = 1\\nvalue = [1, 0, 0, 0, 0]'),\n",
       " Text(0.007127558007273002, 0.41836734693877553, 'X[9927] <= 0.054\\ngini = 0.5\\nsamples = 2\\nvalue = [1, 1, 0, 0, 0]'),\n",
       " Text(0.006752423375311265, 0.41156462585034015, 'gini = 0.0\\nsamples = 1\\nvalue = [0, 1, 0, 0, 0]'),\n",
       " Text(0.007502692639234739, 0.41156462585034015, 'gini = 0.0\\nsamples = 1\\nvalue = [1, 0, 0, 0, 0]'),\n",
       " Text(0.008252961903158213, 0.42517006802721086, 'X[7440] <= 0.185\\ngini = 0.5\\nsamples = 2\\nvalue = [1, 0, 1, 0, 0]'),\n",
       " Text(0.007877827271196475, 0.41836734693877553, 'gini = 0.0\\nsamples = 1\\nvalue = [0, 0, 1, 0, 0]'),\n",
       " Text(0.00862809653511995, 0.41836734693877553, 'gini = 0.0\\nsamples = 1\\nvalue = [1, 0, 0, 0, 0]'),\n",
       " Text(0.010128635062966898, 0.43197278911564624, 'X[15363] <= 0.021\\ngini = 0.625\\nsamples = 4\\nvalue = [2, 1, 0, 0, 1]'),\n",
       " Text(0.00975350043100516, 0.42517006802721086, 'X[18435] <= 0.077\\ngini = 0.5\\nsamples = 2\\nvalue = [0, 1, 0, 0, 1]'),\n",
       " Text(0.009378365799043423, 0.41836734693877553, 'gini = 0.0\\nsamples = 1\\nvalue = [0, 0, 0, 0, 1]'),\n",
       " Text(0.010128635062966898, 0.41836734693877553, 'gini = 0.0\\nsamples = 1\\nvalue = [0, 1, 0, 0, 0]'),\n",
       " Text(0.010503769694928635, 0.42517006802721086, 'gini = 0.0\\nsamples = 2\\nvalue = [2, 0, 0, 0, 0]'),\n",
       " Text(0.009390088756292228, 0.4387755102040816, 'gini = 0.0\\nsamples = 2\\nvalue = [0, 0, 0, 2, 0]'),\n",
       " Text(0.010515492652177438, 0.445578231292517, 'X[4264] <= 0.056\\ngini = 0.444\\nsamples = 3\\nvalue = [1, 0, 0, 2, 0]'),\n",
       " Text(0.010140358020215701, 0.4387755102040816, 'gini = 0.0\\nsamples = 2\\nvalue = [0, 0, 0, 2, 0]'),\n",
       " Text(0.010890627284139176, 0.4387755102040816, 'gini = 0.0\\nsamples = 1\\nvalue = [1, 0, 0, 0, 0]'),\n",
       " Text(0.01164089654806265, 0.4523809523809524, 'X[15813] <= 0.138\\ngini = 0.444\\nsamples = 3\\nvalue = [0, 0, 1, 2, 0]'),\n",
       " Text(0.011265761916100913, 0.445578231292517, 'gini = 0.0\\nsamples = 2\\nvalue = [0, 0, 0, 2, 0]'),\n",
       " Text(0.012016031180024386, 0.445578231292517, 'gini = 0.0\\nsamples = 1\\nvalue = [0, 0, 1, 0, 0]'),\n",
       " Text(0.01276630044394786, 0.45918367346938777, 'X[19544] <= 0.039\\ngini = 0.444\\nsamples = 3\\nvalue = [2, 0, 1, 0, 0]'),\n",
       " Text(0.012391165811986123, 0.4523809523809524, 'gini = 0.0\\nsamples = 2\\nvalue = [2, 0, 0, 0, 0]'),\n",
       " Text(0.013141435075909598, 0.4523809523809524, 'gini = 0.0\\nsamples = 1\\nvalue = [0, 0, 1, 0, 0]'),\n",
       " Text(0.013891704339833071, 0.46598639455782315, 'X[15882] <= 0.085\\ngini = 0.444\\nsamples = 3\\nvalue = [0, 2, 0, 1, 0]'),\n",
       " Text(0.013516569707871334, 0.45918367346938777, 'gini = 0.0\\nsamples = 2\\nvalue = [0, 2, 0, 0, 0]'),\n",
       " Text(0.014266838971794808, 0.45918367346938777, 'gini = 0.0\\nsamples = 1\\nvalue = [0, 0, 0, 1, 0]'),\n",
       " Text(0.015767377499641758, 0.47278911564625853, 'X[3282] <= 0.143\\ngini = 0.625\\nsamples = 4\\nvalue = [0, 1, 1, 2, 0]'),\n",
       " Text(0.015392242867680019, 0.46598639455782315, 'X[4264] <= 0.091\\ngini = 0.5\\nsamples = 2\\nvalue = [0, 1, 1, 0, 0]'),\n",
       " Text(0.015017108235718283, 0.45918367346938777, 'gini = 0.0\\nsamples = 1\\nvalue = [0, 0, 1, 0, 0]'),\n",
       " Text(0.015767377499641758, 0.45918367346938777, 'gini = 0.0\\nsamples = 1\\nvalue = [0, 1, 0, 0, 0]'),\n",
       " Text(0.016142512131603493, 0.46598639455782315, 'gini = 0.0\\nsamples = 2\\nvalue = [0, 0, 0, 2, 0]'),\n",
       " Text(0.01764305065945044, 0.47959183673469385, 'X[10438] <= 0.079\\ngini = 0.694\\nsamples = 7\\nvalue = [3, 0, 1, 2, 1]'),\n",
       " Text(0.017267916027488703, 0.47278911564625853, 'X[15205] <= 0.025\\ngini = 0.56\\nsamples = 5\\nvalue = [3, 0, 1, 0, 1]'),\n",
       " Text(0.016892781395526968, 0.46598639455782315, 'gini = 0.0\\nsamples = 3\\nvalue = [3, 0, 0, 0, 0]'),\n",
       " Text(0.01764305065945044, 0.46598639455782315, 'X[18672] <= 0.07\\ngini = 0.5\\nsamples = 2\\nvalue = [0, 0, 1, 0, 1]'),\n",
       " Text(0.017267916027488703, 0.45918367346938777, 'gini = 0.0\\nsamples = 1\\nvalue = [0, 0, 1, 0, 0]'),\n",
       " Text(0.018018185291412178, 0.45918367346938777, 'gini = 0.0\\nsamples = 1\\nvalue = [0, 0, 0, 0, 1]'),\n",
       " Text(0.018018185291412178, 0.47278911564625853, 'gini = 0.0\\nsamples = 2\\nvalue = [0, 0, 0, 2, 0]'),\n",
       " Text(0.0167169370367949, 0.48639455782312924, 'gini = 0.0\\nsamples = 2\\nvalue = [0, 2, 0, 0, 0]'),\n",
       " Text(0.01709207166875664, 0.4931972789115646, 'gini = 0.0\\nsamples = 2\\nvalue = [0, 2, 0, 0, 0]'),\n",
       " Text(0.017467206300718376, 0.5, 'gini = 0.0\\nsamples = 2\\nvalue = [0, 2, 0, 0, 0]'),\n",
       " Text(0.018592610196603587, 0.5068027210884354, 'X[6342] <= 0.047\\ngini = 0.64\\nsamples = 5\\nvalue = [2, 2, 0, 1, 0]'),\n",
       " Text(0.01821747556464185, 0.5, 'X[13417] <= 0.033\\ngini = 0.444\\nsamples = 3\\nvalue = [0, 2, 0, 1, 0]'),\n",
       " Text(0.017842340932680112, 0.4931972789115646, 'gini = 0.0\\nsamples = 2\\nvalue = [0, 2, 0, 0, 0]'),\n",
       " Text(0.018592610196603587, 0.4931972789115646, 'gini = 0.0\\nsamples = 1\\nvalue = [0, 0, 0, 1, 0]'),\n",
       " Text(0.018967744828565326, 0.5, 'gini = 0.0\\nsamples = 2\\nvalue = [2, 0, 0, 0, 0]'),\n",
       " Text(0.018592610196603587, 0.5136054421768708, 'gini = 0.0\\nsamples = 2\\nvalue = [0, 0, 2, 0, 0]'),\n",
       " Text(0.019718014092488797, 0.5204081632653061, 'X[17355] <= 0.27\\ngini = 0.56\\nsamples = 5\\nvalue = [0, 3, 1, 1, 0]'),\n",
       " Text(0.01934287946052706, 0.5136054421768708, 'gini = 0.0\\nsamples = 3\\nvalue = [0, 3, 0, 0, 0]'),\n",
       " Text(0.020093148724450536, 0.5136054421768708, 'X[14483] <= 0.15\\ngini = 0.5\\nsamples = 2\\nvalue = [0, 0, 1, 1, 0]'),\n",
       " Text(0.019718014092488797, 0.5068027210884354, 'gini = 0.0\\nsamples = 1\\nvalue = [0, 0, 1, 0, 0]'),\n",
       " Text(0.02046828335641227, 0.5068027210884354, 'gini = 0.0\\nsamples = 1\\nvalue = [0, 0, 0, 1, 0]'),\n",
       " Text(0.019718014092488797, 0.5272108843537415, 'gini = 0.0\\nsamples = 3\\nvalue = [0, 0, 0, 3, 0]'),\n",
       " Text(0.020093148724450536, 0.5340136054421769, 'gini = 0.0\\nsamples = 3\\nvalue = [0, 0, 0, 3, 0]'),\n",
       " Text(0.021593687252297482, 0.5408163265306123, 'X[15294] <= 0.047\\ngini = 0.691\\nsamples = 9\\nvalue = [4, 1, 2, 2, 0]'),\n",
       " Text(0.021218552620335746, 0.5340136054421769, 'X[10261] <= 0.122\\ngini = 0.571\\nsamples = 7\\nvalue = [4, 1, 2, 0, 0]'),\n",
       " Text(0.02084341798837401, 0.5272108843537415, 'X[3110] <= 0.055\\ngini = 0.625\\nsamples = 4\\nvalue = [1, 1, 2, 0, 0]'),\n",
       " Text(0.02046828335641227, 0.5204081632653061, 'gini = 0.0\\nsamples = 2\\nvalue = [0, 0, 2, 0, 0]'),\n",
       " Text(0.021218552620335746, 0.5204081632653061, 'X[4404] <= 0.069\\ngini = 0.5\\nsamples = 2\\nvalue = [1, 1, 0, 0, 0]'),\n",
       " Text(0.02084341798837401, 0.5136054421768708, 'gini = 0.0\\nsamples = 1\\nvalue = [1, 0, 0, 0, 0]'),\n",
       " Text(0.021593687252297482, 0.5136054421768708, 'gini = 0.0\\nsamples = 1\\nvalue = [0, 1, 0, 0, 0]'),\n",
       " Text(0.021593687252297482, 0.5272108843537415, 'gini = 0.0\\nsamples = 3\\nvalue = [3, 0, 0, 0, 0]'),\n",
       " Text(0.02196882188425922, 0.5340136054421769, 'gini = 0.0\\nsamples = 2\\nvalue = [0, 0, 0, 2, 0]'),\n",
       " Text(0.023844495044067906, 0.5476190476190477, 'X[13698] <= 0.045\\ngini = 0.625\\nsamples = 16\\nvalue = [1, 1, 2, 9, 3]'),\n",
       " Text(0.023469360412106167, 0.5408163265306123, 'X[18035] <= 0.145\\ngini = 0.485\\nsamples = 13\\nvalue = [1, 1, 2, 9, 0]'),\n",
       " Text(0.022719091148182692, 0.5340136054421769, 'X[24047] <= 0.066\\ngini = 0.298\\nsamples = 11\\nvalue = [0, 0, 2, 9, 0]'),\n",
       " Text(0.022343956516220956, 0.5272108843537415, 'X[2936] <= 0.065\\ngini = 0.18\\nsamples = 10\\nvalue = [0, 0, 1, 9, 0]'),\n",
       " Text(0.02196882188425922, 0.5204081632653061, 'gini = 0.0\\nsamples = 9\\nvalue = [0, 0, 0, 9, 0]'),\n",
       " Text(0.022719091148182692, 0.5204081632653061, 'gini = 0.0\\nsamples = 1\\nvalue = [0, 0, 1, 0, 0]'),\n",
       " Text(0.02309422578014443, 0.5272108843537415, 'gini = 0.0\\nsamples = 1\\nvalue = [0, 0, 1, 0, 0]'),\n",
       " Text(0.02421962967602964, 0.5340136054421769, 'X[17355] <= 0.101\\ngini = 0.5\\nsamples = 2\\nvalue = [1, 1, 0, 0, 0]'),\n",
       " Text(0.023844495044067906, 0.5272108843537415, 'gini = 0.0\\nsamples = 1\\nvalue = [0, 1, 0, 0, 0]'),\n",
       " Text(0.024594764307991377, 0.5272108843537415, 'gini = 0.0\\nsamples = 1\\nvalue = [1, 0, 0, 0, 0]'),\n",
       " Text(0.02421962967602964, 0.5408163265306123, 'gini = 0.0\\nsamples = 3\\nvalue = [0, 0, 0, 0, 3]'),\n",
       " Text(0.023000442122153998, 0.5544217687074829, 'gini = 0.0\\nsamples = 4\\nvalue = [0, 0, 0, 4, 0]'),\n",
       " Text(0.02534503357191485, 0.5612244897959183, 'X[9448] <= 0.119\\ngini = 0.5\\nsamples = 6\\nvalue = [1, 0, 4, 1, 0]'),\n",
       " Text(0.024969898939953116, 0.5544217687074829, 'X[5633] <= 0.061\\ngini = 0.32\\nsamples = 5\\nvalue = [0, 0, 4, 1, 0]'),\n",
       " Text(0.024594764307991377, 0.5476190476190477, 'gini = 0.0\\nsamples = 4\\nvalue = [0, 0, 4, 0, 0]'),\n",
       " Text(0.02534503357191485, 0.5476190476190477, 'gini = 0.0\\nsamples = 1\\nvalue = [0, 0, 0, 1, 0]'),\n",
       " Text(0.02572016820387659, 0.5544217687074829, 'gini = 0.0\\nsamples = 1\\nvalue = [1, 0, 0, 0, 0]'),\n",
       " Text(0.027220706731723537, 0.5680272108843537, 'X[18586] <= 0.071\\ngini = 0.377\\nsamples = 18\\nvalue = [2, 0, 1, 1, 14]'),\n",
       " Text(0.0268455720997618, 0.5612244897959183, 'X[8025] <= 0.117\\ngini = 0.227\\nsamples = 16\\nvalue = [0, 0, 1, 1, 14]'),\n",
       " Text(0.026470437467800062, 0.5544217687074829, 'gini = 0.0\\nsamples = 14\\nvalue = [0, 0, 0, 0, 14]'),\n",
       " Text(0.027220706731723537, 0.5544217687074829, 'X[11830] <= 0.065\\ngini = 0.5\\nsamples = 2\\nvalue = [0, 0, 1, 1, 0]'),\n",
       " Text(0.0268455720997618, 0.5476190476190477, 'gini = 0.0\\nsamples = 1\\nvalue = [0, 0, 0, 1, 0]'),\n",
       " Text(0.027595841363685272, 0.5476190476190477, 'gini = 0.0\\nsamples = 1\\nvalue = [0, 0, 1, 0, 0]'),\n",
       " Text(0.027595841363685272, 0.5612244897959183, 'gini = 0.0\\nsamples = 2\\nvalue = [2, 0, 0, 0, 0]'),\n",
       " Text(0.028346110627608747, 0.5748299319727891, 'X[16495] <= 0.08\\ngini = 0.32\\nsamples = 5\\nvalue = [1, 0, 0, 4, 0]'),\n",
       " Text(0.02797097599564701, 0.5680272108843537, 'gini = 0.0\\nsamples = 4\\nvalue = [0, 0, 0, 4, 0]'),\n",
       " Text(0.028721245259570486, 0.5680272108843537, 'gini = 0.0\\nsamples = 1\\nvalue = [1, 0, 0, 0, 0]'),\n",
       " Text(0.030221783787417432, 0.5816326530612245, 'X[16601] <= 0.047\\ngini = 0.675\\nsamples = 13\\nvalue = [1, 1, 4, 6, 1]'),\n",
       " Text(0.029846649155455696, 0.5748299319727891, 'X[11549] <= 0.107\\ngini = 0.6\\nsamples = 10\\nvalue = [1, 1, 1, 6, 1]'),\n",
       " Text(0.029471514523493957, 0.5680272108843537, 'gini = 0.0\\nsamples = 6\\nvalue = [0, 0, 0, 6, 0]'),\n",
       " Text(0.030221783787417432, 0.5680272108843537, 'X[23383] <= 0.097\\ngini = 0.75\\nsamples = 4\\nvalue = [1, 1, 1, 0, 1]'),\n",
       " Text(0.029846649155455696, 0.5612244897959183, 'X[282] <= 0.14\\ngini = 0.667\\nsamples = 3\\nvalue = [0, 1, 1, 0, 1]'),\n",
       " Text(0.029471514523493957, 0.5544217687074829, 'X[18237] <= 0.115\\ngini = 0.5\\nsamples = 2\\nvalue = [0, 0, 1, 0, 1]'),\n",
       " Text(0.02909637989153222, 0.5476190476190477, 'gini = 0.0\\nsamples = 1\\nvalue = [0, 0, 0, 0, 1]'),\n",
       " Text(0.029846649155455696, 0.5476190476190477, 'gini = 0.0\\nsamples = 1\\nvalue = [0, 0, 1, 0, 0]'),\n",
       " Text(0.030221783787417432, 0.5544217687074829, 'gini = 0.0\\nsamples = 1\\nvalue = [0, 1, 0, 0, 0]'),\n",
       " Text(0.03059691841937917, 0.5612244897959183, 'gini = 0.0\\nsamples = 1\\nvalue = [1, 0, 0, 0, 0]'),\n",
       " Text(0.03059691841937917, 0.5748299319727891, 'gini = 0.0\\nsamples = 3\\nvalue = [0, 0, 3, 0, 0]'),\n",
       " Text(0.03134718768330264, 0.5884353741496599, 'X[15489] <= 0.055\\ngini = 0.375\\nsamples = 4\\nvalue = [0, 1, 3, 0, 0]'),\n",
       " Text(0.030972053051340907, 0.5816326530612245, 'gini = 0.0\\nsamples = 3\\nvalue = [0, 0, 3, 0, 0]'),\n",
       " Text(0.03172232231526438, 0.5816326530612245, 'gini = 0.0\\nsamples = 1\\nvalue = [0, 1, 0, 0, 0]'),\n",
       " Text(0.03322286084311133, 0.5952380952380952, 'X[13597] <= 0.04\\ngini = 0.625\\nsamples = 8\\nvalue = [0, 2, 4, 2, 0]'),\n",
       " Text(0.03284772621114959, 0.5884353741496599, 'X[20936] <= 0.062\\ngini = 0.444\\nsamples = 6\\nvalue = [0, 2, 4, 0, 0]'),\n",
       " Text(0.03247259157918785, 0.5816326530612245, 'gini = 0.0\\nsamples = 4\\nvalue = [0, 0, 4, 0, 0]'),\n",
       " Text(0.03322286084311133, 0.5816326530612245, 'gini = 0.0\\nsamples = 2\\nvalue = [0, 2, 0, 0, 0]'),\n",
       " Text(0.03359799547507306, 0.5884353741496599, 'gini = 0.0\\nsamples = 2\\nvalue = [0, 0, 0, 2, 0]'),\n",
       " Text(0.03234803515841931, 0.6020408163265306, 'gini = 0.0\\nsamples = 4\\nvalue = [0, 0, 0, 4, 0]'),\n",
       " Text(0.03347343905430452, 0.608843537414966, 'X[15363] <= 0.046\\ngini = 0.408\\nsamples = 7\\nvalue = [0, 0, 5, 2, 0]'),\n",
       " Text(0.03309830442234278, 0.6020408163265306, 'gini = 0.0\\nsamples = 5\\nvalue = [0, 0, 5, 0, 0]'),\n",
       " Text(0.03384857368626626, 0.6020408163265306, 'gini = 0.0\\nsamples = 2\\nvalue = [0, 0, 0, 2, 0]'),\n",
       " Text(0.0353491122141132, 0.6156462585034014, 'X[6288] <= 0.035\\ngini = 0.42\\nsamples = 10\\nvalue = [0, 0, 3, 7, 0]'),\n",
       " Text(0.03497397758215147, 0.608843537414966, 'X[4395] <= 0.115\\ngini = 0.219\\nsamples = 8\\nvalue = [0, 0, 1, 7, 0]'),\n",
       " Text(0.03459884295018973, 0.6020408163265306, 'gini = 0.0\\nsamples = 7\\nvalue = [0, 0, 0, 7, 0]'),\n",
       " Text(0.0353491122141132, 0.6020408163265306, 'gini = 0.0\\nsamples = 1\\nvalue = [0, 0, 1, 0, 0]'),\n",
       " Text(0.03572424684607494, 0.608843537414966, 'gini = 0.0\\nsamples = 2\\nvalue = [0, 0, 2, 0, 0]'),\n",
       " Text(0.034786410266170596, 0.6224489795918368, 'gini = 0.0\\nsamples = 7\\nvalue = [0, 0, 0, 0, 7]'),\n",
       " Text(0.035161544898132335, 0.6292517006802721, 'gini = 0.0\\nsamples = 4\\nvalue = [0, 0, 4, 0, 0]'),\n",
       " Text(0.035536679530094074, 0.6360544217687075, 'gini = 0.0\\nsamples = 6\\nvalue = [0, 0, 0, 6, 0]'),\n",
       " Text(0.039288025849711444, 0.6428571428571429, 'X[11128] <= 0.167\\ngini = 0.533\\nsamples = 26\\nvalue = [4, 1, 3, 1, 17]'),\n",
       " Text(0.038912891217749705, 0.6360544217687075, 'X[2327] <= 0.075\\ngini = 0.465\\nsamples = 24\\nvalue = [4, 1, 1, 1, 17]'),\n",
       " Text(0.038537756585787966, 0.6292517006802721, 'X[16433] <= 0.053\\ngini = 0.388\\nsamples = 22\\nvalue = [2, 1, 1, 1, 17]'),\n",
       " Text(0.03759992000588363, 0.6224489795918368, 'X[20753] <= 0.088\\ngini = 0.265\\nsamples = 20\\nvalue = [2, 1, 0, 0, 17]'),\n",
       " Text(0.03684965074196015, 0.6156462585034014, 'X[9257] <= 0.217\\ngini = 0.105\\nsamples = 18\\nvalue = [1, 0, 0, 0, 17]'),\n",
       " Text(0.03647451610999842, 0.608843537414966, 'gini = 0.0\\nsamples = 17\\nvalue = [0, 0, 0, 0, 17]'),\n",
       " Text(0.03722478537392189, 0.608843537414966, 'gini = 0.0\\nsamples = 1\\nvalue = [1, 0, 0, 0, 0]'),\n",
       " Text(0.0383501892698071, 0.6156462585034014, 'X[17910] <= 0.128\\ngini = 0.5\\nsamples = 2\\nvalue = [1, 1, 0, 0, 0]'),\n",
       " Text(0.03797505463784536, 0.608843537414966, 'gini = 0.0\\nsamples = 1\\nvalue = [0, 1, 0, 0, 0]'),\n",
       " Text(0.03872532390176884, 0.608843537414966, 'gini = 0.0\\nsamples = 1\\nvalue = [1, 0, 0, 0, 0]'),\n",
       " Text(0.03947559316569231, 0.6224489795918368, 'X[17675] <= 0.103\\ngini = 0.5\\nsamples = 2\\nvalue = [0, 0, 1, 1, 0]'),\n",
       " Text(0.03910045853373057, 0.6156462585034014, 'gini = 0.0\\nsamples = 1\\nvalue = [0, 0, 1, 0, 0]'),\n",
       " Text(0.03985072779765405, 0.6156462585034014, 'gini = 0.0\\nsamples = 1\\nvalue = [0, 0, 0, 1, 0]'),\n",
       " Text(0.039288025849711444, 0.6292517006802721, 'gini = 0.0\\nsamples = 2\\nvalue = [2, 0, 0, 0, 0]'),\n",
       " Text(0.039663160481673176, 0.6360544217687075, 'gini = 0.0\\nsamples = 2\\nvalue = [0, 0, 2, 0, 0]'),\n",
       " Text(0.041163699009520126, 0.6496598639455783, 'X[12555] <= 0.058\\ngini = 0.529\\nsamples = 11\\nvalue = [0, 2, 7, 2, 0]'),\n",
       " Text(0.04078856437755839, 0.6428571428571429, 'X[10261] <= 0.04\\ngini = 0.346\\nsamples = 9\\nvalue = [0, 2, 7, 0, 0]'),\n",
       " Text(0.040413429745596655, 0.6360544217687075, 'gini = 0.0\\nsamples = 7\\nvalue = [0, 0, 7, 0, 0]'),\n",
       " Text(0.041163699009520126, 0.6360544217687075, 'gini = 0.0\\nsamples = 2\\nvalue = [0, 2, 0, 0, 0]'),\n",
       " Text(0.041538833641481865, 0.6428571428571429, 'gini = 0.0\\nsamples = 2\\nvalue = [0, 0, 0, 2, 0]'),\n",
       " Text(0.042289102905405336, 0.6564625850340136, 'X[2971] <= 0.095\\ngini = 0.26\\nsamples = 13\\nvalue = [0, 0, 0, 2, 11]'),\n",
       " Text(0.041913968273443604, 0.6496598639455783, 'gini = 0.0\\nsamples = 10\\nvalue = [0, 0, 0, 0, 10]'),\n",
       " Text(0.042664237537367075, 0.6496598639455783, 'X[13652] <= 0.072\\ngini = 0.444\\nsamples = 3\\nvalue = [0, 0, 0, 2, 1]'),\n",
       " Text(0.042289102905405336, 0.6428571428571429, 'gini = 0.0\\nsamples = 2\\nvalue = [0, 0, 0, 2, 0]'),\n",
       " Text(0.043039372169328814, 0.6428571428571429, 'gini = 0.0\\nsamples = 1\\nvalue = [0, 0, 0, 0, 1]'),\n",
       " Text(0.044915045329137496, 0.6632653061224489, 'X[3424] <= 0.083\\ngini = 0.446\\nsamples = 11\\nvalue = [0, 1, 8, 1, 1]'),\n",
       " Text(0.04453991069717576, 0.6564625850340136, 'X[14304] <= 0.163\\ngini = 0.34\\nsamples = 10\\nvalue = [0, 1, 8, 1, 0]'),\n",
       " Text(0.044164776065214024, 0.6496598639455783, 'X[18167] <= 0.119\\ngini = 0.198\\nsamples = 9\\nvalue = [0, 1, 8, 0, 0]'),\n",
       " Text(0.043789641433252285, 0.6428571428571429, 'gini = 0.0\\nsamples = 8\\nvalue = [0, 0, 8, 0, 0]'),\n",
       " Text(0.04453991069717576, 0.6428571428571429, 'gini = 0.0\\nsamples = 1\\nvalue = [0, 1, 0, 0, 0]'),\n",
       " Text(0.044915045329137496, 0.6496598639455783, 'gini = 0.0\\nsamples = 1\\nvalue = [0, 0, 0, 1, 0]'),\n",
       " Text(0.045290179961099235, 0.6564625850340136, 'gini = 0.0\\nsamples = 1\\nvalue = [0, 0, 0, 0, 1]'),\n",
       " Text(0.043578628202773806, 0.6700680272108843, 'gini = 0.0\\nsamples = 9\\nvalue = [0, 0, 0, 0, 9]'),\n",
       " Text(0.043953762834735545, 0.6768707482993197, 'gini = 0.0\\nsamples = 5\\nvalue = [0, 0, 0, 5, 0]'),\n",
       " Text(0.045079166730620755, 0.6836734693877551, 'X[11800] <= 0.126\\ngini = 0.245\\nsamples = 7\\nvalue = [0, 1, 0, 6, 0]'),\n",
       " Text(0.044704032098659016, 0.6768707482993197, 'gini = 0.0\\nsamples = 6\\nvalue = [0, 0, 0, 6, 0]'),\n",
       " Text(0.045454301362582494, 0.6768707482993197, 'gini = 0.0\\nsamples = 1\\nvalue = [0, 1, 0, 0, 0]'),\n",
       " Text(0.047329974522391176, 0.6904761904761905, 'X[15205] <= 0.06\\ngini = 0.414\\nsamples = 27\\nvalue = [1, 1, 0, 5, 20]'),\n",
       " Text(0.046579705258467705, 0.6836734693877551, 'X[11361] <= 0.178\\ngini = 0.288\\nsamples = 24\\nvalue = [0, 1, 0, 3, 20]'),\n",
       " Text(0.046204570626505966, 0.6768707482993197, 'X[2624] <= 0.11\\ngini = 0.169\\nsamples = 22\\nvalue = [0, 1, 0, 1, 20]'),\n",
       " Text(0.04582943599454423, 0.6700680272108843, 'gini = 0.0\\nsamples = 20\\nvalue = [0, 0, 0, 0, 20]'),\n",
       " Text(0.046579705258467705, 0.6700680272108843, 'X[22212] <= 0.154\\ngini = 0.5\\nsamples = 2\\nvalue = [0, 1, 0, 1, 0]'),\n",
       " Text(0.046204570626505966, 0.6632653061224489, 'gini = 0.0\\nsamples = 1\\nvalue = [0, 0, 0, 1, 0]'),\n",
       " Text(0.046954839890429444, 0.6632653061224489, 'gini = 0.0\\nsamples = 1\\nvalue = [0, 1, 0, 0, 0]'),\n",
       " Text(0.046954839890429444, 0.6768707482993197, 'gini = 0.0\\nsamples = 2\\nvalue = [0, 0, 0, 2, 0]'),\n",
       " Text(0.048080243786314654, 0.6836734693877551, 'X[15205] <= 0.153\\ngini = 0.444\\nsamples = 3\\nvalue = [1, 0, 0, 2, 0]'),\n",
       " Text(0.047705109154352915, 0.6768707482993197, 'gini = 0.0\\nsamples = 2\\nvalue = [0, 0, 0, 2, 0]'),\n",
       " Text(0.048455378418276386, 0.6768707482993197, 'gini = 0.0\\nsamples = 1\\nvalue = [1, 0, 0, 0, 0]'),\n",
       " Text(0.051081320842008546, 0.6972789115646258, 'X[15363] <= 0.024\\ngini = 0.459\\nsamples = 32\\nvalue = [2, 2, 1, 4, 23]'),\n",
       " Text(0.050331051578085075, 0.6904761904761905, 'X[3043] <= 0.088\\ngini = 0.326\\nsamples = 27\\nvalue = [1, 2, 1, 1, 22]'),\n",
       " Text(0.049955916946123335, 0.6836734693877551, 'X[11488] <= 0.05\\ngini = 0.221\\nsamples = 25\\nvalue = [1, 0, 1, 1, 22]'),\n",
       " Text(0.049205647682199864, 0.6768707482993197, 'X[24070] <= 0.098\\ngini = 0.083\\nsamples = 23\\nvalue = [1, 0, 0, 0, 22]'),\n",
       " Text(0.048830513050238125, 0.6700680272108843, 'gini = 0.0\\nsamples = 22\\nvalue = [0, 0, 0, 0, 22]'),\n",
       " Text(0.049580782314161596, 0.6700680272108843, 'gini = 0.0\\nsamples = 1\\nvalue = [1, 0, 0, 0, 0]'),\n",
       " Text(0.050706186210046814, 0.6768707482993197, 'X[5970] <= 0.048\\ngini = 0.5\\nsamples = 2\\nvalue = [0, 0, 1, 1, 0]'),\n",
       " Text(0.050331051578085075, 0.6700680272108843, 'gini = 0.0\\nsamples = 1\\nvalue = [0, 0, 1, 0, 0]'),\n",
       " Text(0.051081320842008546, 0.6700680272108843, 'gini = 0.0\\nsamples = 1\\nvalue = [0, 0, 0, 1, 0]'),\n",
       " Text(0.050706186210046814, 0.6836734693877551, 'gini = 0.0\\nsamples = 2\\nvalue = [0, 2, 0, 0, 0]'),\n",
       " Text(0.051831590105932024, 0.6904761904761905, 'X[22354] <= 0.05\\ngini = 0.56\\nsamples = 5\\nvalue = [1, 0, 0, 3, 1]'),\n",
       " Text(0.051456455473970285, 0.6836734693877551, 'gini = 0.0\\nsamples = 3\\nvalue = [0, 0, 0, 3, 0]'),\n",
       " Text(0.052206724737893756, 0.6836734693877551, 'X[14302] <= 0.069\\ngini = 0.5\\nsamples = 2\\nvalue = [1, 0, 0, 0, 1]'),\n",
       " Text(0.051831590105932024, 0.6768707482993197, 'gini = 0.0\\nsamples = 1\\nvalue = [1, 0, 0, 0, 0]'),\n",
       " Text(0.052581859369855495, 0.6768707482993197, 'gini = 0.0\\nsamples = 1\\nvalue = [0, 0, 0, 0, 1]'),\n",
       " Text(0.055582936425549394, 0.7040816326530612, 'X[10438] <= 0.052\\ngini = 0.694\\nsamples = 24\\nvalue = [11, 2, 1, 5, 5]'),\n",
       " Text(0.054832667161625916, 0.6972789115646258, 'X[11373] <= 0.047\\ngini = 0.58\\nsamples = 18\\nvalue = [11, 2, 1, 3, 1]'),\n",
       " Text(0.05445753252966418, 0.6904761904761905, 'X[23886] <= 0.086\\ngini = 0.5\\nsamples = 16\\nvalue = [11, 2, 1, 1, 1]'),\n",
       " Text(0.053707263265740705, 0.6836734693877551, 'X[7141] <= 0.049\\ngini = 0.357\\nsamples = 14\\nvalue = [11, 2, 0, 0, 1]'),\n",
       " Text(0.053332128633778966, 0.6768707482993197, 'X[3278] <= 0.115\\ngini = 0.26\\nsamples = 13\\nvalue = [11, 2, 0, 0, 0]'),\n",
       " Text(0.052956994001817234, 0.6700680272108843, 'X[24460] <= 0.17\\ngini = 0.153\\nsamples = 12\\nvalue = [11, 1, 0, 0, 0]'),\n",
       " Text(0.052581859369855495, 0.6632653061224489, 'gini = 0.0\\nsamples = 11\\nvalue = [11, 0, 0, 0, 0]'),\n",
       " Text(0.053332128633778966, 0.6632653061224489, 'gini = 0.0\\nsamples = 1\\nvalue = [0, 1, 0, 0, 0]'),\n",
       " Text(0.053707263265740705, 0.6700680272108843, 'gini = 0.0\\nsamples = 1\\nvalue = [0, 1, 0, 0, 0]'),\n",
       " Text(0.054082397897702444, 0.6768707482993197, 'gini = 0.0\\nsamples = 1\\nvalue = [0, 0, 0, 0, 1]'),\n",
       " Text(0.055207801793587655, 0.6836734693877551, 'X[19988] <= 0.1\\ngini = 0.5\\nsamples = 2\\nvalue = [0, 0, 1, 1, 0]'),\n",
       " Text(0.054832667161625916, 0.6768707482993197, 'gini = 0.0\\nsamples = 1\\nvalue = [0, 0, 0, 1, 0]'),\n",
       " Text(0.055582936425549394, 0.6768707482993197, 'gini = 0.0\\nsamples = 1\\nvalue = [0, 0, 1, 0, 0]'),\n",
       " Text(0.055207801793587655, 0.6904761904761905, 'gini = 0.0\\nsamples = 2\\nvalue = [0, 0, 0, 2, 0]'),\n",
       " Text(0.056333205689472865, 0.6972789115646258, 'X[9347] <= 0.04\\ngini = 0.444\\nsamples = 6\\nvalue = [0, 0, 0, 2, 4]'),\n",
       " Text(0.055958071057511126, 0.6904761904761905, 'gini = 0.0\\nsamples = 4\\nvalue = [0, 0, 0, 0, 4]'),\n",
       " Text(0.056708340321434604, 0.6904761904761905, 'gini = 0.0\\nsamples = 2\\nvalue = [0, 0, 0, 2, 0]'),\n",
       " Text(0.056708340321434604, 0.7108843537414966, 'X[7339] <= 0.115\\ngini = 0.133\\nsamples = 14\\nvalue = [0, 0, 0, 1, 13]'),\n",
       " Text(0.056333205689472865, 0.7040816326530612, 'gini = 0.0\\nsamples = 13\\nvalue = [0, 0, 0, 0, 13]'),\n",
       " Text(0.057083474953396336, 0.7040816326530612, 'gini = 0.0\\nsamples = 1\\nvalue = [0, 0, 0, 1, 0]'),\n",
       " Text(0.058959148113205025, 0.717687074829932, 'X[3045] <= 0.039\\ngini = 0.693\\nsamples = 15\\nvalue = [2, 6, 5, 0, 2]'),\n",
       " Text(0.058584013481243286, 0.7108843537414966, 'X[13970] <= 0.055\\ngini = 0.615\\nsamples = 13\\nvalue = [0, 6, 5, 0, 2]'),\n",
       " Text(0.058208878849281546, 0.7040816326530612, 'X[7314] <= 0.08\\ngini = 0.62\\nsamples = 10\\nvalue = [0, 3, 5, 0, 2]'),\n",
       " Text(0.057833744217319814, 0.6972789115646258, 'X[5273] <= 0.03\\ngini = 0.469\\nsamples = 8\\nvalue = [0, 3, 5, 0, 0]'),\n",
       " Text(0.057458609585358075, 0.6904761904761905, 'X[8153] <= 0.075\\ngini = 0.278\\nsamples = 6\\nvalue = [0, 1, 5, 0, 0]'),\n",
       " Text(0.057083474953396336, 0.6836734693877551, 'gini = 0.0\\nsamples = 5\\nvalue = [0, 0, 5, 0, 0]'),\n",
       " Text(0.057833744217319814, 0.6836734693877551, 'gini = 0.0\\nsamples = 1\\nvalue = [0, 1, 0, 0, 0]'),\n",
       " Text(0.058208878849281546, 0.6904761904761905, 'gini = 0.0\\nsamples = 2\\nvalue = [0, 2, 0, 0, 0]'),\n",
       " Text(0.058584013481243286, 0.6972789115646258, 'gini = 0.0\\nsamples = 2\\nvalue = [0, 0, 0, 0, 2]'),\n",
       " Text(0.058959148113205025, 0.7040816326530612, 'gini = 0.0\\nsamples = 3\\nvalue = [0, 3, 0, 0, 0]'),\n",
       " Text(0.059334282745166764, 0.7108843537414966, 'gini = 0.0\\nsamples = 2\\nvalue = [2, 0, 0, 0, 0]'),\n",
       " Text(0.060834821273013706, 0.7244897959183674, 'X[18676] <= 0.091\\ngini = 0.288\\nsamples = 24\\nvalue = [1, 0, 0, 3, 20]'),\n",
       " Text(0.060459686641051974, 0.717687074829932, 'X[6569] <= 0.25\\ngini = 0.169\\nsamples = 22\\nvalue = [1, 0, 0, 1, 20]'),\n",
       " Text(0.060084552009090235, 0.7108843537414966, 'X[11549] <= 0.113\\ngini = 0.091\\nsamples = 21\\nvalue = [0, 0, 0, 1, 20]'),\n",
       " Text(0.059709417377128496, 0.7040816326530612, 'gini = 0.0\\nsamples = 20\\nvalue = [0, 0, 0, 0, 20]'),\n",
       " Text(0.060459686641051974, 0.7040816326530612, 'gini = 0.0\\nsamples = 1\\nvalue = [0, 0, 0, 1, 0]'),\n",
       " Text(0.060834821273013706, 0.7108843537414966, 'gini = 0.0\\nsamples = 1\\nvalue = [1, 0, 0, 0, 0]'),\n",
       " Text(0.061209955904975445, 0.717687074829932, 'gini = 0.0\\nsamples = 2\\nvalue = [0, 0, 0, 2, 0]'),\n",
       " Text(0.0627104944328224, 0.7312925170068028, 'X[8439] <= 0.132\\ngini = 0.403\\nsamples = 12\\nvalue = [0, 0, 1, 9, 2]'),\n",
       " Text(0.062335359800860655, 0.7244897959183674, 'X[4496] <= 0.052\\ngini = 0.18\\nsamples = 10\\nvalue = [0, 0, 1, 9, 0]'),\n",
       " Text(0.061960225168898916, 0.717687074829932, 'gini = 0.0\\nsamples = 9\\nvalue = [0, 0, 0, 9, 0]'),\n",
       " Text(0.0627104944328224, 0.717687074829932, 'gini = 0.0\\nsamples = 1\\nvalue = [0, 0, 1, 0, 0]'),\n",
       " Text(0.06308562906478413, 0.7244897959183674, 'gini = 0.0\\nsamples = 2\\nvalue = [0, 0, 0, 0, 2]'),\n",
       " Text(0.0638358983287076, 0.7380952380952381, 'X[24346] <= 0.136\\ngini = 0.292\\nsamples = 24\\nvalue = [2, 0, 0, 2, 20]'),\n",
       " Text(0.06346076369674587, 0.7312925170068028, 'gini = 0.0\\nsamples = 19\\nvalue = [0, 0, 0, 0, 19]'),\n",
       " Text(0.06421103296066934, 0.7312925170068028, 'X[24226] <= 0.056\\ngini = 0.64\\nsamples = 5\\nvalue = [2, 0, 0, 2, 1]'),\n",
       " Text(0.0638358983287076, 0.7244897959183674, 'X[11493] <= 0.042\\ngini = 0.5\\nsamples = 4\\nvalue = [2, 0, 0, 2, 0]'),\n",
       " Text(0.06346076369674587, 0.717687074829932, 'gini = 0.0\\nsamples = 1\\nvalue = [1, 0, 0, 0, 0]'),\n",
       " Text(0.06421103296066934, 0.717687074829932, 'X[19743] <= 0.072\\ngini = 0.444\\nsamples = 3\\nvalue = [1, 0, 0, 2, 0]'),\n",
       " Text(0.0638358983287076, 0.7108843537414966, 'gini = 0.0\\nsamples = 2\\nvalue = [0, 0, 0, 2, 0]'),\n",
       " Text(0.06458616759263108, 0.7108843537414966, 'gini = 0.0\\nsamples = 1\\nvalue = [1, 0, 0, 0, 0]'),\n",
       " Text(0.06458616759263108, 0.7244897959183674, 'gini = 0.0\\nsamples = 1\\nvalue = [0, 0, 0, 0, 1]'),\n",
       " Text(0.0657115714885163, 0.7448979591836735, 'X[15294] <= 0.164\\ngini = 0.194\\nsamples = 19\\nvalue = [1, 0, 1, 0, 17]'),\n",
       " Text(0.06533643685655455, 0.7380952380952381, 'X[21568] <= 0.12\\ngini = 0.105\\nsamples = 18\\nvalue = [1, 0, 0, 0, 17]'),\n",
       " Text(0.06496130222459282, 0.7312925170068028, 'gini = 0.0\\nsamples = 17\\nvalue = [0, 0, 0, 0, 17]'),\n",
       " Text(0.0657115714885163, 0.7312925170068028, 'gini = 0.0\\nsamples = 1\\nvalue = [1, 0, 0, 0, 0]'),\n",
       " Text(0.06608670612047803, 0.7380952380952381, 'gini = 0.0\\nsamples = 1\\nvalue = [0, 0, 1, 0, 0]'),\n",
       " Text(0.06758724464832497, 0.7517006802721088, 'X[24226] <= 0.048\\ngini = 0.58\\nsamples = 10\\nvalue = [6, 2, 1, 0, 1]'),\n",
       " Text(0.06721211001636324, 0.7448979591836735, 'X[24411] <= 0.043\\ngini = 0.406\\nsamples = 8\\nvalue = [6, 0, 1, 0, 1]'),\n",
       " Text(0.0668369753844015, 0.7380952380952381, 'X[13524] <= 0.06\\ngini = 0.245\\nsamples = 7\\nvalue = [6, 0, 1, 0, 0]'),\n",
       " Text(0.06646184075243976, 0.7312925170068028, 'gini = 0.0\\nsamples = 6\\nvalue = [6, 0, 0, 0, 0]'),\n",
       " Text(0.06721211001636324, 0.7312925170068028, 'gini = 0.0\\nsamples = 1\\nvalue = [0, 0, 1, 0, 0]'),\n",
       " Text(0.06758724464832497, 0.7380952380952381, 'gini = 0.0\\nsamples = 1\\nvalue = [0, 0, 0, 0, 1]'),\n",
       " Text(0.06796237928028671, 0.7448979591836735, 'gini = 0.0\\nsamples = 2\\nvalue = [0, 2, 0, 0, 0]'),\n",
       " Text(0.06946291780813366, 0.7585034013605442, 'X[16887] <= 0.082\\ngini = 0.64\\nsamples = 10\\nvalue = [2, 4, 4, 0, 0]'),\n",
       " Text(0.06908778317617192, 0.7517006802721088, 'X[20753] <= 0.018\\ngini = 0.5\\nsamples = 8\\nvalue = [0, 4, 4, 0, 0]'),\n",
       " Text(0.06871264854421018, 0.7448979591836735, 'X[14304] <= 0.056\\ngini = 0.32\\nsamples = 5\\nvalue = [0, 1, 4, 0, 0]'),\n",
       " Text(0.06833751391224845, 0.7380952380952381, 'gini = 0.0\\nsamples = 4\\nvalue = [0, 0, 4, 0, 0]'),\n",
       " Text(0.06908778317617192, 0.7380952380952381, 'gini = 0.0\\nsamples = 1\\nvalue = [0, 1, 0, 0, 0]'),\n",
       " Text(0.06946291780813366, 0.7448979591836735, 'gini = 0.0\\nsamples = 3\\nvalue = [0, 3, 0, 0, 0]'),\n",
       " Text(0.06983805244009539, 0.7517006802721088, 'gini = 0.0\\nsamples = 2\\nvalue = [2, 0, 0, 0, 0]'),\n",
       " Text(0.07171372559990408, 0.7653061224489796, 'X[10438] <= 0.056\\ngini = 0.704\\nsamples = 28\\nvalue = [11, 2, 1, 9, 5]'),\n",
       " Text(0.07096345633598061, 0.7585034013605442, 'X[14245] <= 0.061\\ngini = 0.639\\nsamples = 21\\nvalue = [11, 2, 0, 3, 5]'),\n",
       " Text(0.07058832170401887, 0.7517006802721088, 'X[13597] <= 0.043\\ngini = 0.571\\nsamples = 19\\nvalue = [11, 0, 0, 3, 5]'),\n",
       " Text(0.07021318707205713, 0.7448979591836735, 'X[8523] <= 0.112\\ngini = 0.491\\nsamples = 17\\nvalue = [11, 0, 0, 1, 5]'),\n",
       " Text(0.06983805244009539, 0.7380952380952381, 'X[8439] <= 0.083\\ngini = 0.418\\nsamples = 15\\nvalue = [11, 0, 0, 1, 3]'),\n",
       " Text(0.06946291780813366, 0.7312925170068028, 'X[20437] <= 0.127\\ngini = 0.272\\nsamples = 13\\nvalue = [11, 0, 0, 1, 1]'),\n",
       " Text(0.06908778317617192, 0.7244897959183674, 'X[15195] <= 0.145\\ngini = 0.153\\nsamples = 12\\nvalue = [11, 0, 0, 1, 0]'),\n",
       " Text(0.06871264854421018, 0.717687074829932, 'gini = 0.0\\nsamples = 11\\nvalue = [11, 0, 0, 0, 0]'),\n",
       " Text(0.06946291780813366, 0.717687074829932, 'gini = 0.0\\nsamples = 1\\nvalue = [0, 0, 0, 1, 0]'),\n",
       " Text(0.06983805244009539, 0.7244897959183674, 'gini = 0.0\\nsamples = 1\\nvalue = [0, 0, 0, 0, 1]'),\n",
       " Text(0.07021318707205713, 0.7312925170068028, 'gini = 0.0\\nsamples = 2\\nvalue = [0, 0, 0, 0, 2]'),\n",
       " Text(0.07058832170401887, 0.7380952380952381, 'gini = 0.0\\nsamples = 2\\nvalue = [0, 0, 0, 0, 2]'),\n",
       " Text(0.07096345633598061, 0.7448979591836735, 'gini = 0.0\\nsamples = 2\\nvalue = [0, 0, 0, 2, 0]'),\n",
       " Text(0.07133859096794234, 0.7517006802721088, 'gini = 0.0\\nsamples = 2\\nvalue = [0, 2, 0, 0, 0]'),\n",
       " Text(0.07246399486382755, 0.7585034013605442, 'X[10201] <= 0.065\\ngini = 0.245\\nsamples = 7\\nvalue = [0, 0, 1, 6, 0]'),\n",
       " Text(0.07208886023186582, 0.7517006802721088, 'gini = 0.0\\nsamples = 6\\nvalue = [0, 0, 0, 6, 0]'),\n",
       " Text(0.07283912949578929, 0.7517006802721088, 'gini = 0.0\\nsamples = 1\\nvalue = [0, 0, 1, 0, 0]'),\n",
       " Text(0.07042090322080938, 0.7721088435374149, 'gini = 0.0\\nsamples = 6\\nvalue = [0, 0, 0, 6, 0]'),\n",
       " Text(0.07527750460354057, 0.7789115646258503, 'X[20936] <= 0.062\\ngini = 0.323\\nsamples = 36\\nvalue = [0, 0, 1, 6, 29]'),\n",
       " Text(0.07433966802363624, 0.7721088435374149, 'X[5633] <= 0.112\\ngini = 0.213\\nsamples = 33\\nvalue = [0, 0, 0, 4, 29]'),\n",
       " Text(0.07358939875971277, 0.7653061224489796, 'X[9611] <= 0.053\\ngini = 0.067\\nsamples = 29\\nvalue = [0, 0, 0, 1, 28]'),\n",
       " Text(0.07321426412775103, 0.7585034013605442, 'gini = 0.0\\nsamples = 28\\nvalue = [0, 0, 0, 0, 28]'),\n",
       " Text(0.0739645333916745, 0.7585034013605442, 'gini = 0.0\\nsamples = 1\\nvalue = [0, 0, 0, 1, 0]'),\n",
       " Text(0.07508993728755971, 0.7653061224489796, 'X[23716] <= 0.113\\ngini = 0.375\\nsamples = 4\\nvalue = [0, 0, 0, 3, 1]'),\n",
       " Text(0.07471480265559798, 0.7585034013605442, 'gini = 0.0\\nsamples = 3\\nvalue = [0, 0, 0, 3, 0]'),\n",
       " Text(0.07546507191952145, 0.7585034013605442, 'gini = 0.0\\nsamples = 1\\nvalue = [0, 0, 0, 0, 1]'),\n",
       " Text(0.07621534118344492, 0.7721088435374149, 'X[22272] <= 0.09\\ngini = 0.444\\nsamples = 3\\nvalue = [0, 0, 1, 2, 0]'),\n",
       " Text(0.07584020655148319, 0.7653061224489796, 'gini = 0.0\\nsamples = 2\\nvalue = [0, 0, 0, 2, 0]'),\n",
       " Text(0.07659047581540666, 0.7653061224489796, 'gini = 0.0\\nsamples = 1\\nvalue = [0, 0, 1, 0, 0]'),\n",
       " Text(0.0764029084994258, 0.7857142857142857, 'X[4006] <= 0.088\\ngini = 0.278\\nsamples = 12\\nvalue = [0, 0, 0, 10, 2]'),\n",
       " Text(0.07602777386746405, 0.7789115646258503, 'gini = 0.0\\nsamples = 10\\nvalue = [0, 0, 0, 10, 0]'),\n",
       " Text(0.07677804313138753, 0.7789115646258503, 'gini = 0.0\\nsamples = 2\\nvalue = [0, 0, 0, 0, 2]'),\n",
       " Text(0.07884128360717708, 0.7925170068027211, 'X[16898] <= 0.153\\ngini = 0.444\\nsamples = 82\\nvalue = [0, 2, 3, 19, 58]'),\n",
       " Text(0.07846614897521534, 0.7857142857142857, 'X[7865] <= 0.065\\ngini = 0.418\\nsamples = 79\\nvalue = [0, 2, 3, 16, 58]'),\n",
       " Text(0.0780910143432536, 0.7789115646258503, 'X[20879] <= 0.069\\ngini = 0.389\\nsamples = 77\\nvalue = [0, 2, 1, 16, 58]'),\n",
       " Text(0.07771587971129187, 0.7721088435374149, 'X[17724] <= 0.118\\ngini = 0.366\\nsamples = 75\\nvalue = [0, 2, 1, 14, 58]'),\n",
       " Text(0.07734074507933013, 0.7653061224489796, 'X[22212] <= 0.05\\ngini = 0.341\\nsamples = 73\\nvalue = [0, 2, 1, 12, 58]'),\n",
       " Text(0.0769656104473684, 0.7585034013605442, 'X[9611] <= 0.076\\ngini = 0.312\\nsamples = 71\\nvalue = [0, 2, 1, 10, 58]'),\n",
       " Text(0.07659047581540666, 0.7517006802721088, 'X[1365] <= 0.056\\ngini = 0.279\\nsamples = 69\\nvalue = [0, 2, 1, 8, 58]'),\n",
       " Text(0.07621534118344492, 0.7448979591836735, 'X[15487] <= 0.066\\ngini = 0.241\\nsamples = 67\\nvalue = [0, 2, 1, 6, 58]'),\n",
       " Text(0.07584020655148319, 0.7380952380952381, 'X[13458] <= 0.123\\ngini = 0.199\\nsamples = 65\\nvalue = [0, 2, 1, 4, 58]'),\n",
       " Text(0.07508993728755971, 0.7312925170068028, 'X[9082] <= 0.131\\ngini = 0.152\\nsamples = 62\\nvalue = [0, 2, 1, 2, 57]'),\n",
       " Text(0.07471480265559798, 0.7244897959183674, 'X[2551] <= 0.11\\ngini = 0.125\\nsamples = 61\\nvalue = [0, 2, 0, 2, 57]'),\n",
       " Text(0.07433966802363624, 0.717687074829932, 'X[5595] <= 0.081\\ngini = 0.096\\nsamples = 60\\nvalue = [0, 1, 0, 2, 57]'),\n",
       " Text(0.0739645333916745, 0.7108843537414966, 'X[10116] <= 0.095\\ngini = 0.065\\nsamples = 59\\nvalue = [0, 0, 0, 2, 57]'),\n",
       " Text(0.07358939875971277, 0.7040816326530612, 'X[23526] <= 0.162\\ngini = 0.034\\nsamples = 58\\nvalue = [0, 0, 0, 1, 57]'),\n",
       " Text(0.07321426412775103, 0.6972789115646258, 'gini = 0.0\\nsamples = 57\\nvalue = [0, 0, 0, 0, 57]'),\n",
       " Text(0.0739645333916745, 0.6972789115646258, 'gini = 0.0\\nsamples = 1\\nvalue = [0, 0, 0, 1, 0]'),\n",
       " Text(0.07433966802363624, 0.7040816326530612, 'gini = 0.0\\nsamples = 1\\nvalue = [0, 0, 0, 1, 0]'),\n",
       " Text(0.07471480265559798, 0.7108843537414966, 'gini = 0.0\\nsamples = 1\\nvalue = [0, 1, 0, 0, 0]'),\n",
       " Text(0.07508993728755971, 0.717687074829932, 'gini = 0.0\\nsamples = 1\\nvalue = [0, 1, 0, 0, 0]'),\n",
       " Text(0.07546507191952145, 0.7244897959183674, 'gini = 0.0\\nsamples = 1\\nvalue = [0, 0, 1, 0, 0]'),\n",
       " Text(0.07659047581540666, 0.7312925170068028, 'X[24460] <= 0.063\\ngini = 0.444\\nsamples = 3\\nvalue = [0, 0, 0, 2, 1]'),\n",
       " Text(0.07621534118344492, 0.7244897959183674, 'gini = 0.0\\nsamples = 2\\nvalue = [0, 0, 0, 2, 0]'),\n",
       " Text(0.0769656104473684, 0.7244897959183674, 'gini = 0.0\\nsamples = 1\\nvalue = [0, 0, 0, 0, 1]'),\n",
       " Text(0.07659047581540666, 0.7380952380952381, 'gini = 0.0\\nsamples = 2\\nvalue = [0, 0, 0, 2, 0]'),\n",
       " Text(0.0769656104473684, 0.7448979591836735, 'gini = 0.0\\nsamples = 2\\nvalue = [0, 0, 0, 2, 0]'),\n",
       " Text(0.07734074507933013, 0.7517006802721088, 'gini = 0.0\\nsamples = 2\\nvalue = [0, 0, 0, 2, 0]'),\n",
       " Text(0.07771587971129187, 0.7585034013605442, 'gini = 0.0\\nsamples = 2\\nvalue = [0, 0, 0, 2, 0]'),\n",
       " Text(0.0780910143432536, 0.7653061224489796, 'gini = 0.0\\nsamples = 2\\nvalue = [0, 0, 0, 2, 0]'),\n",
       " Text(0.07846614897521534, 0.7721088435374149, 'gini = 0.0\\nsamples = 2\\nvalue = [0, 0, 0, 2, 0]'),\n",
       " Text(0.07884128360717708, 0.7789115646258503, 'gini = 0.0\\nsamples = 2\\nvalue = [0, 0, 2, 0, 0]'),\n",
       " Text(0.07921641823913882, 0.7857142857142857, 'gini = 0.0\\nsamples = 3\\nvalue = [0, 0, 0, 3, 0]'),\n",
       " Text(0.0810920913989475, 0.7993197278911565, 'X[575] <= 0.156\\ngini = 0.726\\nsamples = 19\\nvalue = [4, 3, 5, 7, 0]'),\n",
       " Text(0.08034182213502403, 0.7925170068027211, 'X[20753] <= 0.043\\ngini = 0.639\\nsamples = 13\\nvalue = [4, 3, 0, 6, 0]'),\n",
       " Text(0.0799666875030623, 0.7857142857142857, 'gini = 0.0\\nsamples = 5\\nvalue = [0, 0, 0, 5, 0]'),\n",
       " Text(0.08071695676698577, 0.7857142857142857, 'X[5273] <= 0.029\\ngini = 0.594\\nsamples = 8\\nvalue = [4, 3, 0, 1, 0]'),\n",
       " Text(0.08034182213502403, 0.7789115646258503, 'X[10739] <= 0.035\\ngini = 0.32\\nsamples = 5\\nvalue = [4, 0, 0, 1, 0]'),\n",
       " Text(0.0799666875030623, 0.7721088435374149, 'gini = 0.0\\nsamples = 4\\nvalue = [4, 0, 0, 0, 0]'),\n",
       " Text(0.08071695676698577, 0.7721088435374149, 'gini = 0.0\\nsamples = 1\\nvalue = [0, 0, 0, 1, 0]'),\n",
       " Text(0.0810920913989475, 0.7789115646258503, 'gini = 0.0\\nsamples = 3\\nvalue = [0, 3, 0, 0, 0]'),\n",
       " Text(0.08184236066287098, 0.7925170068027211, 'X[6244] <= 0.104\\ngini = 0.278\\nsamples = 6\\nvalue = [0, 0, 5, 1, 0]'),\n",
       " Text(0.08146722603090924, 0.7857142857142857, 'gini = 0.0\\nsamples = 5\\nvalue = [0, 0, 5, 0, 0]'),\n",
       " Text(0.08221749529483272, 0.7857142857142857, 'gini = 0.0\\nsamples = 1\\nvalue = [0, 0, 0, 1, 0]'),\n",
       " Text(0.08446830308660314, 0.8061224489795918, 'X[10408] <= 0.032\\ngini = 0.556\\nsamples = 13\\nvalue = [1, 7, 0, 5, 0]'),\n",
       " Text(0.0840931684546414, 0.7993197278911565, 'X[5804] <= 0.032\\ngini = 0.46\\nsamples = 10\\nvalue = [1, 7, 0, 2, 0]'),\n",
       " Text(0.08334289919071793, 0.7925170068027211, 'X[19544] <= 0.116\\ngini = 0.219\\nsamples = 8\\nvalue = [0, 7, 0, 1, 0]'),\n",
       " Text(0.0829677645587562, 0.7857142857142857, 'gini = 0.0\\nsamples = 7\\nvalue = [0, 7, 0, 0, 0]'),\n",
       " Text(0.08371803382267966, 0.7857142857142857, 'gini = 0.0\\nsamples = 1\\nvalue = [0, 0, 0, 1, 0]'),\n",
       " Text(0.08484343771856487, 0.7925170068027211, 'X[20753] <= 0.017\\ngini = 0.5\\nsamples = 2\\nvalue = [1, 0, 0, 1, 0]'),\n",
       " Text(0.08446830308660314, 0.7857142857142857, 'gini = 0.0\\nsamples = 1\\nvalue = [1, 0, 0, 0, 0]'),\n",
       " Text(0.08521857235052661, 0.7857142857142857, 'gini = 0.0\\nsamples = 1\\nvalue = [0, 0, 0, 1, 0]'),\n",
       " Text(0.08484343771856487, 0.7993197278911565, 'gini = 0.0\\nsamples = 3\\nvalue = [0, 0, 0, 3, 0]'),\n",
       " Text(0.08840721672220138, 0.8129251700680272, 'X[23781] <= 0.162\\ngini = 0.76\\nsamples = 24\\nvalue = [5, 8, 6, 3, 2]'),\n",
       " Text(0.08803208209023963, 0.8061224489795918, 'X[10408] <= 0.088\\ngini = 0.735\\nsamples = 20\\nvalue = [5, 8, 2, 3, 2]'),\n",
       " Text(0.0876569474582779, 0.7993197278911565, 'X[11134] <= 0.032\\ngini = 0.685\\nsamples = 18\\nvalue = [5, 8, 0, 3, 2]'),\n",
       " Text(0.08671911087837356, 0.7925170068027211, 'X[20753] <= 0.033\\ngini = 0.602\\nsamples = 14\\nvalue = [5, 7, 0, 0, 2]'),\n",
       " Text(0.08596884161445008, 0.7857142857142857, 'X[10261] <= 0.027\\ngini = 0.46\\nsamples = 10\\nvalue = [2, 7, 0, 0, 1]'),\n",
       " Text(0.08559370698248835, 0.7789115646258503, 'X[18672] <= 0.137\\ngini = 0.219\\nsamples = 8\\nvalue = [0, 7, 0, 0, 1]'),\n",
       " Text(0.08521857235052661, 0.7721088435374149, 'gini = 0.0\\nsamples = 7\\nvalue = [0, 7, 0, 0, 0]'),\n",
       " Text(0.08596884161445008, 0.7721088435374149, 'gini = 0.0\\nsamples = 1\\nvalue = [0, 0, 0, 0, 1]'),\n",
       " Text(0.08634397624641182, 0.7789115646258503, 'gini = 0.0\\nsamples = 2\\nvalue = [2, 0, 0, 0, 0]'),\n",
       " Text(0.08746938014229703, 0.7857142857142857, 'X[17800] <= 0.17\\ngini = 0.375\\nsamples = 4\\nvalue = [3, 0, 0, 0, 1]'),\n",
       " Text(0.08709424551033529, 0.7789115646258503, 'gini = 0.0\\nsamples = 3\\nvalue = [3, 0, 0, 0, 0]'),\n",
       " Text(0.08784451477425877, 0.7789115646258503, 'gini = 0.0\\nsamples = 1\\nvalue = [0, 0, 0, 0, 1]'),\n",
       " Text(0.08859478403818224, 0.7925170068027211, 'X[348] <= 0.061\\ngini = 0.375\\nsamples = 4\\nvalue = [0, 1, 0, 3, 0]'),\n",
       " Text(0.0882196494062205, 0.7857142857142857, 'gini = 0.0\\nsamples = 3\\nvalue = [0, 0, 0, 3, 0]'),\n",
       " Text(0.08896991867014398, 0.7857142857142857, 'gini = 0.0\\nsamples = 1\\nvalue = [0, 1, 0, 0, 0]'),\n",
       " Text(0.08840721672220138, 0.7993197278911565, 'gini = 0.0\\nsamples = 2\\nvalue = [0, 0, 2, 0, 0]'),\n",
       " Text(0.08878235135416311, 0.8061224489795918, 'gini = 0.0\\nsamples = 4\\nvalue = [0, 0, 4, 0, 0]'),\n",
       " Text(0.08953262061808659, 0.8197278911564626, 'X[19544] <= 0.068\\ngini = 0.32\\nsamples = 10\\nvalue = [8, 0, 0, 0, 2]'),\n",
       " Text(0.08915748598612484, 0.8129251700680272, 'gini = 0.0\\nsamples = 8\\nvalue = [8, 0, 0, 0, 0]'),\n",
       " Text(0.08990775525004832, 0.8129251700680272, 'gini = 0.0\\nsamples = 2\\nvalue = [0, 0, 0, 0, 2]'),\n",
       " Text(0.09548788290047916, 0.826530612244898, 'X[15325] <= 0.19\\ngini = 0.597\\nsamples = 84\\nvalue = [1, 2, 7, 42, 32]'),\n",
       " Text(0.09375288522765612, 0.8197278911564626, 'X[10261] <= 0.026\\ngini = 0.579\\nsamples = 69\\nvalue = [1, 2, 6, 39, 21]'),\n",
       " Text(0.09253369767378047, 0.8129251700680272, 'X[11493] <= 0.041\\ngini = 0.551\\nsamples = 64\\nvalue = [1, 2, 5, 39, 17]'),\n",
       " Text(0.0912207264619144, 0.8061224489795918, 'X[21251] <= 0.186\\ngini = 0.521\\nsamples = 13\\nvalue = [0, 1, 0, 4, 8]'),\n",
       " Text(0.09084559182995267, 0.7993197278911565, 'X[15325] <= 0.12\\ngini = 0.444\\nsamples = 12\\nvalue = [0, 0, 0, 4, 8]'),\n",
       " Text(0.09009532256602919, 0.7925170068027211, 'X[11566] <= 0.098\\ngini = 0.245\\nsamples = 7\\nvalue = [0, 0, 0, 1, 6]'),\n",
       " Text(0.08972018793406746, 0.7857142857142857, 'gini = 0.0\\nsamples = 6\\nvalue = [0, 0, 0, 0, 6]'),\n",
       " Text(0.09047045719799093, 0.7857142857142857, 'gini = 0.0\\nsamples = 1\\nvalue = [0, 0, 0, 1, 0]'),\n",
       " Text(0.09159586109387614, 0.7925170068027211, 'X[20753] <= 0.026\\ngini = 0.48\\nsamples = 5\\nvalue = [0, 0, 0, 3, 2]'),\n",
       " Text(0.0912207264619144, 0.7857142857142857, 'gini = 0.0\\nsamples = 3\\nvalue = [0, 0, 0, 3, 0]'),\n",
       " Text(0.09197099572583788, 0.7857142857142857, 'gini = 0.0\\nsamples = 2\\nvalue = [0, 0, 0, 0, 2]'),\n",
       " Text(0.09159586109387614, 0.7993197278911565, 'gini = 0.0\\nsamples = 1\\nvalue = [0, 1, 0, 0, 0]'),\n",
       " Text(0.09384666888564656, 0.8061224489795918, 'X[2971] <= 0.114\\ngini = 0.488\\nsamples = 51\\nvalue = [1, 1, 5, 35, 9]'),\n",
       " Text(0.09347153425368482, 0.7993197278911565, 'X[5117] <= 0.136\\ngini = 0.441\\nsamples = 48\\nvalue = [1, 1, 5, 35, 6]'),\n",
       " Text(0.09309639962172309, 0.7925170068027211, 'X[15205] <= 0.103\\ngini = 0.401\\nsamples = 46\\nvalue = [1, 1, 5, 35, 4]'),\n",
       " Text(0.09272126498976135, 0.7857142857142857, 'X[5804] <= 0.115\\ngini = 0.351\\nsamples = 44\\nvalue = [1, 1, 5, 35, 2]'),\n",
       " Text(0.09168964475186657, 0.7789115646258503, 'X[6949] <= 0.059\\ngini = 0.294\\nsamples = 42\\nvalue = [0, 1, 4, 35, 2]'),\n",
       " Text(0.09075180817196223, 0.7721088435374149, 'X[6390] <= 0.07\\ngini = 0.16\\nsamples = 35\\nvalue = [0, 0, 2, 32, 1]'),\n",
       " Text(0.0903766735400005, 0.7653061224489796, 'X[20688] <= 0.173\\ngini = 0.111\\nsamples = 34\\nvalue = [0, 0, 2, 32, 0]'),\n",
       " Text(0.09000153890803876, 0.7585034013605442, 'X[11268] <= 0.179\\ngini = 0.059\\nsamples = 33\\nvalue = [0, 0, 1, 32, 0]'),\n",
       " Text(0.08962640427607702, 0.7517006802721088, 'gini = 0.0\\nsamples = 32\\nvalue = [0, 0, 0, 32, 0]'),\n",
       " Text(0.0903766735400005, 0.7517006802721088, 'gini = 0.0\\nsamples = 1\\nvalue = [0, 0, 1, 0, 0]'),\n",
       " Text(0.09075180817196223, 0.7585034013605442, 'gini = 0.0\\nsamples = 1\\nvalue = [0, 0, 1, 0, 0]'),\n",
       " Text(0.09112694280392397, 0.7653061224489796, 'gini = 0.0\\nsamples = 1\\nvalue = [0, 0, 0, 0, 1]'),\n",
       " Text(0.09262748133177091, 0.7721088435374149, 'X[6949] <= 0.144\\ngini = 0.694\\nsamples = 7\\nvalue = [0, 1, 2, 3, 1]'),\n",
       " Text(0.09187721206784744, 0.7653061224489796, 'X[19562] <= 0.114\\ngini = 0.444\\nsamples = 3\\nvalue = [0, 0, 2, 0, 1]'),\n",
       " Text(0.0915020774358857, 0.7585034013605442, 'gini = 0.0\\nsamples = 2\\nvalue = [0, 0, 2, 0, 0]'),\n",
       " Text(0.09225234669980918, 0.7585034013605442, 'gini = 0.0\\nsamples = 1\\nvalue = [0, 0, 0, 0, 1]'),\n",
       " Text(0.09337775059569439, 0.7653061224489796, 'X[23781] <= 0.133\\ngini = 0.375\\nsamples = 4\\nvalue = [0, 1, 0, 3, 0]'),\n",
       " Text(0.09300261596373265, 0.7585034013605442, 'gini = 0.0\\nsamples = 3\\nvalue = [0, 0, 0, 3, 0]'),\n",
       " Text(0.09375288522765612, 0.7585034013605442, 'gini = 0.0\\nsamples = 1\\nvalue = [0, 1, 0, 0, 0]'),\n",
       " Text(0.09375288522765612, 0.7789115646258503, 'X[15325] <= 0.107\\ngini = 0.5\\nsamples = 2\\nvalue = [1, 0, 1, 0, 0]'),\n",
       " Text(0.09337775059569439, 0.7721088435374149, 'gini = 0.0\\nsamples = 1\\nvalue = [0, 0, 1, 0, 0]'),\n",
       " Text(0.09412801985961786, 0.7721088435374149, 'gini = 0.0\\nsamples = 1\\nvalue = [1, 0, 0, 0, 0]'),\n",
       " Text(0.09347153425368482, 0.7857142857142857, 'gini = 0.0\\nsamples = 2\\nvalue = [0, 0, 0, 0, 2]'),\n",
       " Text(0.09384666888564656, 0.7925170068027211, 'gini = 0.0\\nsamples = 2\\nvalue = [0, 0, 0, 0, 2]'),\n",
       " Text(0.0942218035176083, 0.7993197278911565, 'gini = 0.0\\nsamples = 3\\nvalue = [0, 0, 0, 0, 3]'),\n",
       " Text(0.09497207278153177, 0.8129251700680272, 'X[19435] <= 0.095\\ngini = 0.32\\nsamples = 5\\nvalue = [0, 0, 1, 0, 4]'),\n",
       " Text(0.09459693814957003, 0.8061224489795918, 'gini = 0.0\\nsamples = 4\\nvalue = [0, 0, 0, 0, 4]'),\n",
       " Text(0.0953472074134935, 0.8061224489795918, 'gini = 0.0\\nsamples = 1\\nvalue = [0, 0, 1, 0, 0]'),\n",
       " Text(0.0972228805733022, 0.8197278911564626, 'X[6949] <= 0.054\\ngini = 0.418\\nsamples = 15\\nvalue = [0, 0, 1, 3, 11]'),\n",
       " Text(0.09647261130937872, 0.8129251700680272, 'X[12385] <= 0.104\\ngini = 0.26\\nsamples = 13\\nvalue = [0, 0, 0, 2, 11]'),\n",
       " Text(0.09609747667741698, 0.8061224489795918, 'X[16174] <= 0.122\\ngini = 0.153\\nsamples = 12\\nvalue = [0, 0, 0, 1, 11]'),\n",
       " Text(0.09572234204545524, 0.7993197278911565, 'gini = 0.0\\nsamples = 11\\nvalue = [0, 0, 0, 0, 11]'),\n",
       " Text(0.09647261130937872, 0.7993197278911565, 'gini = 0.0\\nsamples = 1\\nvalue = [0, 0, 0, 1, 0]'),\n",
       " Text(0.09684774594134045, 0.8061224489795918, 'gini = 0.0\\nsamples = 1\\nvalue = [0, 0, 0, 1, 0]'),\n",
       " Text(0.09797314983722566, 0.8129251700680272, 'X[19818] <= 0.075\\ngini = 0.5\\nsamples = 2\\nvalue = [0, 0, 1, 1, 0]'),\n",
       " Text(0.09759801520526393, 0.8061224489795918, 'gini = 0.0\\nsamples = 1\\nvalue = [0, 0, 0, 1, 0]'),\n",
       " Text(0.0983482844691874, 0.8061224489795918, 'gini = 0.0\\nsamples = 1\\nvalue = [0, 0, 1, 0, 0]'),\n",
       " Text(0.09213812657301135, 0.8333333333333334, 'gini = 0.0\\nsamples = 17\\nvalue = [0, 0, 0, 0, 17]'),\n",
       " Text(0.10041152494497696, 0.8401360544217688, 'X[10438] <= 0.079\\ngini = 0.615\\nsamples = 19\\nvalue = [11, 3, 2, 1, 2]'),\n",
       " Text(0.09947368836507262, 0.8333333333333334, 'X[10582] <= 0.029\\ngini = 0.418\\nsamples = 15\\nvalue = [11, 3, 1, 0, 0]'),\n",
       " Text(0.09872341910114914, 0.826530612244898, 'X[20753] <= 0.071\\ngini = 0.26\\nsamples = 13\\nvalue = [11, 2, 0, 0, 0]'),\n",
       " Text(0.0983482844691874, 0.8197278911564626, 'gini = 0.0\\nsamples = 10\\nvalue = [10, 0, 0, 0, 0]'),\n",
       " Text(0.09909855373311087, 0.8197278911564626, 'X[3416] <= 0.136\\ngini = 0.444\\nsamples = 3\\nvalue = [1, 2, 0, 0, 0]'),\n",
       " Text(0.09872341910114914, 0.8129251700680272, 'gini = 0.0\\nsamples = 2\\nvalue = [0, 2, 0, 0, 0]'),\n",
       " Text(0.09947368836507262, 0.8129251700680272, 'gini = 0.0\\nsamples = 1\\nvalue = [1, 0, 0, 0, 0]'),\n",
       " Text(0.1002239576289961, 0.826530612244898, 'X[8551] <= 0.076\\ngini = 0.5\\nsamples = 2\\nvalue = [0, 1, 1, 0, 0]'),\n",
       " Text(0.09984882299703435, 0.8197278911564626, 'gini = 0.0\\nsamples = 1\\nvalue = [0, 1, 0, 0, 0]'),\n",
       " Text(0.10059909226095783, 0.8197278911564626, 'gini = 0.0\\nsamples = 1\\nvalue = [0, 0, 1, 0, 0]'),\n",
       " Text(0.1013493615248813, 0.8333333333333334, 'X[10205] <= 0.072\\ngini = 0.625\\nsamples = 4\\nvalue = [0, 0, 1, 1, 2]'),\n",
       " Text(0.10097422689291956, 0.826530612244898, 'gini = 0.0\\nsamples = 2\\nvalue = [0, 0, 0, 0, 2]'),\n",
       " Text(0.10172449615684304, 0.826530612244898, 'X[21828] <= 0.089\\ngini = 0.5\\nsamples = 2\\nvalue = [0, 0, 1, 1, 0]'),\n",
       " Text(0.1013493615248813, 0.8197278911564626, 'gini = 0.0\\nsamples = 1\\nvalue = [0, 0, 0, 1, 0]'),\n",
       " Text(0.10209963078880477, 0.8197278911564626, 'gini = 0.0\\nsamples = 1\\nvalue = [0, 0, 1, 0, 0]'),\n",
       " Text(0.10721084014928343, 0.8469387755102041, 'X[6801] <= 0.083\\ngini = 0.766\\nsamples = 62\\nvalue = [11, 10, 12, 22, 7]'),\n",
       " Text(0.10556962613445084, 0.8401360544217688, 'X[16358] <= 0.169\\ngini = 0.72\\nsamples = 50\\nvalue = [4, 10, 8, 22, 6]'),\n",
       " Text(0.10416287126459432, 0.8333333333333334, 'X[19544] <= 0.021\\ngini = 0.667\\nsamples = 43\\nvalue = [3, 9, 4, 22, 5]'),\n",
       " Text(0.10322503468468998, 0.826530612244898, 'X[20704] <= 0.138\\ngini = 0.549\\nsamples = 33\\nvalue = [2, 6, 1, 21, 3]'),\n",
       " Text(0.10284990005272825, 0.8197278911564626, 'X[11128] <= 0.031\\ngini = 0.493\\nsamples = 31\\nvalue = [0, 6, 1, 21, 3]'),\n",
       " Text(0.10247476542076651, 0.8129251700680272, 'X[15601] <= 0.098\\ngini = 0.43\\nsamples = 29\\nvalue = [0, 6, 1, 21, 1]'),\n",
       " Text(0.10209963078880477, 0.8061224489795918, 'X[22833] <= 0.068\\ngini = 0.37\\nsamples = 27\\nvalue = [0, 4, 1, 21, 1]'),\n",
       " Text(0.10172449615684304, 0.7993197278911565, 'X[5633] <= 0.107\\ngini = 0.285\\nsamples = 25\\nvalue = [0, 2, 1, 21, 1]'),\n",
       " Text(0.10097422689291956, 0.7925170068027211, 'X[14644] <= 0.122\\ngini = 0.163\\nsamples = 23\\nvalue = [0, 1, 0, 21, 1]'),\n",
       " Text(0.10059909226095783, 0.7857142857142857, 'X[8350] <= 0.056\\ngini = 0.087\\nsamples = 22\\nvalue = [0, 1, 0, 21, 0]'),\n",
       " Text(0.1002239576289961, 0.7789115646258503, 'gini = 0.0\\nsamples = 21\\nvalue = [0, 0, 0, 21, 0]'),\n",
       " Text(0.10097422689291956, 0.7789115646258503, 'gini = 0.0\\nsamples = 1\\nvalue = [0, 1, 0, 0, 0]'),\n",
       " Text(0.1013493615248813, 0.7857142857142857, 'gini = 0.0\\nsamples = 1\\nvalue = [0, 0, 0, 0, 1]'),\n",
       " Text(0.10247476542076651, 0.7925170068027211, 'X[10935] <= 0.088\\ngini = 0.5\\nsamples = 2\\nvalue = [0, 1, 1, 0, 0]'),\n",
       " Text(0.10209963078880477, 0.7857142857142857, 'gini = 0.0\\nsamples = 1\\nvalue = [0, 1, 0, 0, 0]'),\n",
       " Text(0.10284990005272825, 0.7857142857142857, 'gini = 0.0\\nsamples = 1\\nvalue = [0, 0, 1, 0, 0]'),\n",
       " Text(0.10247476542076651, 0.7993197278911565, 'gini = 0.0\\nsamples = 2\\nvalue = [0, 2, 0, 0, 0]'),\n",
       " Text(0.10284990005272825, 0.8061224489795918, 'gini = 0.0\\nsamples = 2\\nvalue = [0, 2, 0, 0, 0]'),\n",
       " Text(0.10322503468468998, 0.8129251700680272, 'gini = 0.0\\nsamples = 2\\nvalue = [0, 0, 0, 0, 2]'),\n",
       " Text(0.10360016931665172, 0.8197278911564626, 'gini = 0.0\\nsamples = 2\\nvalue = [2, 0, 0, 0, 0]'),\n",
       " Text(0.10510070784449867, 0.826530612244898, 'X[9867] <= 0.036\\ngini = 0.76\\nsamples = 10\\nvalue = [1, 3, 3, 1, 2]'),\n",
       " Text(0.10472557321253693, 0.8197278911564626, 'X[5273] <= 0.045\\ngini = 0.688\\nsamples = 8\\nvalue = [1, 3, 3, 1, 0]'),\n",
       " Text(0.10435043858057519, 0.8129251700680272, 'X[23277] <= 0.1\\ngini = 0.667\\nsamples = 6\\nvalue = [1, 3, 1, 1, 0]'),\n",
       " Text(0.10360016931665172, 0.8061224489795918, 'X[963] <= 0.103\\ngini = 0.375\\nsamples = 4\\nvalue = [0, 3, 1, 0, 0]'),\n",
       " Text(0.10322503468468998, 0.7993197278911565, 'gini = 0.0\\nsamples = 3\\nvalue = [0, 3, 0, 0, 0]'),\n",
       " Text(0.10397530394861346, 0.7993197278911565, 'gini = 0.0\\nsamples = 1\\nvalue = [0, 0, 1, 0, 0]'),\n",
       " Text(0.10510070784449867, 0.8061224489795918, 'X[15741] <= 0.041\\ngini = 0.5\\nsamples = 2\\nvalue = [1, 0, 0, 1, 0]'),\n",
       " Text(0.10472557321253693, 0.7993197278911565, 'gini = 0.0\\nsamples = 1\\nvalue = [1, 0, 0, 0, 0]'),\n",
       " Text(0.1054758424764604, 0.7993197278911565, 'gini = 0.0\\nsamples = 1\\nvalue = [0, 0, 0, 1, 0]'),\n",
       " Text(0.10510070784449867, 0.8129251700680272, 'gini = 0.0\\nsamples = 2\\nvalue = [0, 0, 2, 0, 0]'),\n",
       " Text(0.1054758424764604, 0.8197278911564626, 'gini = 0.0\\nsamples = 2\\nvalue = [0, 0, 0, 0, 2]'),\n",
       " Text(0.10697638100430736, 0.8333333333333334, 'X[5844] <= 0.097\\ngini = 0.612\\nsamples = 7\\nvalue = [1, 1, 4, 0, 1]'),\n",
       " Text(0.10660124637234561, 0.826530612244898, 'X[11613] <= 0.057\\ngini = 0.5\\nsamples = 6\\nvalue = [1, 0, 4, 0, 1]'),\n",
       " Text(0.10622611174038388, 0.8197278911564626, 'X[16353] <= 0.187\\ngini = 0.32\\nsamples = 5\\nvalue = [0, 0, 4, 0, 1]'),\n",
       " Text(0.10585097710842215, 0.8129251700680272, 'gini = 0.0\\nsamples = 4\\nvalue = [0, 0, 4, 0, 0]'),\n",
       " Text(0.10660124637234561, 0.8129251700680272, 'gini = 0.0\\nsamples = 1\\nvalue = [0, 0, 0, 0, 1]'),\n",
       " Text(0.10697638100430736, 0.8197278911564626, 'gini = 0.0\\nsamples = 1\\nvalue = [1, 0, 0, 0, 0]'),\n",
       " Text(0.10735151563626909, 0.826530612244898, 'gini = 0.0\\nsamples = 1\\nvalue = [0, 1, 0, 0, 0]'),\n",
       " Text(0.10885205416411604, 0.8401360544217688, 'X[17093] <= 0.139\\ngini = 0.542\\nsamples = 12\\nvalue = [7, 0, 4, 0, 1]'),\n",
       " Text(0.1084769195321543, 0.8333333333333334, 'X[10438] <= 0.033\\ngini = 0.37\\nsamples = 9\\nvalue = [7, 0, 1, 0, 1]'),\n",
       " Text(0.10810178490019257, 0.826530612244898, 'gini = 0.0\\nsamples = 7\\nvalue = [7, 0, 0, 0, 0]'),\n",
       " Text(0.10885205416411604, 0.826530612244898, 'X[772] <= 0.078\\ngini = 0.5\\nsamples = 2\\nvalue = [0, 0, 1, 0, 1]'),\n",
       " Text(0.1084769195321543, 0.8197278911564626, 'gini = 0.0\\nsamples = 1\\nvalue = [0, 0, 1, 0, 0]'),\n",
       " Text(0.10922718879607778, 0.8197278911564626, 'gini = 0.0\\nsamples = 1\\nvalue = [0, 0, 0, 0, 1]'),\n",
       " Text(0.10922718879607778, 0.8333333333333334, 'gini = 0.0\\nsamples = 3\\nvalue = [0, 0, 3, 0, 0]'),\n",
       " Text(0.11072772732392472, 0.8537414965986394, 'X[4916] <= 0.078\\ngini = 0.357\\nsamples = 14\\nvalue = [0, 0, 11, 2, 1]'),\n",
       " Text(0.10997745806000125, 0.8469387755102041, 'X[3058] <= 0.072\\ngini = 0.153\\nsamples = 12\\nvalue = [0, 0, 11, 1, 0]'),\n",
       " Text(0.10960232342803951, 0.8401360544217688, 'gini = 0.0\\nsamples = 11\\nvalue = [0, 0, 11, 0, 0]'),\n",
       " Text(0.11035259269196299, 0.8401360544217688, 'gini = 0.0\\nsamples = 1\\nvalue = [0, 0, 0, 1, 0]'),\n",
       " Text(0.1114779965878482, 0.8469387755102041, 'X[6288] <= 0.101\\ngini = 0.5\\nsamples = 2\\nvalue = [0, 0, 0, 1, 1]'),\n",
       " Text(0.11110286195588646, 0.8401360544217688, 'gini = 0.0\\nsamples = 1\\nvalue = [0, 0, 0, 1, 0]'),\n",
       " Text(0.11185313121980993, 0.8401360544217688, 'gini = 0.0\\nsamples = 1\\nvalue = [0, 0, 0, 0, 1]'),\n",
       " Text(0.11372880437961862, 0.8605442176870748, 'X[15325] <= 0.225\\ngini = 0.229\\nsamples = 38\\nvalue = [0, 0, 0, 5, 33]'),\n",
       " Text(0.11335366974765688, 0.8537414965986394, 'X[9010] <= 0.118\\ngini = 0.153\\nsamples = 36\\nvalue = [0, 0, 0, 3, 33]'),\n",
       " Text(0.11297853511569514, 0.8469387755102041, 'X[5801] <= 0.204\\ngini = 0.108\\nsamples = 35\\nvalue = [0, 0, 0, 2, 33]'),\n",
       " Text(0.1126034004837334, 0.8401360544217688, 'X[23214] <= 0.105\\ngini = 0.057\\nsamples = 34\\nvalue = [0, 0, 0, 1, 33]'),\n",
       " Text(0.11222826585177167, 0.8333333333333334, 'gini = 0.0\\nsamples = 33\\nvalue = [0, 0, 0, 0, 33]'),\n",
       " Text(0.11297853511569514, 0.8333333333333334, 'gini = 0.0\\nsamples = 1\\nvalue = [0, 0, 0, 1, 0]'),\n",
       " Text(0.11335366974765688, 0.8401360544217688, 'gini = 0.0\\nsamples = 1\\nvalue = [0, 0, 0, 1, 0]'),\n",
       " Text(0.11372880437961862, 0.8469387755102041, 'gini = 0.0\\nsamples = 1\\nvalue = [0, 0, 0, 1, 0]'),\n",
       " Text(0.11410393901158035, 0.8537414965986394, 'gini = 0.0\\nsamples = 2\\nvalue = [0, 0, 0, 2, 0]'),\n",
       " Text(0.11654231411933165, 0.8673469387755102, 'X[21075] <= 0.093\\ngini = 0.778\\nsamples = 65\\nvalue = [12, 15, 20, 11, 7]'),\n",
       " Text(0.1161671794873699, 0.8605442176870748, 'X[5273] <= 0.028\\ngini = 0.767\\nsamples = 61\\nvalue = [12, 15, 20, 7, 7]'),\n",
       " Text(0.11522934290746556, 0.8537414965986394, 'X[16125] <= 0.045\\ngini = 0.759\\nsamples = 49\\nvalue = [11, 7, 18, 7, 6]'),\n",
       " Text(0.11485420827550383, 0.8469387755102041, 'X[18695] <= 0.084\\ngini = 0.784\\nsamples = 43\\nvalue = [11, 7, 12, 7, 6]'),\n",
       " Text(0.1144790736435421, 0.8401360544217688, 'X[18507] <= 0.031\\ngini = 0.768\\nsamples = 40\\nvalue = [11, 7, 12, 7, 3]'),\n",
       " Text(0.11372880437961862, 0.8333333333333334, 'X[5804] <= 0.033\\ngini = 0.73\\nsamples = 35\\nvalue = [11, 7, 12, 4, 1]'),\n",
       " Text(0.11335366974765688, 0.826530612244898, 'X[11493] <= 0.089\\ngini = 0.73\\nsamples = 31\\nvalue = [7, 7, 12, 4, 1]'),\n",
       " Text(0.11241583316775254, 0.8197278911564626, 'X[9611] <= 0.03\\ngini = 0.708\\nsamples = 27\\nvalue = [4, 6, 12, 4, 1]'),\n",
       " Text(0.11166556390382906, 0.8129251700680272, 'X[15363] <= 0.068\\ngini = 0.653\\nsamples = 21\\nvalue = [0, 6, 10, 4, 1]'),\n",
       " Text(0.11129042927186733, 0.8061224489795918, 'X[3685] <= 0.082\\ngini = 0.695\\nsamples = 16\\nvalue = [0, 6, 5, 4, 1]'),\n",
       " Text(0.11054016000794385, 0.7993197278911565, 'X[11493] <= 0.013\\ngini = 0.5\\nsamples = 6\\nvalue = [0, 4, 0, 1, 1]'),\n",
       " Text(0.11016502537598212, 0.7925170068027211, 'X[21937] <= 0.044\\ngini = 0.5\\nsamples = 2\\nvalue = [0, 0, 0, 1, 1]'),\n",
       " Text(0.10978989074402037, 0.7857142857142857, 'gini = 0.0\\nsamples = 1\\nvalue = [0, 0, 0, 0, 1]'),\n",
       " Text(0.11054016000794385, 0.7857142857142857, 'gini = 0.0\\nsamples = 1\\nvalue = [0, 0, 0, 1, 0]'),\n",
       " Text(0.11091529463990558, 0.7925170068027211, 'gini = 0.0\\nsamples = 4\\nvalue = [0, 4, 0, 0, 0]'),\n",
       " Text(0.1120406985357908, 0.7993197278911565, 'X[7865] <= 0.122\\ngini = 0.62\\nsamples = 10\\nvalue = [0, 2, 5, 3, 0]'),\n",
       " Text(0.11166556390382906, 0.7925170068027211, 'X[7308] <= 0.078\\ngini = 0.469\\nsamples = 8\\nvalue = [0, 0, 5, 3, 0]'),\n",
       " Text(0.11129042927186733, 0.7857142857142857, 'X[3756] <= 0.123\\ngini = 0.278\\nsamples = 6\\nvalue = [0, 0, 5, 1, 0]'),\n",
       " Text(0.11091529463990558, 0.7789115646258503, 'gini = 0.0\\nsamples = 5\\nvalue = [0, 0, 5, 0, 0]'),\n",
       " Text(0.11166556390382906, 0.7789115646258503, 'gini = 0.0\\nsamples = 1\\nvalue = [0, 0, 0, 1, 0]'),\n",
       " Text(0.1120406985357908, 0.7857142857142857, 'gini = 0.0\\nsamples = 2\\nvalue = [0, 0, 0, 2, 0]'),\n",
       " Text(0.11241583316775254, 0.7925170068027211, 'gini = 0.0\\nsamples = 2\\nvalue = [0, 2, 0, 0, 0]'),\n",
       " Text(0.1120406985357908, 0.8061224489795918, 'gini = 0.0\\nsamples = 5\\nvalue = [0, 0, 5, 0, 0]'),\n",
       " Text(0.113166102431676, 0.8129251700680272, 'X[7865] <= 0.111\\ngini = 0.444\\nsamples = 6\\nvalue = [4, 0, 2, 0, 0]'),\n",
       " Text(0.11279096779971427, 0.8061224489795918, 'gini = 0.0\\nsamples = 4\\nvalue = [4, 0, 0, 0, 0]'),\n",
       " Text(0.11354123706363775, 0.8061224489795918, 'gini = 0.0\\nsamples = 2\\nvalue = [0, 0, 2, 0, 0]'),\n",
       " Text(0.11429150632756123, 0.8197278911564626, 'X[23716] <= 0.038\\ngini = 0.375\\nsamples = 4\\nvalue = [3, 1, 0, 0, 0]'),\n",
       " Text(0.11391637169559948, 0.8129251700680272, 'gini = 0.0\\nsamples = 3\\nvalue = [3, 0, 0, 0, 0]'),\n",
       " Text(0.11466664095952296, 0.8129251700680272, 'gini = 0.0\\nsamples = 1\\nvalue = [0, 1, 0, 0, 0]'),\n",
       " Text(0.11410393901158035, 0.826530612244898, 'gini = 0.0\\nsamples = 4\\nvalue = [4, 0, 0, 0, 0]'),\n",
       " Text(0.11522934290746556, 0.8333333333333334, 'X[24226] <= 0.04\\ngini = 0.48\\nsamples = 5\\nvalue = [0, 0, 0, 3, 2]'),\n",
       " Text(0.11485420827550383, 0.826530612244898, 'gini = 0.0\\nsamples = 2\\nvalue = [0, 0, 0, 0, 2]'),\n",
       " Text(0.1156044775394273, 0.826530612244898, 'gini = 0.0\\nsamples = 3\\nvalue = [0, 0, 0, 3, 0]'),\n",
       " Text(0.11522934290746556, 0.8401360544217688, 'gini = 0.0\\nsamples = 3\\nvalue = [0, 0, 0, 0, 3]'),\n",
       " Text(0.1156044775394273, 0.8469387755102041, 'gini = 0.0\\nsamples = 6\\nvalue = [0, 0, 6, 0, 0]'),\n",
       " Text(0.11710501606727425, 0.8537414965986394, 'X[15786] <= 0.084\\ngini = 0.514\\nsamples = 12\\nvalue = [1, 8, 2, 0, 1]'),\n",
       " Text(0.11672988143531252, 0.8469387755102041, 'X[14900] <= 0.166\\ngini = 0.34\\nsamples = 10\\nvalue = [1, 8, 0, 0, 1]'),\n",
       " Text(0.11635474680335077, 0.8401360544217688, 'X[7259] <= 0.071\\ngini = 0.198\\nsamples = 9\\nvalue = [0, 8, 0, 0, 1]'),\n",
       " Text(0.11597961217138904, 0.8333333333333334, 'gini = 0.0\\nsamples = 8\\nvalue = [0, 8, 0, 0, 0]'),\n",
       " Text(0.11672988143531252, 0.8333333333333334, 'gini = 0.0\\nsamples = 1\\nvalue = [0, 0, 0, 0, 1]'),\n",
       " Text(0.11710501606727425, 0.8401360544217688, 'gini = 0.0\\nsamples = 1\\nvalue = [1, 0, 0, 0, 0]'),\n",
       " Text(0.11748015069923598, 0.8469387755102041, 'gini = 0.0\\nsamples = 2\\nvalue = [0, 0, 2, 0, 0]'),\n",
       " Text(0.11691744875129338, 0.8605442176870748, 'gini = 0.0\\nsamples = 4\\nvalue = [0, 0, 0, 4, 0]'),\n",
       " Text(0.12282581920469074, 0.8741496598639455, 'X[10438] <= 0.023\\ngini = 0.744\\nsamples = 61\\nvalue = [20, 10, 19, 9, 3]'),\n",
       " Text(0.12104392970287249, 0.8673469387755102, 'X[4028] <= 0.186\\ngini = 0.698\\nsamples = 43\\nvalue = [20, 7, 9, 5, 2]'),\n",
       " Text(0.12066879507091074, 0.8605442176870748, 'X[19544] <= 0.069\\ngini = 0.671\\nsamples = 40\\nvalue = [20, 4, 9, 5, 2]'),\n",
       " Text(0.11935582385904467, 0.8537414965986394, 'X[15325] <= 0.028\\ngini = 0.604\\nsamples = 35\\nvalue = [20, 4, 8, 2, 1]'),\n",
       " Text(0.1186055545951212, 0.8469387755102041, 'X[16758] <= 0.171\\ngini = 0.537\\nsamples = 31\\nvalue = [20, 4, 5, 2, 0]'),\n",
       " Text(0.11823041996315946, 0.8401360544217688, 'X[10942] <= 0.127\\ngini = 0.485\\nsamples = 29\\nvalue = [20, 2, 5, 2, 0]'),\n",
       " Text(0.11748015069923598, 0.8333333333333334, 'X[9524] <= 0.054\\ngini = 0.388\\nsamples = 26\\nvalue = [20, 2, 3, 1, 0]'),\n",
       " Text(0.11710501606727425, 0.826530612244898, 'X[23781] <= 0.166\\ngini = 0.295\\nsamples = 24\\nvalue = [20, 2, 1, 1, 0]'),\n",
       " Text(0.11635474680335077, 0.8197278911564626, 'X[17913] <= 0.039\\ngini = 0.169\\nsamples = 22\\nvalue = [20, 1, 1, 0, 0]'),\n",
       " Text(0.11597961217138904, 0.8129251700680272, 'X[5064] <= 0.119\\ngini = 0.091\\nsamples = 21\\nvalue = [20, 0, 1, 0, 0]'),\n",
       " Text(0.1156044775394273, 0.8061224489795918, 'gini = 0.0\\nsamples = 20\\nvalue = [20, 0, 0, 0, 0]'),\n",
       " Text(0.11635474680335077, 0.8061224489795918, 'gini = 0.0\\nsamples = 1\\nvalue = [0, 0, 1, 0, 0]'),\n",
       " Text(0.11672988143531252, 0.8129251700680272, 'gini = 0.0\\nsamples = 1\\nvalue = [0, 1, 0, 0, 0]'),\n",
       " Text(0.11785528533119773, 0.8197278911564626, 'X[19001] <= 0.08\\ngini = 0.5\\nsamples = 2\\nvalue = [0, 1, 0, 1, 0]'),\n",
       " Text(0.11748015069923598, 0.8129251700680272, 'gini = 0.0\\nsamples = 1\\nvalue = [0, 1, 0, 0, 0]'),\n",
       " Text(0.11823041996315946, 0.8129251700680272, 'gini = 0.0\\nsamples = 1\\nvalue = [0, 0, 0, 1, 0]'),\n",
       " Text(0.11785528533119773, 0.826530612244898, 'gini = 0.0\\nsamples = 2\\nvalue = [0, 0, 2, 0, 0]'),\n",
       " Text(0.11898068922708294, 0.8333333333333334, 'X[2971] <= 0.068\\ngini = 0.444\\nsamples = 3\\nvalue = [0, 0, 2, 1, 0]'),\n",
       " Text(0.1186055545951212, 0.826530612244898, 'gini = 0.0\\nsamples = 2\\nvalue = [0, 0, 2, 0, 0]'),\n",
       " Text(0.11935582385904467, 0.826530612244898, 'gini = 0.0\\nsamples = 1\\nvalue = [0, 0, 0, 1, 0]'),\n",
       " Text(0.11898068922708294, 0.8401360544217688, 'gini = 0.0\\nsamples = 2\\nvalue = [0, 2, 0, 0, 0]'),\n",
       " Text(0.12010609312296815, 0.8469387755102041, 'X[3738] <= 0.082\\ngini = 0.375\\nsamples = 4\\nvalue = [0, 0, 3, 0, 1]'),\n",
       " Text(0.11973095849100641, 0.8401360544217688, 'gini = 0.0\\nsamples = 3\\nvalue = [0, 0, 3, 0, 0]'),\n",
       " Text(0.12048122775492988, 0.8401360544217688, 'gini = 0.0\\nsamples = 1\\nvalue = [0, 0, 0, 0, 1]'),\n",
       " Text(0.12198176628277684, 0.8537414965986394, 'X[7314] <= 0.031\\ngini = 0.56\\nsamples = 5\\nvalue = [0, 0, 1, 3, 1]'),\n",
       " Text(0.12160663165081509, 0.8469387755102041, 'X[13524] <= 0.06\\ngini = 0.375\\nsamples = 4\\nvalue = [0, 0, 1, 3, 0]'),\n",
       " Text(0.12123149701885336, 0.8401360544217688, 'gini = 0.0\\nsamples = 3\\nvalue = [0, 0, 0, 3, 0]'),\n",
       " Text(0.12198176628277684, 0.8401360544217688, 'gini = 0.0\\nsamples = 1\\nvalue = [0, 0, 1, 0, 0]'),\n",
       " Text(0.12235690091473857, 0.8469387755102041, 'gini = 0.0\\nsamples = 1\\nvalue = [0, 0, 0, 0, 1]'),\n",
       " Text(0.12141906433483422, 0.8605442176870748, 'gini = 0.0\\nsamples = 3\\nvalue = [0, 3, 0, 0, 0]'),\n",
       " Text(0.12460770870650899, 0.8673469387755102, 'X[20589] <= 0.05\\ngini = 0.611\\nsamples = 18\\nvalue = [0, 3, 10, 4, 1]'),\n",
       " Text(0.12423257407454726, 0.8605442176870748, 'X[17869] <= 0.098\\ngini = 0.507\\nsamples = 15\\nvalue = [0, 3, 10, 1, 1]'),\n",
       " Text(0.12348230481062378, 0.8537414965986394, 'X[4912] <= 0.278\\ngini = 0.292\\nsamples = 12\\nvalue = [0, 1, 10, 0, 1]'),\n",
       " Text(0.12310717017866205, 0.8469387755102041, 'X[7068] <= 0.163\\ngini = 0.165\\nsamples = 11\\nvalue = [0, 1, 10, 0, 0]'),\n",
       " Text(0.1227320355467003, 0.8401360544217688, 'gini = 0.0\\nsamples = 10\\nvalue = [0, 0, 10, 0, 0]'),\n",
       " Text(0.12348230481062378, 0.8401360544217688, 'gini = 0.0\\nsamples = 1\\nvalue = [0, 1, 0, 0, 0]'),\n",
       " Text(0.12385743944258551, 0.8469387755102041, 'gini = 0.0\\nsamples = 1\\nvalue = [0, 0, 0, 0, 1]'),\n",
       " Text(0.12498284333847072, 0.8537414965986394, 'X[13458] <= 0.045\\ngini = 0.444\\nsamples = 3\\nvalue = [0, 2, 0, 1, 0]'),\n",
       " Text(0.12460770870650899, 0.8469387755102041, 'gini = 0.0\\nsamples = 2\\nvalue = [0, 2, 0, 0, 0]'),\n",
       " Text(0.12535797797043247, 0.8469387755102041, 'gini = 0.0\\nsamples = 1\\nvalue = [0, 0, 0, 1, 0]'),\n",
       " Text(0.12498284333847072, 0.8605442176870748, 'gini = 0.0\\nsamples = 3\\nvalue = [0, 0, 0, 3, 0]'),\n",
       " Text(0.12976580989598288, 0.8809523809523809, 'X[24226] <= 0.063\\ngini = 0.717\\nsamples = 89\\nvalue = [37, 9, 25, 8, 10]'),\n",
       " Text(0.12939067526402112, 0.8741496598639455, 'X[21981] <= 0.104\\ngini = 0.715\\nsamples = 84\\nvalue = [37, 9, 20, 8, 10]'),\n",
       " Text(0.1281714877101455, 0.8673469387755102, 'X[15205] <= 0.022\\ngini = 0.703\\nsamples = 76\\nvalue = [36, 9, 14, 8, 9]'),\n",
       " Text(0.12685851649827942, 0.8605442176870748, 'X[13399] <= 0.038\\ngini = 0.636\\nsamples = 61\\nvalue = [34, 6, 9, 8, 4]'),\n",
       " Text(0.12648338186631766, 0.8537414965986394, 'X[23838] <= 0.056\\ngini = 0.602\\nsamples = 58\\nvalue = [34, 6, 9, 8, 1]'),\n",
       " Text(0.12610824723435593, 0.8469387755102041, 'X[21436] <= 0.077\\ngini = 0.573\\nsamples = 55\\nvalue = [34, 6, 6, 8, 1]'),\n",
       " Text(0.12535797797043247, 0.8401360544217688, 'X[10582] <= 0.037\\ngini = 0.519\\nsamples = 51\\nvalue = [34, 3, 6, 7, 1]'),\n",
       " Text(0.12498284333847072, 0.8333333333333334, 'X[13597] <= 0.043\\ngini = 0.471\\nsamples = 48\\nvalue = [34, 3, 6, 4, 1]'),\n",
       " Text(0.12388088535708312, 0.826530612244898, 'X[19420] <= 0.035\\ngini = 0.41\\nsamples = 45\\nvalue = [34, 3, 5, 2, 1]'),\n",
       " Text(0.12280237329019313, 0.8197278911564626, 'X[14936] <= 0.075\\ngini = 0.341\\nsamples = 41\\nvalue = [33, 3, 2, 2, 1]'),\n",
       " Text(0.12177075305229836, 0.8129251700680272, 'X[14843] <= 0.152\\ngini = 0.276\\nsamples = 39\\nvalue = [33, 2, 2, 2, 0]'),\n",
       " Text(0.12083291647239401, 0.8061224489795918, 'X[15777] <= 0.101\\ngini = 0.2\\nsamples = 37\\nvalue = [33, 1, 2, 1, 0]'),\n",
       " Text(0.12008264720847053, 0.7993197278911565, 'X[10892] <= 0.11\\ngini = 0.109\\nsamples = 35\\nvalue = [33, 0, 1, 1, 0]'),\n",
       " Text(0.1197075125765088, 0.7925170068027211, 'X[18280] <= 0.151\\ngini = 0.057\\nsamples = 34\\nvalue = [33, 0, 0, 1, 0]'),\n",
       " Text(0.11933237794454707, 0.7857142857142857, 'gini = 0.0\\nsamples = 33\\nvalue = [33, 0, 0, 0, 0]'),\n",
       " Text(0.12008264720847053, 0.7857142857142857, 'gini = 0.0\\nsamples = 1\\nvalue = [0, 0, 0, 1, 0]'),\n",
       " Text(0.12045778184043228, 0.7925170068027211, 'gini = 0.0\\nsamples = 1\\nvalue = [0, 0, 1, 0, 0]'),\n",
       " Text(0.12158318573631749, 0.7993197278911565, 'X[5658] <= 0.191\\ngini = 0.5\\nsamples = 2\\nvalue = [0, 1, 1, 0, 0]'),\n",
       " Text(0.12120805110435574, 0.7925170068027211, 'gini = 0.0\\nsamples = 1\\nvalue = [0, 1, 0, 0, 0]'),\n",
       " Text(0.12195832036827922, 0.7925170068027211, 'gini = 0.0\\nsamples = 1\\nvalue = [0, 0, 1, 0, 0]'),\n",
       " Text(0.1227085896322027, 0.8061224489795918, 'X[5804] <= 0.13\\ngini = 0.5\\nsamples = 2\\nvalue = [0, 1, 0, 1, 0]'),\n",
       " Text(0.12233345500024095, 0.7993197278911565, 'gini = 0.0\\nsamples = 1\\nvalue = [0, 1, 0, 0, 0]'),\n",
       " Text(0.12308372426416443, 0.7993197278911565, 'gini = 0.0\\nsamples = 1\\nvalue = [0, 0, 0, 1, 0]'),\n",
       " Text(0.12383399352808791, 0.8129251700680272, 'X[18450] <= 0.085\\ngini = 0.5\\nsamples = 2\\nvalue = [0, 1, 0, 0, 1]'),\n",
       " Text(0.12345885889612616, 0.8061224489795918, 'gini = 0.0\\nsamples = 1\\nvalue = [0, 1, 0, 0, 0]'),\n",
       " Text(0.12420912816004964, 0.8061224489795918, 'gini = 0.0\\nsamples = 1\\nvalue = [0, 0, 0, 0, 1]'),\n",
       " Text(0.12495939742397312, 0.8197278911564626, 'X[18695] <= 0.04\\ngini = 0.375\\nsamples = 4\\nvalue = [1, 0, 3, 0, 0]'),\n",
       " Text(0.12458426279201137, 0.8129251700680272, 'gini = 0.0\\nsamples = 3\\nvalue = [0, 0, 3, 0, 0]'),\n",
       " Text(0.12533453205593487, 0.8129251700680272, 'gini = 0.0\\nsamples = 1\\nvalue = [1, 0, 0, 0, 0]'),\n",
       " Text(0.12608480131985833, 0.826530612244898, 'X[22212] <= 0.084\\ngini = 0.444\\nsamples = 3\\nvalue = [0, 0, 1, 2, 0]'),\n",
       " Text(0.1257096666878966, 0.8197278911564626, 'gini = 0.0\\nsamples = 2\\nvalue = [0, 0, 0, 2, 0]'),\n",
       " Text(0.12645993595182006, 0.8197278911564626, 'gini = 0.0\\nsamples = 1\\nvalue = [0, 0, 1, 0, 0]'),\n",
       " Text(0.1257331126023942, 0.8333333333333334, 'gini = 0.0\\nsamples = 3\\nvalue = [0, 0, 0, 3, 0]'),\n",
       " Text(0.12685851649827942, 0.8401360544217688, 'X[17945] <= 0.062\\ngini = 0.375\\nsamples = 4\\nvalue = [0, 3, 0, 1, 0]'),\n",
       " Text(0.12648338186631766, 0.8333333333333334, 'gini = 0.0\\nsamples = 3\\nvalue = [0, 3, 0, 0, 0]'),\n",
       " Text(0.12723365113024115, 0.8333333333333334, 'gini = 0.0\\nsamples = 1\\nvalue = [0, 0, 0, 1, 0]'),\n",
       " Text(0.12685851649827942, 0.8469387755102041, 'gini = 0.0\\nsamples = 3\\nvalue = [0, 0, 3, 0, 0]'),\n",
       " Text(0.12723365113024115, 0.8537414965986394, 'gini = 0.0\\nsamples = 3\\nvalue = [0, 0, 0, 0, 3]'),\n",
       " Text(0.12948445892201157, 0.8605442176870748, 'X[7434] <= 0.043\\ngini = 0.72\\nsamples = 15\\nvalue = [2, 3, 5, 0, 5]'),\n",
       " Text(0.12910932429004984, 0.8537414965986394, 'X[19544] <= 0.027\\ngini = 0.651\\nsamples = 13\\nvalue = [0, 3, 5, 0, 5]'),\n",
       " Text(0.12873418965808808, 0.8469387755102041, 'X[4028] <= 0.066\\ngini = 0.62\\nsamples = 10\\nvalue = [0, 3, 5, 0, 2]'),\n",
       " Text(0.12835905502612635, 0.8401360544217688, 'X[19229] <= 0.086\\ngini = 0.531\\nsamples = 8\\nvalue = [0, 1, 5, 0, 2]'),\n",
       " Text(0.12798392039416462, 0.8333333333333334, 'X[11493] <= 0.047\\ngini = 0.625\\nsamples = 4\\nvalue = [0, 1, 1, 0, 2]'),\n",
       " Text(0.1276087857622029, 0.826530612244898, 'X[5047] <= 0.071\\ngini = 0.5\\nsamples = 2\\nvalue = [0, 1, 1, 0, 0]'),\n",
       " Text(0.12723365113024115, 0.8197278911564626, 'gini = 0.0\\nsamples = 1\\nvalue = [0, 0, 1, 0, 0]'),\n",
       " Text(0.12798392039416462, 0.8197278911564626, 'gini = 0.0\\nsamples = 1\\nvalue = [0, 1, 0, 0, 0]'),\n",
       " Text(0.12835905502612635, 0.826530612244898, 'gini = 0.0\\nsamples = 2\\nvalue = [0, 0, 0, 0, 2]'),\n",
       " Text(0.12873418965808808, 0.8333333333333334, 'gini = 0.0\\nsamples = 4\\nvalue = [0, 0, 4, 0, 0]'),\n",
       " Text(0.12910932429004984, 0.8401360544217688, 'gini = 0.0\\nsamples = 2\\nvalue = [0, 2, 0, 0, 0]'),\n",
       " Text(0.12948445892201157, 0.8469387755102041, 'gini = 0.0\\nsamples = 3\\nvalue = [0, 0, 0, 0, 3]'),\n",
       " Text(0.1298595935539733, 0.8537414965986394, 'gini = 0.0\\nsamples = 2\\nvalue = [2, 0, 0, 0, 0]'),\n",
       " Text(0.13060986281789677, 0.8673469387755102, 'X[19490] <= 0.083\\ngini = 0.406\\nsamples = 8\\nvalue = [1, 0, 6, 0, 1]'),\n",
       " Text(0.13023472818593504, 0.8605442176870748, 'gini = 0.0\\nsamples = 6\\nvalue = [0, 0, 6, 0, 0]'),\n",
       " Text(0.1309849974498585, 0.8605442176870748, 'X[21925] <= 0.06\\ngini = 0.5\\nsamples = 2\\nvalue = [1, 0, 0, 0, 1]'),\n",
       " Text(0.13060986281789677, 0.8537414965986394, 'gini = 0.0\\nsamples = 1\\nvalue = [0, 0, 0, 0, 1]'),\n",
       " Text(0.13136013208182026, 0.8537414965986394, 'gini = 0.0\\nsamples = 1\\nvalue = [1, 0, 0, 0, 0]'),\n",
       " Text(0.1301409445279446, 0.8741496598639455, 'gini = 0.0\\nsamples = 5\\nvalue = [0, 0, 5, 0, 0]'),\n",
       " Text(0.21998582049546056, 0.8877551020408163, 'X[10438] <= 0.047\\ngini = 0.794\\nsamples = 2486\\nvalue = [382, 399, 550, 600, 555]'),\n",
       " Text(0.19895220531567773, 0.8809523809523809, 'X[5822] <= 0.054\\ngini = 0.799\\nsamples = 1788\\nvalue = [344, 314, 370, 368, 392]'),\n",
       " Text(0.1896785299374104, 0.8741496598639455, 'X[11134] <= 0.052\\ngini = 0.799\\nsamples = 1588\\nvalue = [341, 299, 333, 297, 318]'),\n",
       " Text(0.18289516678005083, 0.8673469387755102, 'X[21674] <= 0.049\\ngini = 0.798\\nsamples = 1436\\nvalue = [337, 285, 304, 250, 260]'),\n",
       " Text(0.17556505372169554, 0.8605442176870748, 'X[16622] <= 0.03\\ngini = 0.799\\nsamples = 1373\\nvalue = [301, 267, 296, 249, 260]'),\n",
       " Text(0.167668973937545, 0.8537414965986394, 'X[3774] <= 0.03\\ngini = 0.798\\nsamples = 1303\\nvalue = [300, 261, 285, 229, 228]'),\n",
       " Text(0.16185305098797642, 0.8469387755102041, 'X[15325] <= 0.066\\ngini = 0.796\\nsamples = 1256\\nvalue = [298, 255, 281, 220, 202]'),\n",
       " Text(0.15652815608869597, 0.8401360544217688, 'X[24189] <= 0.1\\ngini = 0.792\\nsamples = 1104\\nvalue = [285, 237, 241, 173, 168]'),\n",
       " Text(0.15324038344238414, 0.8333333333333334, 'X[13158] <= 0.074\\ngini = 0.791\\nsamples = 1093\\nvalue = [285, 237, 241, 163, 167]'),\n",
       " Text(0.14779024204564564, 0.826530612244898, 'X[23461] <= 0.076\\ngini = 0.787\\nsamples = 1041\\nvalue = [283, 232, 233, 145, 148]'),\n",
       " Text(0.1431969102520254, 0.8197278911564626, 'X[18975] <= 0.039\\ngini = 0.783\\nsamples = 986\\nvalue = [279, 229, 216, 134, 128]'),\n",
       " Text(0.13841807859033534, 0.8129251700680272, 'X[14001] <= 0.119\\ngini = 0.786\\nsamples = 943\\nvalue = [252, 219, 211, 133, 128]'),\n",
       " Text(0.1318614923226491, 0.8061224489795918, 'X[13597] <= 0.04\\ngini = 0.788\\nsamples = 921\\nvalue = [235, 216, 209, 133, 128]'),\n",
       " Text(0.12483839607803046, 0.7993197278911565, 'X[18676] <= 0.114\\ngini = 0.786\\nsamples = 770\\nvalue = [218, 173, 157, 111, 111]'),\n",
       " Text(0.12446326144606872, 0.7925170068027211, 'X[16502] <= 0.067\\ngini = 0.785\\nsamples = 762\\nvalue = [218, 173, 157, 111, 103]'),\n",
       " Text(0.12083291647239401, 0.7857142857142857, 'X[13399] <= 0.109\\ngini = 0.79\\nsamples = 672\\nvalue = [173, 160, 140, 98, 101]'),\n",
       " Text(0.11844897674054718, 0.7789115646258503, 'X[20658] <= 0.103\\ngini = 0.79\\nsamples = 654\\nvalue = [172, 157, 127, 98, 100]'),\n",
       " Text(0.11593190506862393, 0.7721088435374149, 'X[11488] <= 0.135\\ngini = 0.792\\nsamples = 629\\nvalue = [165, 141, 125, 98, 100]'),\n",
       " Text(0.11389883878047134, 0.7653061224489796, 'X[3427] <= 0.137\\ngini = 0.794\\nsamples = 605\\nvalue = [156, 127, 125, 97, 100]'),\n",
       " Text(0.11208351399593657, 0.7585034013605442, 'X[23526] <= 0.088\\ngini = 0.795\\nsamples = 594\\nvalue = [146, 126, 125, 97, 100]'),\n",
       " Text(0.10957826832275223, 0.7517006802721088, 'X[5117] <= 0.071\\ngini = 0.793\\nsamples = 569\\nvalue = [144, 126, 121, 90, 88]'),\n",
       " Text(0.10756885403207748, 0.7448979591836735, 'X[8350] <= 0.135\\ngini = 0.791\\nsamples = 545\\nvalue = [141, 124, 116, 77, 87]'),\n",
       " Text(0.10617596787446013, 0.7380952380952381, 'X[8568] <= 0.12\\ngini = 0.791\\nsamples = 531\\nvalue = [140, 114, 113, 77, 87]'),\n",
       " Text(0.10542569861053665, 0.7312925170068028, 'X[19057] <= 0.138\\ngini = 0.791\\nsamples = 523\\nvalue = [140, 114, 106, 77, 86]'),\n",
       " Text(0.10505056397857492, 0.7244897959183674, 'X[14355] <= 0.045\\ngini = 0.79\\nsamples = 518\\nvalue = [140, 114, 106, 77, 81]'),\n",
       " Text(0.10301506092726367, 0.717687074829932, 'X[20589] <= 0.028\\ngini = 0.788\\nsamples = 506\\nvalue = [140, 112, 105, 76, 73]'),\n",
       " Text(0.10119486261641161, 0.7108843537414966, 'X[13226] <= 0.14\\ngini = 0.784\\nsamples = 483\\nvalue = [137, 110, 102, 73, 61]'),\n",
       " Text(0.09943013915451618, 0.7040816326530612, 'X[4771] <= 0.04\\ngini = 0.781\\nsamples = 473\\nvalue = [137, 109, 100, 73, 54]'),\n",
       " Text(0.09777636539053398, 0.6972789115646258, 'X[16324] <= 0.12\\ngini = 0.777\\nsamples = 461\\nvalue = [137, 109, 99, 68, 48]'),\n",
       " Text(0.0963444910223783, 0.6904761904761905, 'X[11361] <= 0.08\\ngini = 0.78\\nsamples = 448\\nvalue = [127, 109, 96, 68, 48]'),\n",
       " Text(0.09460614618195211, 0.6836734693877551, 'X[11262] <= 0.147\\ngini = 0.777\\nsamples = 440\\nvalue = [126, 109, 95, 68, 42]'),\n",
       " Text(0.09262999502894671, 0.6768707482993197, 'X[2408] <= 0.077\\ngini = 0.773\\nsamples = 431\\nvalue = [125, 109, 94, 67, 36]'),\n",
       " Text(0.09092850051470631, 0.6700680272108843, 'X[20432] <= 0.095\\ngini = 0.767\\nsamples = 410\\nvalue = [125, 107, 86, 62, 30]'),\n",
       " Text(0.08865091538211074, 0.6632653061224489, 'X[3588] <= 0.071\\ngini = 0.763\\nsamples = 401\\nvalue = [125, 107, 81, 62, 26]'),\n",
       " Text(0.08597141827672829, 0.6564625850340136, 'X[13970] <= 0.083\\ngini = 0.763\\nsamples = 384\\nvalue = [124, 96, 78, 60, 26]'),\n",
       " Text(0.08361350112165727, 0.6496598639455783, 'X[19438] <= 0.097\\ngini = 0.763\\nsamples = 369\\nvalue = [123, 86, 75, 59, 26]'),\n",
       " Text(0.08189874386720912, 0.6428571428571429, 'X[15439] <= 0.08\\ngini = 0.768\\nsamples = 357\\nvalue = [113, 85, 74, 59, 26]'),\n",
       " Text(0.07996976788615978, 0.6360544217687075, 'X[17355] <= 0.128\\ngini = 0.766\\nsamples = 338\\nvalue = [111, 73, 72, 57, 25]'),\n",
       " Text(0.0792194986222363, 0.6292517006802721, 'X[11373] <= 0.097\\ngini = 0.764\\nsamples = 332\\nvalue = [111, 72, 72, 52, 25]'),\n",
       " Text(0.07884436399027457, 0.6224489795918368, 'X[18309] <= 0.126\\ngini = 0.762\\nsamples = 328\\nvalue = [111, 72, 72, 48, 25]'),\n",
       " Text(0.07846922935831284, 0.6156462585034014, 'X[5220] <= 0.073\\ngini = 0.759\\nsamples = 324\\nvalue = [111, 72, 72, 44, 25]'),\n",
       " Text(0.07423614276425242, 0.608843537414966, 'X[9103] <= 0.112\\ngini = 0.768\\nsamples = 294\\nvalue = [92, 70, 65, 43, 24]'),\n",
       " Text(0.07386100813229067, 0.6020408163265306, 'X[20753] <= 0.059\\ngini = 0.772\\nsamples = 288\\nvalue = [86, 70, 65, 43, 24]'),\n",
       " Text(0.07092807076560545, 0.5952380952380952, 'X[9611] <= 0.066\\ngini = 0.761\\nsamples = 233\\nvalue = [76, 49, 58, 35, 15]'),\n",
       " Text(0.06815705674591935, 0.5884353741496599, 'X[20640] <= 0.036\\ngini = 0.772\\nsamples = 203\\nvalue = [57, 45, 53, 33, 15]'),\n",
       " Text(0.06599124039420276, 0.5816326530612245, 'X[14664] <= 0.082\\ngini = 0.764\\nsamples = 178\\nvalue = [51, 33, 51, 33, 10]'),\n",
       " Text(0.06561610576224101, 0.5748299319727891, 'X[2306] <= 0.056\\ngini = 0.767\\nsamples = 172\\nvalue = [45, 33, 51, 33, 10]'),\n",
       " Text(0.06524097113027928, 0.5680272108843537, 'X[20936] <= 0.03\\ngini = 0.76\\nsamples = 169\\nvalue = [45, 33, 51, 33, 7]'),\n",
       " Text(0.06486583649831754, 0.5612244897959183, 'X[17945] <= 0.038\\ngini = 0.757\\nsamples = 165\\nvalue = [45, 33, 51, 29, 7]'),\n",
       " Text(0.06391041548253999, 0.5544217687074829, 'X[6143] <= 0.062\\ngini = 0.759\\nsamples = 156\\nvalue = [38, 32, 50, 29, 7]'),\n",
       " Text(0.06353528085057826, 0.5476190476190477, 'X[15786] <= 0.092\\ngini = 0.756\\nsamples = 152\\nvalue = [38, 32, 50, 25, 7]'),\n",
       " Text(0.0619995734509849, 0.5408163265306123, 'X[15601] <= 0.075\\ngini = 0.762\\nsamples = 144\\nvalue = [38, 31, 43, 25, 7]'),\n",
       " Text(0.06005356254768339, 0.5340136054421769, 'X[5273] <= 0.08\\ngini = 0.761\\nsamples = 138\\nvalue = [38, 26, 42, 25, 7]'),\n",
       " Text(0.05728694463696558, 0.5272108843537415, 'X[18842] <= 0.049\\ngini = 0.761\\nsamples = 117\\nvalue = [37, 22, 30, 22, 6]'),\n",
       " Text(0.055692622451128194, 0.5204081632653061, 'X[9347] <= 0.099\\ngini = 0.647\\nsamples = 36\\nvalue = [19, 4, 4, 8, 1]'),\n",
       " Text(0.055317487819166455, 0.5136054421768708, 'X[22484] <= 0.068\\ngini = 0.6\\nsamples = 32\\nvalue = [19, 4, 4, 4, 1]'),\n",
       " Text(0.05437965123926212, 0.5068027210884354, 'X[9867] <= 0.033\\ngini = 0.505\\nsamples = 28\\nvalue = [19, 1, 3, 4, 1]'),\n",
       " Text(0.05362938197533864, 0.5, 'X[18507] <= 0.038\\ngini = 0.4\\nsamples = 25\\nvalue = [19, 1, 3, 2, 0]'),\n",
       " Text(0.0532542473433769, 0.4931972789115646, 'X[23886] <= 0.042\\ngini = 0.306\\nsamples = 23\\nvalue = [19, 1, 1, 2, 0]'),\n",
       " Text(0.05250397807945343, 0.48639455782312924, 'X[8697] <= 0.113\\ngini = 0.177\\nsamples = 21\\nvalue = [19, 0, 1, 1, 0]'),\n",
       " Text(0.05212884344749169, 0.47959183673469385, 'X[16887] <= 0.076\\ngini = 0.095\\nsamples = 20\\nvalue = [19, 0, 1, 0, 0]'),\n",
       " Text(0.05175370881552996, 0.47278911564625853, 'gini = 0.0\\nsamples = 19\\nvalue = [19, 0, 0, 0, 0]'),\n",
       " Text(0.05250397807945343, 0.47278911564625853, 'gini = 0.0\\nsamples = 1\\nvalue = [0, 0, 1, 0, 0]'),\n",
       " Text(0.05287911271141517, 0.47959183673469385, 'gini = 0.0\\nsamples = 1\\nvalue = [0, 0, 0, 1, 0]'),\n",
       " Text(0.05400451660730038, 0.48639455782312924, 'X[20763] <= 0.101\\ngini = 0.5\\nsamples = 2\\nvalue = [0, 1, 0, 1, 0]'),\n",
       " Text(0.05362938197533864, 0.47959183673469385, 'gini = 0.0\\nsamples = 1\\nvalue = [0, 1, 0, 0, 0]'),\n",
       " Text(0.05437965123926212, 0.47959183673469385, 'gini = 0.0\\nsamples = 1\\nvalue = [0, 0, 0, 1, 0]'),\n",
       " Text(0.05400451660730038, 0.4931972789115646, 'gini = 0.0\\nsamples = 2\\nvalue = [0, 0, 2, 0, 0]'),\n",
       " Text(0.05512992050318559, 0.5, 'X[15557] <= 0.094\\ngini = 0.444\\nsamples = 3\\nvalue = [0, 0, 0, 2, 1]'),\n",
       " Text(0.05475478587122385, 0.4931972789115646, 'gini = 0.0\\nsamples = 2\\nvalue = [0, 0, 0, 2, 0]'),\n",
       " Text(0.05550505513514733, 0.4931972789115646, 'gini = 0.0\\nsamples = 1\\nvalue = [0, 0, 0, 0, 1]'),\n",
       " Text(0.0562553243990708, 0.5068027210884354, 'X[10942] <= 0.042\\ngini = 0.375\\nsamples = 4\\nvalue = [0, 3, 1, 0, 0]'),\n",
       " Text(0.05588018976710906, 0.5, 'gini = 0.0\\nsamples = 3\\nvalue = [0, 3, 0, 0, 0]'),\n",
       " Text(0.05663045903103254, 0.5, 'gini = 0.0\\nsamples = 1\\nvalue = [0, 0, 1, 0, 0]'),\n",
       " Text(0.056067757083089934, 0.5136054421768708, 'gini = 0.0\\nsamples = 4\\nvalue = [0, 0, 0, 4, 0]'),\n",
       " Text(0.05888126682280296, 0.5204081632653061, 'X[18342] <= 0.057\\ngini = 0.765\\nsamples = 81\\nvalue = [18, 18, 26, 14, 5]'),\n",
       " Text(0.05850613219084122, 0.5136054421768708, 'X[19544] <= 0.127\\ngini = 0.761\\nsamples = 77\\nvalue = [14, 18, 26, 14, 5]'),\n",
       " Text(0.05775586292691775, 0.5068027210884354, 'X[14002] <= 0.094\\ngini = 0.752\\nsamples = 72\\nvalue = [14, 17, 26, 10, 5]'),\n",
       " Text(0.05738072829495601, 0.5, 'X[23461] <= 0.052\\ngini = 0.746\\nsamples = 69\\nvalue = [11, 17, 26, 10, 5]'),\n",
       " Text(0.05663045903103254, 0.4931972789115646, 'X[8439] <= 0.027\\ngini = 0.728\\nsamples = 65\\nvalue = [11, 17, 26, 7, 4]'),\n",
       " Text(0.0562553243990708, 0.48639455782312924, 'X[4264] <= 0.061\\ngini = 0.749\\nsamples = 59\\nvalue = [11, 17, 20, 7, 4]'),\n",
       " Text(0.05550505513514733, 0.47959183673469385, 'X[21436] <= 0.033\\ngini = 0.754\\nsamples = 50\\nvalue = [10, 17, 13, 7, 3]'),\n",
       " Text(0.05512992050318559, 0.47278911564625853, 'X[3363] <= 0.04\\ngini = 0.75\\nsamples = 46\\nvalue = [10, 17, 9, 7, 3]'),\n",
       " Text(0.05475478587122385, 0.46598639455782315, 'X[4808] <= 0.08\\ngini = 0.739\\nsamples = 43\\nvalue = [10, 17, 6, 7, 3]'),\n",
       " Text(0.05334803100136734, 0.45918367346938777, 'X[16887] <= 0.115\\ngini = 0.702\\nsamples = 36\\nvalue = [6, 17, 6, 4, 3]'),\n",
       " Text(0.052410194421463, 0.4523809523809524, 'X[11493] <= 0.094\\ngini = 0.654\\nsamples = 32\\nvalue = [3, 17, 6, 4, 2]'),\n",
       " Text(0.051659925157539525, 0.445578231292517, 'X[21551] <= 0.055\\ngini = 0.589\\nsamples = 28\\nvalue = [2, 17, 3, 4, 2]'),\n",
       " Text(0.051284790525577786, 0.4387755102040816, 'X[9229] <= 0.204\\ngini = 0.53\\nsamples = 26\\nvalue = [2, 17, 3, 4, 0]'),\n",
       " Text(0.05090965589361605, 0.43197278911564624, 'X[24463] <= 0.047\\ngini = 0.462\\nsamples = 24\\nvalue = [2, 17, 1, 4, 0]'),\n",
       " Text(0.05053452126165431, 0.42517006802721086, 'X[12969] <= 0.089\\ngini = 0.384\\nsamples = 22\\nvalue = [2, 17, 1, 2, 0]'),\n",
       " Text(0.050159386629692576, 0.41836734693877553, 'X[4689] <= 0.083\\ngini = 0.327\\nsamples = 21\\nvalue = [2, 17, 0, 2, 0]'),\n",
       " Text(0.04978425199773084, 0.41156462585034015, 'X[8935] <= 0.22\\ngini = 0.265\\nsamples = 20\\nvalue = [2, 17, 0, 1, 0]'),\n",
       " Text(0.0494091173657691, 0.40476190476190477, 'X[22618] <= 0.125\\ngini = 0.188\\nsamples = 19\\nvalue = [2, 17, 0, 0, 0]'),\n",
       " Text(0.049033982733807366, 0.3979591836734694, 'X[9047] <= 0.227\\ngini = 0.105\\nsamples = 18\\nvalue = [1, 17, 0, 0, 0]'),\n",
       " Text(0.04865884810184563, 0.391156462585034, 'gini = 0.0\\nsamples = 17\\nvalue = [0, 17, 0, 0, 0]'),\n",
       " Text(0.0494091173657691, 0.391156462585034, 'gini = 0.0\\nsamples = 1\\nvalue = [1, 0, 0, 0, 0]'),\n",
       " Text(0.04978425199773084, 0.3979591836734694, 'gini = 0.0\\nsamples = 1\\nvalue = [1, 0, 0, 0, 0]'),\n",
       " Text(0.050159386629692576, 0.40476190476190477, 'gini = 0.0\\nsamples = 1\\nvalue = [0, 0, 0, 1, 0]'),\n",
       " Text(0.05053452126165431, 0.41156462585034015, 'gini = 0.0\\nsamples = 1\\nvalue = [0, 0, 0, 1, 0]'),\n",
       " Text(0.05090965589361605, 0.41836734693877553, 'gini = 0.0\\nsamples = 1\\nvalue = [0, 0, 1, 0, 0]'),\n",
       " Text(0.051284790525577786, 0.42517006802721086, 'gini = 0.0\\nsamples = 2\\nvalue = [0, 0, 0, 2, 0]'),\n",
       " Text(0.051659925157539525, 0.43197278911564624, 'gini = 0.0\\nsamples = 2\\nvalue = [0, 0, 2, 0, 0]'),\n",
       " Text(0.05203505978950126, 0.4387755102040816, 'gini = 0.0\\nsamples = 2\\nvalue = [0, 0, 0, 0, 2]'),\n",
       " Text(0.05316046368538647, 0.445578231292517, 'X[21059] <= 0.087\\ngini = 0.375\\nsamples = 4\\nvalue = [1, 0, 3, 0, 0]'),\n",
       " Text(0.052785329053424736, 0.4387755102040816, 'gini = 0.0\\nsamples = 3\\nvalue = [0, 0, 3, 0, 0]'),\n",
       " Text(0.05353559831734821, 0.4387755102040816, 'gini = 0.0\\nsamples = 1\\nvalue = [1, 0, 0, 0, 0]'),\n",
       " Text(0.05428586758127168, 0.4523809523809524, 'X[13904] <= 0.184\\ngini = 0.375\\nsamples = 4\\nvalue = [3, 0, 0, 0, 1]'),\n",
       " Text(0.053910732949309946, 0.445578231292517, 'gini = 0.0\\nsamples = 3\\nvalue = [3, 0, 0, 0, 0]'),\n",
       " Text(0.05466100221323342, 0.445578231292517, 'gini = 0.0\\nsamples = 1\\nvalue = [0, 0, 0, 0, 1]'),\n",
       " Text(0.05616154074108037, 0.45918367346938777, 'X[6949] <= 0.026\\ngini = 0.49\\nsamples = 7\\nvalue = [4, 0, 0, 3, 0]'),\n",
       " Text(0.05578640610911863, 0.4523809523809524, 'X[15363] <= 0.074\\ngini = 0.375\\nsamples = 4\\nvalue = [1, 0, 0, 3, 0]'),\n",
       " Text(0.05541127147715689, 0.445578231292517, 'gini = 0.0\\nsamples = 3\\nvalue = [0, 0, 0, 3, 0]'),\n",
       " Text(0.05616154074108037, 0.445578231292517, 'gini = 0.0\\nsamples = 1\\nvalue = [1, 0, 0, 0, 0]'),\n",
       " Text(0.056536675373042106, 0.4523809523809524, 'gini = 0.0\\nsamples = 3\\nvalue = [3, 0, 0, 0, 0]'),\n",
       " Text(0.05550505513514733, 0.46598639455782315, 'gini = 0.0\\nsamples = 3\\nvalue = [0, 0, 3, 0, 0]'),\n",
       " Text(0.05588018976710906, 0.47278911564625853, 'gini = 0.0\\nsamples = 4\\nvalue = [0, 0, 4, 0, 0]'),\n",
       " Text(0.05700559366299427, 0.47959183673469385, 'X[5273] <= 0.06\\ngini = 0.37\\nsamples = 9\\nvalue = [1, 0, 7, 0, 1]'),\n",
       " Text(0.05663045903103254, 0.47278911564625853, 'gini = 0.0\\nsamples = 7\\nvalue = [0, 0, 7, 0, 0]'),\n",
       " Text(0.05738072829495601, 0.47278911564625853, 'X[18712] <= 0.082\\ngini = 0.5\\nsamples = 2\\nvalue = [1, 0, 0, 0, 1]'),\n",
       " Text(0.05700559366299427, 0.46598639455782315, 'gini = 0.0\\nsamples = 1\\nvalue = [0, 0, 0, 0, 1]'),\n",
       " Text(0.05775586292691775, 0.46598639455782315, 'gini = 0.0\\nsamples = 1\\nvalue = [1, 0, 0, 0, 0]'),\n",
       " Text(0.05700559366299427, 0.48639455782312924, 'gini = 0.0\\nsamples = 6\\nvalue = [0, 0, 6, 0, 0]'),\n",
       " Text(0.05813099755887948, 0.4931972789115646, 'X[3110] <= 0.038\\ngini = 0.375\\nsamples = 4\\nvalue = [0, 0, 0, 3, 1]'),\n",
       " Text(0.05775586292691775, 0.48639455782312924, 'gini = 0.0\\nsamples = 3\\nvalue = [0, 0, 0, 3, 0]'),\n",
       " Text(0.05850613219084122, 0.48639455782312924, 'gini = 0.0\\nsamples = 1\\nvalue = [0, 0, 0, 0, 1]'),\n",
       " Text(0.05813099755887948, 0.5, 'gini = 0.0\\nsamples = 3\\nvalue = [3, 0, 0, 0, 0]'),\n",
       " Text(0.0592564014547647, 0.5068027210884354, 'X[2403] <= 0.069\\ngini = 0.32\\nsamples = 5\\nvalue = [0, 1, 0, 4, 0]'),\n",
       " Text(0.05888126682280296, 0.5, 'gini = 0.0\\nsamples = 4\\nvalue = [0, 0, 0, 4, 0]'),\n",
       " Text(0.05963153608672643, 0.5, 'gini = 0.0\\nsamples = 1\\nvalue = [0, 1, 0, 0, 0]'),\n",
       " Text(0.0592564014547647, 0.5136054421768708, 'gini = 0.0\\nsamples = 4\\nvalue = [4, 0, 0, 0, 0]'),\n",
       " Text(0.0628201804584012, 0.5272108843537415, 'X[13669] <= 0.062\\ngini = 0.612\\nsamples = 21\\nvalue = [1, 4, 12, 3, 1]'),\n",
       " Text(0.062445045826439456, 0.5204081632653061, 'X[221] <= 0.084\\ngini = 0.548\\nsamples = 19\\nvalue = [1, 4, 12, 1, 1]'),\n",
       " Text(0.06150720924653512, 0.5136054421768708, 'X[10408] <= 0.028\\ngini = 0.414\\nsamples = 16\\nvalue = [1, 2, 12, 0, 1]'),\n",
       " Text(0.06075693998261164, 0.5068027210884354, 'X[22097] <= 0.085\\ngini = 0.245\\nsamples = 14\\nvalue = [0, 2, 12, 0, 0]'),\n",
       " Text(0.06038180535064991, 0.5, 'X[6487] <= 0.085\\ngini = 0.142\\nsamples = 13\\nvalue = [0, 1, 12, 0, 0]'),\n",
       " Text(0.06000667071868817, 0.4931972789115646, 'gini = 0.0\\nsamples = 12\\nvalue = [0, 0, 12, 0, 0]'),\n",
       " Text(0.06075693998261164, 0.4931972789115646, 'gini = 0.0\\nsamples = 1\\nvalue = [0, 1, 0, 0, 0]'),\n",
       " Text(0.06113207461457338, 0.5, 'gini = 0.0\\nsamples = 1\\nvalue = [0, 1, 0, 0, 0]'),\n",
       " Text(0.06225747851045859, 0.5068027210884354, 'X[16678] <= 0.091\\ngini = 0.5\\nsamples = 2\\nvalue = [1, 0, 0, 0, 1]'),\n",
       " Text(0.06188234387849685, 0.5, 'gini = 0.0\\nsamples = 1\\nvalue = [1, 0, 0, 0, 0]'),\n",
       " Text(0.06263261314242033, 0.5, 'gini = 0.0\\nsamples = 1\\nvalue = [0, 0, 0, 0, 1]'),\n",
       " Text(0.06338288240634381, 0.5136054421768708, 'X[22354] <= 0.102\\ngini = 0.444\\nsamples = 3\\nvalue = [0, 2, 0, 1, 0]'),\n",
       " Text(0.06300774777438206, 0.5068027210884354, 'gini = 0.0\\nsamples = 2\\nvalue = [0, 2, 0, 0, 0]'),\n",
       " Text(0.06375801703830554, 0.5068027210884354, 'gini = 0.0\\nsamples = 1\\nvalue = [0, 0, 0, 1, 0]'),\n",
       " Text(0.06319531509036293, 0.5204081632653061, 'gini = 0.0\\nsamples = 2\\nvalue = [0, 0, 0, 2, 0]'),\n",
       " Text(0.0639455843542864, 0.5340136054421769, 'X[7962] <= 0.079\\ngini = 0.278\\nsamples = 6\\nvalue = [0, 5, 1, 0, 0]'),\n",
       " Text(0.06357044972232467, 0.5272108843537415, 'gini = 0.0\\nsamples = 5\\nvalue = [0, 5, 0, 0, 0]'),\n",
       " Text(0.06432071898624814, 0.5272108843537415, 'gini = 0.0\\nsamples = 1\\nvalue = [0, 0, 1, 0, 0]'),\n",
       " Text(0.06507098825017162, 0.5408163265306123, 'X[13010] <= 0.139\\ngini = 0.219\\nsamples = 8\\nvalue = [0, 1, 7, 0, 0]'),\n",
       " Text(0.06469585361820988, 0.5340136054421769, 'gini = 0.0\\nsamples = 7\\nvalue = [0, 0, 7, 0, 0]'),\n",
       " Text(0.06544612288213335, 0.5340136054421769, 'gini = 0.0\\nsamples = 1\\nvalue = [0, 1, 0, 0, 0]'),\n",
       " Text(0.06428555011450172, 0.5476190476190477, 'gini = 0.0\\nsamples = 4\\nvalue = [0, 0, 0, 4, 0]'),\n",
       " Text(0.0658212575140951, 0.5544217687074829, 'X[10332] <= 0.074\\ngini = 0.37\\nsamples = 9\\nvalue = [7, 1, 1, 0, 0]'),\n",
       " Text(0.06544612288213335, 0.5476190476190477, 'gini = 0.0\\nsamples = 7\\nvalue = [7, 0, 0, 0, 0]'),\n",
       " Text(0.06619639214605683, 0.5476190476190477, 'X[8793] <= 0.071\\ngini = 0.5\\nsamples = 2\\nvalue = [0, 1, 1, 0, 0]'),\n",
       " Text(0.0658212575140951, 0.5408163265306123, 'gini = 0.0\\nsamples = 1\\nvalue = [0, 1, 0, 0, 0]'),\n",
       " Text(0.06657152677801857, 0.5408163265306123, 'gini = 0.0\\nsamples = 1\\nvalue = [0, 0, 1, 0, 0]'),\n",
       " Text(0.06561610576224101, 0.5612244897959183, 'gini = 0.0\\nsamples = 4\\nvalue = [0, 0, 0, 4, 0]'),\n",
       " Text(0.06599124039420276, 0.5680272108843537, 'gini = 0.0\\nsamples = 3\\nvalue = [0, 0, 0, 0, 3]'),\n",
       " Text(0.06636637502616449, 0.5748299319727891, 'gini = 0.0\\nsamples = 6\\nvalue = [6, 0, 0, 0, 0]'),\n",
       " Text(0.07032287309763594, 0.5816326530612245, 'X[5970] <= 0.044\\ngini = 0.666\\nsamples = 25\\nvalue = [6, 12, 2, 0, 5]'),\n",
       " Text(0.0699477384656742, 0.5748299319727891, 'X[23886] <= 0.076\\ngini = 0.612\\nsamples = 22\\nvalue = [6, 12, 2, 0, 2]'),\n",
       " Text(0.06919746920175072, 0.5680272108843537, 'X[20047] <= 0.098\\ngini = 0.521\\nsamples = 19\\nvalue = [5, 12, 0, 0, 2]'),\n",
       " Text(0.06882233456978899, 0.5612244897959183, 'X[3045] <= 0.075\\ngini = 0.457\\nsamples = 17\\nvalue = [3, 12, 0, 0, 2]'),\n",
       " Text(0.06844719993782725, 0.5544217687074829, 'X[3363] <= 0.046\\ngini = 0.338\\nsamples = 15\\nvalue = [1, 12, 0, 0, 2]'),\n",
       " Text(0.06769693067390378, 0.5476190476190477, 'X[6801] <= 0.123\\ngini = 0.142\\nsamples = 13\\nvalue = [0, 12, 0, 0, 1]'),\n",
       " Text(0.06732179604194204, 0.5408163265306123, 'gini = 0.0\\nsamples = 12\\nvalue = [0, 12, 0, 0, 0]'),\n",
       " Text(0.06807206530586551, 0.5408163265306123, 'gini = 0.0\\nsamples = 1\\nvalue = [0, 0, 0, 0, 1]'),\n",
       " Text(0.06919746920175072, 0.5476190476190477, 'X[13565] <= 0.034\\ngini = 0.5\\nsamples = 2\\nvalue = [1, 0, 0, 0, 1]'),\n",
       " Text(0.06882233456978899, 0.5408163265306123, 'gini = 0.0\\nsamples = 1\\nvalue = [1, 0, 0, 0, 0]'),\n",
       " Text(0.06957260383371246, 0.5408163265306123, 'gini = 0.0\\nsamples = 1\\nvalue = [0, 0, 0, 0, 1]'),\n",
       " Text(0.06919746920175072, 0.5544217687074829, 'gini = 0.0\\nsamples = 2\\nvalue = [2, 0, 0, 0, 0]'),\n",
       " Text(0.06957260383371246, 0.5612244897959183, 'gini = 0.0\\nsamples = 2\\nvalue = [2, 0, 0, 0, 0]'),\n",
       " Text(0.07069800772959767, 0.5680272108843537, 'X[22529] <= 0.048\\ngini = 0.444\\nsamples = 3\\nvalue = [1, 0, 2, 0, 0]'),\n",
       " Text(0.07032287309763594, 0.5612244897959183, 'gini = 0.0\\nsamples = 2\\nvalue = [0, 0, 2, 0, 0]'),\n",
       " Text(0.07107314236155941, 0.5612244897959183, 'gini = 0.0\\nsamples = 1\\nvalue = [1, 0, 0, 0, 0]'),\n",
       " Text(0.07069800772959767, 0.5748299319727891, 'gini = 0.0\\nsamples = 3\\nvalue = [0, 0, 0, 0, 3]'),\n",
       " Text(0.07369908478529157, 0.5884353741496599, 'X[20149] <= 0.078\\ngini = 0.549\\nsamples = 30\\nvalue = [19, 4, 5, 2, 0]'),\n",
       " Text(0.07332395015332983, 0.5816326530612245, 'X[23886] <= 0.092\\ngini = 0.472\\nsamples = 27\\nvalue = [19, 4, 2, 2, 0]'),\n",
       " Text(0.07294881552136809, 0.5748299319727891, 'X[9103] <= 0.041\\ngini = 0.39\\nsamples = 25\\nvalue = [19, 4, 0, 2, 0]'),\n",
       " Text(0.07257368088940636, 0.5680272108843537, 'X[7308] <= 0.062\\ngini = 0.302\\nsamples = 23\\nvalue = [19, 2, 0, 2, 0]'),\n",
       " Text(0.07182341162548288, 0.5612244897959183, 'X[23823] <= 0.101\\ngini = 0.177\\nsamples = 21\\nvalue = [19, 1, 0, 1, 0]'),\n",
       " Text(0.07144827699352115, 0.5544217687074829, 'X[7865] <= 0.128\\ngini = 0.095\\nsamples = 20\\nvalue = [19, 1, 0, 0, 0]'),\n",
       " Text(0.07107314236155941, 0.5476190476190477, 'gini = 0.0\\nsamples = 19\\nvalue = [19, 0, 0, 0, 0]'),\n",
       " Text(0.07182341162548288, 0.5476190476190477, 'gini = 0.0\\nsamples = 1\\nvalue = [0, 1, 0, 0, 0]'),\n",
       " Text(0.07219854625744462, 0.5544217687074829, 'gini = 0.0\\nsamples = 1\\nvalue = [0, 0, 0, 1, 0]'),\n",
       " Text(0.07332395015332983, 0.5612244897959183, 'X[1355] <= 0.075\\ngini = 0.5\\nsamples = 2\\nvalue = [0, 1, 0, 1, 0]'),\n",
       " Text(0.07294881552136809, 0.5544217687074829, 'gini = 0.0\\nsamples = 1\\nvalue = [0, 1, 0, 0, 0]'),\n",
       " Text(0.07369908478529157, 0.5544217687074829, 'gini = 0.0\\nsamples = 1\\nvalue = [0, 0, 0, 1, 0]'),\n",
       " Text(0.07332395015332983, 0.5680272108843537, 'gini = 0.0\\nsamples = 2\\nvalue = [0, 2, 0, 0, 0]'),\n",
       " Text(0.07369908478529157, 0.5748299319727891, 'gini = 0.0\\nsamples = 2\\nvalue = [0, 0, 2, 0, 0]'),\n",
       " Text(0.0740742194172533, 0.5816326530612245, 'gini = 0.0\\nsamples = 3\\nvalue = [0, 0, 3, 0, 0]'),\n",
       " Text(0.07679394549897589, 0.5952380952380952, 'X[20753] <= 0.065\\ngini = 0.757\\nsamples = 55\\nvalue = [10, 21, 7, 8, 9]'),\n",
       " Text(0.07519962331313852, 0.5884353741496599, 'X[6544] <= 0.065\\ngini = 0.439\\nsamples = 14\\nvalue = [3, 10, 1, 0, 0]'),\n",
       " Text(0.07482448868117678, 0.5816326530612245, 'X[17566] <= 0.038\\ngini = 0.292\\nsamples = 12\\nvalue = [1, 10, 1, 0, 0]'),\n",
       " Text(0.07444935404921504, 0.5748299319727891, 'gini = 0.0\\nsamples = 10\\nvalue = [0, 10, 0, 0, 0]'),\n",
       " Text(0.07519962331313852, 0.5748299319727891, 'X[9867] <= 0.032\\ngini = 0.5\\nsamples = 2\\nvalue = [1, 0, 1, 0, 0]'),\n",
       " Text(0.07482448868117678, 0.5680272108843537, 'gini = 0.0\\nsamples = 1\\nvalue = [1, 0, 0, 0, 0]'),\n",
       " Text(0.07557475794510025, 0.5680272108843537, 'gini = 0.0\\nsamples = 1\\nvalue = [0, 0, 1, 0, 0]'),\n",
       " Text(0.07557475794510025, 0.5816326530612245, 'gini = 0.0\\nsamples = 2\\nvalue = [2, 0, 0, 0, 0]'),\n",
       " Text(0.07838826768481327, 0.5884353741496599, 'X[20047] <= 0.084\\ngini = 0.791\\nsamples = 41\\nvalue = [7, 11, 6, 8, 9]'),\n",
       " Text(0.07801313305285154, 0.5816326530612245, 'X[15363] <= 0.103\\ngini = 0.796\\nsamples = 37\\nvalue = [7, 7, 6, 8, 9]'),\n",
       " Text(0.0770752964729472, 0.5748299319727891, 'X[7434] <= 0.056\\ngini = 0.773\\nsamples = 32\\nvalue = [7, 7, 2, 7, 9]'),\n",
       " Text(0.07632502720902373, 0.5680272108843537, 'X[15205] <= 0.032\\ngini = 0.76\\nsamples = 27\\nvalue = [7, 3, 2, 7, 8]'),\n",
       " Text(0.07594989257706199, 0.5612244897959183, 'X[17002] <= 0.052\\ngini = 0.753\\nsamples = 24\\nvalue = [7, 3, 2, 4, 8]'),\n",
       " Text(0.07557475794510025, 0.5544217687074829, 'X[9221] <= 0.039\\ngini = 0.765\\nsamples = 20\\nvalue = [7, 3, 2, 4, 4]'),\n",
       " Text(0.07519962331313852, 0.5476190476190477, 'X[20753] <= 0.08\\ngini = 0.722\\nsamples = 18\\nvalue = [7, 3, 0, 4, 4]'),\n",
       " Text(0.0740742194172533, 0.5408163265306123, 'X[5878] <= 0.073\\ngini = 0.656\\nsamples = 8\\nvalue = [1, 2, 0, 4, 1]'),\n",
       " Text(0.07369908478529157, 0.5340136054421769, 'X[24070] <= 0.066\\ngini = 0.571\\nsamples = 7\\nvalue = [0, 2, 0, 4, 1]'),\n",
       " Text(0.07294881552136809, 0.5272108843537415, 'X[13565] <= 0.073\\ngini = 0.32\\nsamples = 5\\nvalue = [0, 1, 0, 4, 0]'),\n",
       " Text(0.07257368088940636, 0.5204081632653061, 'gini = 0.0\\nsamples = 4\\nvalue = [0, 0, 0, 4, 0]'),\n",
       " Text(0.07332395015332983, 0.5204081632653061, 'gini = 0.0\\nsamples = 1\\nvalue = [0, 1, 0, 0, 0]'),\n",
       " Text(0.07444935404921504, 0.5272108843537415, 'X[4981] <= 0.086\\ngini = 0.5\\nsamples = 2\\nvalue = [0, 1, 0, 0, 1]'),\n",
       " Text(0.0740742194172533, 0.5204081632653061, 'gini = 0.0\\nsamples = 1\\nvalue = [0, 0, 0, 0, 1]'),\n",
       " Text(0.07482448868117678, 0.5204081632653061, 'gini = 0.0\\nsamples = 1\\nvalue = [0, 1, 0, 0, 0]'),\n",
       " Text(0.07444935404921504, 0.5340136054421769, 'gini = 0.0\\nsamples = 1\\nvalue = [1, 0, 0, 0, 0]'),\n",
       " Text(0.07632502720902373, 0.5408163265306123, 'X[11493] <= 0.074\\ngini = 0.54\\nsamples = 10\\nvalue = [6, 1, 0, 0, 3]'),\n",
       " Text(0.07557475794510025, 0.5340136054421769, 'X[5633] <= 0.045\\ngini = 0.278\\nsamples = 6\\nvalue = [5, 1, 0, 0, 0]'),\n",
       " Text(0.07519962331313852, 0.5272108843537415, 'gini = 0.0\\nsamples = 5\\nvalue = [5, 0, 0, 0, 0]'),\n",
       " Text(0.07594989257706199, 0.5272108843537415, 'gini = 0.0\\nsamples = 1\\nvalue = [0, 1, 0, 0, 0]'),\n",
       " Text(0.0770752964729472, 0.5340136054421769, 'X[15294] <= 0.11\\ngini = 0.375\\nsamples = 4\\nvalue = [1, 0, 0, 0, 3]'),\n",
       " Text(0.07670016184098546, 0.5272108843537415, 'gini = 0.0\\nsamples = 3\\nvalue = [0, 0, 0, 0, 3]'),\n",
       " Text(0.07745043110490894, 0.5272108843537415, 'gini = 0.0\\nsamples = 1\\nvalue = [1, 0, 0, 0, 0]'),\n",
       " Text(0.07594989257706199, 0.5476190476190477, 'gini = 0.0\\nsamples = 2\\nvalue = [0, 0, 2, 0, 0]'),\n",
       " Text(0.07632502720902373, 0.5544217687074829, 'gini = 0.0\\nsamples = 4\\nvalue = [0, 0, 0, 0, 4]'),\n",
       " Text(0.07670016184098546, 0.5612244897959183, 'gini = 0.0\\nsamples = 3\\nvalue = [0, 0, 0, 3, 0]'),\n",
       " Text(0.07782556573687067, 0.5680272108843537, 'X[11128] <= 0.123\\ngini = 0.32\\nsamples = 5\\nvalue = [0, 4, 0, 0, 1]'),\n",
       " Text(0.07745043110490894, 0.5612244897959183, 'gini = 0.0\\nsamples = 4\\nvalue = [0, 4, 0, 0, 0]'),\n",
       " Text(0.07820070036883241, 0.5612244897959183, 'gini = 0.0\\nsamples = 1\\nvalue = [0, 0, 0, 0, 1]'),\n",
       " Text(0.07895096963275589, 0.5748299319727891, 'X[10465] <= 0.131\\ngini = 0.32\\nsamples = 5\\nvalue = [0, 0, 4, 1, 0]'),\n",
       " Text(0.07857583500079415, 0.5680272108843537, 'gini = 0.0\\nsamples = 4\\nvalue = [0, 0, 4, 0, 0]'),\n",
       " Text(0.07932610426471762, 0.5680272108843537, 'gini = 0.0\\nsamples = 1\\nvalue = [0, 0, 0, 1, 0]'),\n",
       " Text(0.07876340231677502, 0.5816326530612245, 'gini = 0.0\\nsamples = 4\\nvalue = [0, 4, 0, 0, 0]'),\n",
       " Text(0.07461127739621415, 0.6020408163265306, 'gini = 0.0\\nsamples = 6\\nvalue = [6, 0, 0, 0, 0]'),\n",
       " Text(0.08270231595237325, 0.608843537414966, 'X[20731] <= 0.037\\ngini = 0.538\\nsamples = 30\\nvalue = [19, 2, 7, 1, 1]'),\n",
       " Text(0.08232718132041152, 0.6020408163265306, 'X[9524] <= 0.129\\ngini = 0.475\\nsamples = 27\\nvalue = [19, 2, 4, 1, 1]'),\n",
       " Text(0.08195204668844978, 0.5952380952380952, 'X[20640] <= 0.039\\ngini = 0.394\\nsamples = 25\\nvalue = [19, 0, 4, 1, 1]'),\n",
       " Text(0.0812017774245263, 0.5884353741496599, 'X[18404] <= 0.048\\ngini = 0.236\\nsamples = 22\\nvalue = [19, 0, 3, 0, 0]'),\n",
       " Text(0.08082664279256457, 0.5816326530612245, 'X[12148] <= 0.165\\ngini = 0.172\\nsamples = 21\\nvalue = [19, 0, 2, 0, 0]'),\n",
       " Text(0.08045150816060283, 0.5748299319727891, 'X[22287] <= 0.07\\ngini = 0.095\\nsamples = 20\\nvalue = [19, 0, 1, 0, 0]'),\n",
       " Text(0.0800763735286411, 0.5680272108843537, 'gini = 0.0\\nsamples = 19\\nvalue = [19, 0, 0, 0, 0]'),\n",
       " Text(0.08082664279256457, 0.5680272108843537, 'gini = 0.0\\nsamples = 1\\nvalue = [0, 0, 1, 0, 0]'),\n",
       " Text(0.0812017774245263, 0.5748299319727891, 'gini = 0.0\\nsamples = 1\\nvalue = [0, 0, 1, 0, 0]'),\n",
       " Text(0.08157691205648804, 0.5816326530612245, 'gini = 0.0\\nsamples = 1\\nvalue = [0, 0, 1, 0, 0]'),\n",
       " Text(0.08270231595237325, 0.5884353741496599, 'X[4028] <= 0.064\\ngini = 0.667\\nsamples = 3\\nvalue = [0, 0, 1, 1, 1]'),\n",
       " Text(0.08232718132041152, 0.5816326530612245, 'X[10680] <= 0.059\\ngini = 0.5\\nsamples = 2\\nvalue = [0, 0, 1, 0, 1]'),\n",
       " Text(0.08195204668844978, 0.5748299319727891, 'gini = 0.0\\nsamples = 1\\nvalue = [0, 0, 1, 0, 0]'),\n",
       " Text(0.08270231595237325, 0.5748299319727891, 'gini = 0.0\\nsamples = 1\\nvalue = [0, 0, 0, 0, 1]'),\n",
       " Text(0.083077450584335, 0.5816326530612245, 'gini = 0.0\\nsamples = 1\\nvalue = [0, 0, 0, 1, 0]'),\n",
       " Text(0.08270231595237325, 0.5952380952380952, 'gini = 0.0\\nsamples = 2\\nvalue = [0, 2, 0, 0, 0]'),\n",
       " Text(0.083077450584335, 0.6020408163265306, 'gini = 0.0\\nsamples = 3\\nvalue = [0, 0, 3, 0, 0]'),\n",
       " Text(0.0792194986222363, 0.6156462585034014, 'gini = 0.0\\nsamples = 4\\nvalue = [0, 0, 0, 4, 0]'),\n",
       " Text(0.07959463325419805, 0.6224489795918368, 'gini = 0.0\\nsamples = 4\\nvalue = [0, 0, 0, 4, 0]'),\n",
       " Text(0.08072003715008326, 0.6292517006802721, 'X[4339] <= 0.15\\ngini = 0.278\\nsamples = 6\\nvalue = [0, 1, 0, 5, 0]'),\n",
       " Text(0.08034490251812151, 0.6224489795918368, 'gini = 0.0\\nsamples = 5\\nvalue = [0, 0, 0, 5, 0]'),\n",
       " Text(0.08109517178204499, 0.6224489795918368, 'gini = 0.0\\nsamples = 1\\nvalue = [0, 1, 0, 0, 0]'),\n",
       " Text(0.08382771984825846, 0.6360544217687075, 'X[20753] <= 0.037\\ngini = 0.565\\nsamples = 19\\nvalue = [2, 12, 2, 2, 1]'),\n",
       " Text(0.083077450584335, 0.6292517006802721, 'X[16924] <= 0.124\\ngini = 0.153\\nsamples = 12\\nvalue = [0, 11, 0, 0, 1]'),\n",
       " Text(0.08270231595237325, 0.6224489795918368, 'gini = 0.0\\nsamples = 11\\nvalue = [0, 11, 0, 0, 0]'),\n",
       " Text(0.08345258521629673, 0.6224489795918368, 'gini = 0.0\\nsamples = 1\\nvalue = [0, 0, 0, 0, 1]'),\n",
       " Text(0.08457798911218194, 0.6292517006802721, 'X[17946] <= 0.052\\ngini = 0.735\\nsamples = 7\\nvalue = [2, 1, 2, 2, 0]'),\n",
       " Text(0.0842028544802202, 0.6224489795918368, 'X[2382] <= 0.055\\ngini = 0.64\\nsamples = 5\\nvalue = [2, 1, 2, 0, 0]'),\n",
       " Text(0.08382771984825846, 0.6156462585034014, 'X[9997] <= 0.071\\ngini = 0.444\\nsamples = 3\\nvalue = [2, 1, 0, 0, 0]'),\n",
       " Text(0.08345258521629673, 0.608843537414966, 'gini = 0.0\\nsamples = 2\\nvalue = [2, 0, 0, 0, 0]'),\n",
       " Text(0.0842028544802202, 0.608843537414966, 'gini = 0.0\\nsamples = 1\\nvalue = [0, 1, 0, 0, 0]'),\n",
       " Text(0.08457798911218194, 0.6156462585034014, 'gini = 0.0\\nsamples = 2\\nvalue = [0, 0, 2, 0, 0]'),\n",
       " Text(0.08495312374414368, 0.6224489795918368, 'gini = 0.0\\nsamples = 2\\nvalue = [0, 0, 0, 2, 0]'),\n",
       " Text(0.08532825837610541, 0.6428571428571429, 'X[19229] <= 0.045\\ngini = 0.292\\nsamples = 12\\nvalue = [10, 1, 1, 0, 0]'),\n",
       " Text(0.08495312374414368, 0.6360544217687075, 'gini = 0.0\\nsamples = 10\\nvalue = [10, 0, 0, 0, 0]'),\n",
       " ...]"
      ]
     },
     "execution_count": 64,
     "metadata": {},
     "output_type": "execute_result"
    },
    {
     "data": {
      "image/png": "[encoded data removed]",
      "text/plain": [
       "<Figure size 640x480 with 1 Axes>"
      ]
     },
     "metadata": {},
     "output_type": "display_data"
    }
   ],
   "source": [
    "tree.plot_tree(dtc)"
   ]
  },
  {
   "cell_type": "code",
   "execution_count": 43,
   "id": "935e28e9",
   "metadata": {},
   "outputs": [],
   "source": [
    "# evaluate the classifier on the test set\n",
    "y_pred = dtc.predict(X_test)"
   ]
  },
  {
   "cell_type": "code",
   "execution_count": 40,
   "id": "a20171da",
   "metadata": {},
   "outputs": [
    {
     "data": {
      "text/plain": [
       "array([2, 4, 5, ..., 2, 5, 3], dtype=int64)"
      ]
     },
     "execution_count": 40,
     "metadata": {},
     "output_type": "execute_result"
    }
   ],
   "source": [
    "y_pred"
   ]
  },
  {
   "cell_type": "code",
   "execution_count": 47,
   "id": "cc9a1469",
   "metadata": {},
   "outputs": [
    {
     "name": "stdout",
     "output_type": "stream",
     "text": [
      "Accuracy: 65.32307069070285 %\n",
      "f1 score: 63.19554104071414 %\n",
      "[[1019  891]\n",
      " [ 821 2206]]\n"
     ]
    }
   ],
   "source": [
    "acc = accuracy_score(y_test, y_pred)\n",
    "f1 = f1_score(y_test, y_pred, average='macro')\n",
    "print(\"Accuracy:\", acc*100, \"%\")\n",
    "print(\"f1 score:\", f1*100, \"%\")\n",
    "print(confusion_matrix(y_test, y_pred))"
   ]
  },
  {
   "cell_type": "code",
   "execution_count": 48,
   "id": "4f4a7c7d",
   "metadata": {},
   "outputs": [
    {
     "data": {
      "image/png": "[encoded data removed]",
      "text/plain": [
       "<Figure size 640x480 with 2 Axes>"
      ]
     },
     "metadata": {},
     "output_type": "display_data"
    }
   ],
   "source": [
    "cm = confusion_matrix(y_test, y_pred)\n",
    "\n",
    "cm_display = ConfusionMatrixDisplay(cm).plot()"
   ]
  },
  {
   "cell_type": "markdown",
   "id": "a373afc5",
   "metadata": {},
   "source": [
    "## Random Forest"
   ]
  },
  {
   "cell_type": "code",
   "execution_count": 49,
   "id": "e0e628b7",
   "metadata": {},
   "outputs": [],
   "source": [
    "from sklearn.ensemble import RandomForestClassifier"
   ]
  },
  {
   "cell_type": "code",
   "execution_count": 50,
   "id": "d0afc23f",
   "metadata": {},
   "outputs": [],
   "source": [
    "rfc = RandomForestClassifier(random_state=0)"
   ]
  },
  {
   "cell_type": "code",
   "execution_count": 51,
   "id": "c5c70e9d",
   "metadata": {},
   "outputs": [
    {
     "name": "stdout",
     "output_type": "stream",
     "text": [
      "Wall time: 42.9 s\n"
     ]
    },
    {
     "data": {
      "text/plain": [
       "RandomForestClassifier(random_state=0)"
      ]
     },
     "execution_count": 51,
     "metadata": {},
     "output_type": "execute_result"
    }
   ],
   "source": [
    "%%time\n",
    "rfc.fit(X_train, y_train)"
   ]
  },
  {
   "cell_type": "code",
   "execution_count": 52,
   "id": "bc92628d",
   "metadata": {},
   "outputs": [],
   "source": [
    "# evaluate the classifier on the test set\n",
    "y_pred = rfc.predict(X_test)"
   ]
  },
  {
   "cell_type": "code",
   "execution_count": 55,
   "id": "2bf39332",
   "metadata": {},
   "outputs": [
    {
     "data": {
      "text/plain": [
       "array([5, 5, 5, ..., 3, 5, 5], dtype=int64)"
      ]
     },
     "execution_count": 55,
     "metadata": {},
     "output_type": "execute_result"
    }
   ],
   "source": [
    "y_pred"
   ]
  },
  {
   "cell_type": "code",
   "execution_count": 53,
   "id": "080e0b23",
   "metadata": {},
   "outputs": [
    {
     "name": "stdout",
     "output_type": "stream",
     "text": [
      "Accuracy: 74.23536560664371 %\n",
      "f1 score: 71.02651408197276 %\n",
      "[[1011  899]\n",
      " [ 373 2654]]\n"
     ]
    }
   ],
   "source": [
    "acc = accuracy_score(y_test, y_pred)\n",
    "f1 = f1_score(y_test, y_pred, average='macro')\n",
    "print(\"Accuracy:\", acc*100, \"%\")\n",
    "print(\"f1 score:\", f1*100, \"%\")\n",
    "print(confusion_matrix(y_test, y_pred))"
   ]
  },
  {
   "cell_type": "code",
   "execution_count": 54,
   "id": "f47d450b",
   "metadata": {},
   "outputs": [
    {
     "data": {
      "image/png": "[encoded data removed]",
      "text/plain": [
       "<Figure size 640x480 with 2 Axes>"
      ]
     },
     "metadata": {},
     "output_type": "display_data"
    }
   ],
   "source": [
    "cm = confusion_matrix(y_test, y_pred)\n",
    "\n",
    "cm_display = ConfusionMatrixDisplay(cm).plot()"
   ]
  },
  {
   "cell_type": "code",
   "execution_count": null,
   "id": "c28e832f",
   "metadata": {},
   "outputs": [],
   "source": []
  }
 ],
 "metadata": {
  "kernelspec": {
   "display_name": "Python 3 (ipykernel)",
   "language": "python",
   "name": "python3"
  },
  "language_info": {
   "codemirror_mode": {
    "name": "ipython",
    "version": 3
   },
   "file_extension": ".py",
   "mimetype": "text/x-python",
   "name": "python",
   "nbconvert_exporter": "python",
   "pygments_lexer": "ipython3",
   "version": "3.9.13"
  }
 },
 "nbformat": 4,
 "nbformat_minor": 5
}
