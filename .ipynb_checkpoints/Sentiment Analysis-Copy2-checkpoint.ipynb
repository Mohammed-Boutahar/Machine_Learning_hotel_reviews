{
 "cells": [
  {
   "cell_type": "markdown",
   "id": "8f6db3b5",
   "metadata": {},
   "source": [
    "### Project members : \n",
    " EL-AJJOURI Safaa\n",
    " \n",
    " BOUTAHAR Mohammed"
   ]
  },
  {
   "cell_type": "markdown",
   "id": "247c0eee",
   "metadata": {},
   "source": [
    "# Sentiment Analysis"
   ]
  },
  {
   "cell_type": "markdown",
   "id": "fc59a7c0",
   "metadata": {},
   "source": [
    "## All what you need to install"
   ]
  },
  {
   "cell_type": "code",
   "execution_count": null,
   "id": "beb1612f",
   "metadata": {},
   "outputs": [],
   "source": [
    "!pip install -U imbalanced-learn\n",
    "!pip install spacy\n",
    "!python -m spacy download en_core_web_sm"
   ]
  },
  {
   "cell_type": "markdown",
   "id": "aae9c65e",
   "metadata": {},
   "source": [
    "## All what you need to import"
   ]
  },
  {
   "cell_type": "code",
   "execution_count": 1,
   "id": "ab5a706e",
   "metadata": {},
   "outputs": [],
   "source": [
    "import pandas as pd\n",
    "import numpy as np\n",
    "import matplotlib.pyplot as plt\n",
    "from collections import Counter\n",
    "import re\n",
    "from sklearn.model_selection import train_test_split\n",
    "from imblearn.over_sampling import SMOTE\n",
    "import string\n",
    "import nltk \n",
    "import string\n",
    "from nltk.corpus import stopwords\n",
    "import spacy\n",
    "from tqdm.auto import tqdm\n",
    "import time"
   ]
  },
  {
   "cell_type": "markdown",
   "id": "7249b210",
   "metadata": {},
   "source": [
    "## Import the dataset"
   ]
  },
  {
   "cell_type": "code",
   "execution_count": 2,
   "id": "4f50836e",
   "metadata": {},
   "outputs": [],
   "source": [
    "data = pd.read_csv(\"reviews_hotels.csv\", sep=';', on_bad_lines=\"skip\", encoding='ISO-8859-1')"
   ]
  },
  {
   "cell_type": "code",
   "execution_count": 19,
   "id": "87694071",
   "metadata": {},
   "outputs": [
    {
     "data": {
      "text/html": [
       "<div>\n",
       "<style scoped>\n",
       "    .dataframe tbody tr th:only-of-type {\n",
       "        vertical-align: middle;\n",
       "    }\n",
       "\n",
       "    .dataframe tbody tr th {\n",
       "        vertical-align: top;\n",
       "    }\n",
       "\n",
       "    .dataframe thead th {\n",
       "        text-align: right;\n",
       "    }\n",
       "</style>\n",
       "<table border=\"1\" class=\"dataframe\">\n",
       "  <thead>\n",
       "    <tr style=\"text-align: right;\">\n",
       "      <th></th>\n",
       "      <th>Review</th>\n",
       "      <th>Rating</th>\n",
       "    </tr>\n",
       "  </thead>\n",
       "  <tbody>\n",
       "    <tr>\n",
       "      <th>0</th>\n",
       "      <td>Hollywood Hotel sure lives up to its name.  Yo...</td>\n",
       "      <td>5</td>\n",
       "    </tr>\n",
       "    <tr>\n",
       "      <th>1</th>\n",
       "      <td>We had a reservation at this hotel this weeken...</td>\n",
       "      <td>5</td>\n",
       "    </tr>\n",
       "    <tr>\n",
       "      <th>2</th>\n",
       "      <td>We were mostly happy with our stay here. The s...</td>\n",
       "      <td>4</td>\n",
       "    </tr>\n",
       "    <tr>\n",
       "      <th>3</th>\n",
       "      <td>Pil give us great customer service. He took go...</td>\n",
       "      <td>5</td>\n",
       "    </tr>\n",
       "    <tr>\n",
       "      <th>4</th>\n",
       "      <td>Very friendly staff. Daniel did an excellent j...</td>\n",
       "      <td>5</td>\n",
       "    </tr>\n",
       "    <tr>\n",
       "      <th>5</th>\n",
       "      <td>Daniel made me feel very comfortable and welco...</td>\n",
       "      <td>5</td>\n",
       "    </tr>\n",
       "    <tr>\n",
       "      <th>6</th>\n",
       "      <td>We needed bag storage, early check in, and bag...</td>\n",
       "      <td>5</td>\n",
       "    </tr>\n",
       "    <tr>\n",
       "      <th>7</th>\n",
       "      <td>We checked into the holllywood hotel on March ...</td>\n",
       "      <td>1</td>\n",
       "    </tr>\n",
       "    <tr>\n",
       "      <th>8</th>\n",
       "      <td>We have stayed at this hotel three times now a...</td>\n",
       "      <td>5</td>\n",
       "    </tr>\n",
       "    <tr>\n",
       "      <th>9</th>\n",
       "      <td>The Hollywood Hotel is the place to stay when ...</td>\n",
       "      <td>5</td>\n",
       "    </tr>\n",
       "  </tbody>\n",
       "</table>\n",
       "</div>"
      ],
      "text/plain": [
       "                                              Review  Rating\n",
       "0  Hollywood Hotel sure lives up to its name.  Yo...       5\n",
       "1  We had a reservation at this hotel this weeken...       5\n",
       "2  We were mostly happy with our stay here. The s...       4\n",
       "3  Pil give us great customer service. He took go...       5\n",
       "4  Very friendly staff. Daniel did an excellent j...       5\n",
       "5  Daniel made me feel very comfortable and welco...       5\n",
       "6  We needed bag storage, early check in, and bag...       5\n",
       "7  We checked into the holllywood hotel on March ...       1\n",
       "8  We have stayed at this hotel three times now a...       5\n",
       "9  The Hollywood Hotel is the place to stay when ...       5"
      ]
     },
     "execution_count": 19,
     "metadata": {},
     "output_type": "execute_result"
    }
   ],
   "source": [
    "data.head(10)"
   ]
  },
  {
   "cell_type": "code",
   "execution_count": 20,
   "id": "2297447f",
   "metadata": {},
   "outputs": [
    {
     "data": {
      "text/html": [
       "<div>\n",
       "<style scoped>\n",
       "    .dataframe tbody tr th:only-of-type {\n",
       "        vertical-align: middle;\n",
       "    }\n",
       "\n",
       "    .dataframe tbody tr th {\n",
       "        vertical-align: top;\n",
       "    }\n",
       "\n",
       "    .dataframe thead th {\n",
       "        text-align: right;\n",
       "    }\n",
       "</style>\n",
       "<table border=\"1\" class=\"dataframe\">\n",
       "  <thead>\n",
       "    <tr style=\"text-align: right;\">\n",
       "      <th></th>\n",
       "      <th>Review</th>\n",
       "      <th>Rating</th>\n",
       "    </tr>\n",
       "  </thead>\n",
       "  <tbody>\n",
       "    <tr>\n",
       "      <th>38787</th>\n",
       "      <td>ok price look hotel ok little run average clea...</td>\n",
       "      <td>2</td>\n",
       "    </tr>\n",
       "    <tr>\n",
       "      <th>38788</th>\n",
       "      <td>deceptive staff deceptive desk staff claiming ...</td>\n",
       "      <td>2</td>\n",
       "    </tr>\n",
       "    <tr>\n",
       "      <th>38789</th>\n",
       "      <td>not impressed unfriendly staff checked asked h...</td>\n",
       "      <td>2</td>\n",
       "    </tr>\n",
       "    <tr>\n",
       "      <th>38790</th>\n",
       "      <td>ok just looks nice modern outside, desk staff ...</td>\n",
       "      <td>2</td>\n",
       "    </tr>\n",
       "    <tr>\n",
       "      <th>38791</th>\n",
       "      <td>people talking, ca n't believe excellent ratin...</td>\n",
       "      <td>2</td>\n",
       "    </tr>\n",
       "  </tbody>\n",
       "</table>\n",
       "</div>"
      ],
      "text/plain": [
       "                                                  Review  Rating\n",
       "38787  ok price look hotel ok little run average clea...       2\n",
       "38788  deceptive staff deceptive desk staff claiming ...       2\n",
       "38789  not impressed unfriendly staff checked asked h...       2\n",
       "38790  ok just looks nice modern outside, desk staff ...       2\n",
       "38791  people talking, ca n't believe excellent ratin...       2"
      ]
     },
     "execution_count": 20,
     "metadata": {},
     "output_type": "execute_result"
    }
   ],
   "source": [
    "data.tail()"
   ]
  },
  {
   "cell_type": "markdown",
   "id": "d708c602",
   "metadata": {},
   "source": [
    "## Evaluating the dataset"
   ]
  },
  {
   "cell_type": "markdown",
   "id": "4abbc4a9",
   "metadata": {},
   "source": [
    "### Handling Null Values"
   ]
  },
  {
   "cell_type": "code",
   "execution_count": 21,
   "id": "077e4c89",
   "metadata": {},
   "outputs": [
    {
     "data": {
      "text/plain": [
       "Review    False\n",
       "Rating    False\n",
       "dtype: bool"
      ]
     },
     "execution_count": 21,
     "metadata": {},
     "output_type": "execute_result"
    }
   ],
   "source": [
    "data.isna().any()"
   ]
  },
  {
   "cell_type": "code",
   "execution_count": 22,
   "id": "eec2b95c",
   "metadata": {},
   "outputs": [
    {
     "data": {
      "text/plain": [
       "Review    0\n",
       "Rating    0\n",
       "dtype: int64"
      ]
     },
     "execution_count": 22,
     "metadata": {},
     "output_type": "execute_result"
    }
   ],
   "source": [
    "data.isna().sum()"
   ]
  },
  {
   "cell_type": "markdown",
   "id": "d1fc40c1",
   "metadata": {},
   "source": [
    "### Useful information"
   ]
  },
  {
   "cell_type": "code",
   "execution_count": 23,
   "id": "e7e46643",
   "metadata": {},
   "outputs": [
    {
     "data": {
      "text/plain": [
       "(38792, 2)"
      ]
     },
     "execution_count": 23,
     "metadata": {},
     "output_type": "execute_result"
    }
   ],
   "source": [
    "data.shape"
   ]
  },
  {
   "cell_type": "code",
   "execution_count": 24,
   "id": "ce5327bc",
   "metadata": {},
   "outputs": [
    {
     "name": "stdout",
     "output_type": "stream",
     "text": [
      "Rating\n",
      "1     4363\n",
      "2     4501\n",
      "3     5243\n",
      "4     9581\n",
      "5    15104\n",
      "dtype: int64\n"
     ]
    }
   ],
   "source": [
    "review_counts = data.groupby('Rating').size()\n",
    "\n",
    "# Print the count of reviews for each rating\n",
    "print(review_counts)"
   ]
  },
  {
   "cell_type": "code",
   "execution_count": 25,
   "id": "bf8db605",
   "metadata": {},
   "outputs": [
    {
     "name": "stdout",
     "output_type": "stream",
     "text": [
      "<class 'pandas.core.frame.DataFrame'>\n",
      "RangeIndex: 38792 entries, 0 to 38791\n",
      "Data columns (total 2 columns):\n",
      " #   Column  Non-Null Count  Dtype \n",
      "---  ------  --------------  ----- \n",
      " 0   Review  38792 non-null  object\n",
      " 1   Rating  38792 non-null  int64 \n",
      "dtypes: int64(1), object(1)\n",
      "memory usage: 606.2+ KB\n"
     ]
    }
   ],
   "source": [
    "data.info()"
   ]
  },
  {
   "cell_type": "markdown",
   "id": "ff7c0a90",
   "metadata": {},
   "source": [
    "### In case you want to sub divide the dataset into sub-sets of the same shape"
   ]
  },
  {
   "cell_type": "code",
   "execution_count": 222,
   "id": "1c576db4",
   "metadata": {},
   "outputs": [
    {
     "name": "stdout",
     "output_type": "stream",
     "text": [
      "                                                  Review Rating\n",
      "36990  mice room husband stayed museum hotel month st...      1\n",
      "10533  was there for wobi conference across the stree...      1\n",
      "35693  bad far outweighs good understand china expect...      1\n",
      "36360  terible experience birthday stayed hotel liana...      1\n",
      "15140  do yourself a huge favor and do not stay here ...      1\n",
      "...                                                  ...    ...\n",
      "26408  the hotel is well located on 8th avenue a shor...      1\n",
      "36402  hotel mithila mithila hotel not recommended re...      1\n",
      "32672  ive used premier inns for business for many ye...      1\n",
      "7653   i got a nice please check in email from hilton...      1\n",
      "18300  let me start from the top the young bell boy w...      1\n",
      "\n",
      "[4300 rows x 2 columns]\n",
      "                                                  Review Rating\n",
      "37775  needs improvement having stayed hotel 4 nights...      2\n",
      "37210  medium yes place mixed reviews depending revie...      2\n",
      "29985  small rooms and upon looking over the room a h...      2\n",
      "37569  needs improvements just got trip punta cana ju...      2\n",
      "18190  the room i was given smelled horrible like mol...      2\n",
      "...                                                  ...    ...\n",
      "19283  before leaving for the us visiting and staying...      2\n",
      "37989  fine not great just got spending week esj towe...      2\n",
      "37705  hotel lesuck parking fiasco lot really shady n...      2\n",
      "38467  dissapointed 2 nights thought 3 star hotel sug...      2\n",
      "29168  i loved the bowery and also the maritime and i...      2\n",
      "\n",
      "[4300 rows x 2 columns]\n",
      "                                                  Review Rating\n",
      "9851   i have stayed at this hotel several times for ...      3\n",
      "30754  the good part about the hotel is it is on the ...      3\n",
      "14417  the location is pretty good with a subway line...      3\n",
      "7963   front desk staff were friendly and helpful the...      3\n",
      "9424   im sorry but i would not recommend staying her...      3\n",
      "...                                                  ...    ...\n",
      "5438   the hotel is good for location and view and th...      3\n",
      "14264  excellent location and good value rooms are cl...      3\n",
      "14784  the hotel for the most part was clean having t...      3\n",
      "15663  i have booked one room on this hotel on pricel...      3\n",
      "30384  hotels in ny are very expensive park west hote...      3\n",
      "\n",
      "[4300 rows x 2 columns]\n",
      "                                                  Review Rating\n",
      "18562  very well located old hotel clean helpful staf...      4\n",
      "34184  nice hotel well located for tourists but most ...      4\n",
      "21846  the hotel is conveniently located near penn st...      4\n",
      "7322   had a great time as usual at the hilton they a...      4\n",
      "13959  this was a nice hotel and very conveniently lo...      4\n",
      "...                                                  ...    ...\n",
      "25166  we spent a night at the 1070room wyndham new y...      4\n",
      "27371  this hotel is in a great location for sightsee...      4\n",
      "21565  we spent 11 nights at new yorker hotel we live...      4\n",
      "4671   stayed for 1 night in april in a suite gorgeou...      4\n",
      "13014  we were 4 people and easily fit into the room ...      4\n",
      "\n",
      "[4300 rows x 2 columns]\n",
      "                                                  Review Rating\n",
      "5012   the rooms are very clean and comfortable the p...      5\n",
      "32886  set next to london eye great for sightseeing a...      5\n",
      "29041  i visited nyc in april i am a female in my lat...      5\n",
      "34111  excellent service and courtesy from the staff ...      5\n",
      "26473  we stayed as a family of 4 for 5 nights in apr...      5\n",
      "...                                                  ...    ...\n",
      "30101  love the new yorker hotel and especially their...      5\n",
      "33209  i recommend this hotel to everyone booked thro...      5\n",
      "23106  i stayed with my daughter in dec 2018 for a se...      5\n",
      "26512  clean hotel room was lovely beds comfy reasona...      5\n",
      "9977   the hilton hotel was fantasticmyself and a fri...      5\n",
      "\n",
      "[4300 rows x 2 columns]\n"
     ]
    }
   ],
   "source": [
    "for rating in range(1, 6):\n",
    "    # Filter the DataFrame to get only the reviews with the current rating\n",
    "    rating_df = data[data['Rating'] == rating]\n",
    "    \n",
    "    # Sample 4300 reviews from the filtered DataFrame and add them to the sampled DataFrame\n",
    "    sub_data = pd.DataFrame(rating_df.sample(n=4300, random_state=42))\n",
    "\n",
    "    # Write the DataFrame to a CSV file\n",
    "    sub_data.to_csv(f'sub_data_{rating}.csv', sep=';', index=False)\n",
    "print(\"Success\")"
   ]
  },
  {
   "cell_type": "markdown",
   "id": "8c1bc6d5",
   "metadata": {},
   "source": [
    "## Preprocessing the Text"
   ]
  },
  {
   "cell_type": "code",
   "execution_count": 3,
   "id": "3efd5c3f",
   "metadata": {},
   "outputs": [],
   "source": [
    "# Load the English NLP model\n",
    "nlp = spacy.load('en_core_web_sm')\n",
    "\n",
    "# Define stop words\n",
    "stop_words = spacy.lang.en.stop_words.STOP_WORDS"
   ]
  },
  {
   "cell_type": "code",
   "execution_count": 4,
   "id": "d14c5de2",
   "metadata": {},
   "outputs": [
    {
     "data": {
      "text/plain": [
       "<spacy.lang.en.English at 0x162c8211310>"
      ]
     },
     "execution_count": 4,
     "metadata": {},
     "output_type": "execute_result"
    }
   ],
   "source": [
    "nlp"
   ]
  },
  {
   "cell_type": "markdown",
   "id": "6c32a86e",
   "metadata": {},
   "source": [
    "### Lemmatization"
   ]
  },
  {
   "cell_type": "code",
   "execution_count": 234,
   "id": "f48c539f",
   "metadata": {},
   "outputs": [],
   "source": [
    "def preprocess_text(text):\n",
    "    # Parse the text with Spacy\n",
    "    doc = nlp(text)\n",
    "    \n",
    "    # Lemmatize the tokens and remove stop words\n",
    "    lemmas = [token.lemma_.lower() for token in doc if not token.is_stop]\n",
    "    \n",
    "    # Join the lemmas back into a string and return it\n",
    "    return \" \".join(lemmas)"
   ]
  },
  {
   "cell_type": "code",
   "execution_count": 235,
   "id": "da90ca82",
   "metadata": {},
   "outputs": [
    {
     "data": {
      "application/vnd.jupyter.widget-view+json": {
       "model_id": "2f34cf4443d64433868f639346ca2d46",
       "version_major": 2,
       "version_minor": 0
      },
      "text/plain": [
       "  0%|          | 0/21500 [00:00<?, ?it/s]"
      ]
     },
     "metadata": {},
     "output_type": "display_data"
    },
    {
     "name": "stdout",
     "output_type": "stream",
     "text": [
      "Wall time: 3min 50s\n"
     ]
    }
   ],
   "source": [
    "%%time\n",
    "\n",
    "tqdm.pandas()\n",
    "\n",
    "data['Review'] = data['Review'].progress_apply(preprocess_text)"
   ]
  },
  {
   "cell_type": "markdown",
   "id": "6a963740",
   "metadata": {},
   "source": [
    "### Remove unwanted information"
   ]
  },
  {
   "cell_type": "code",
   "execution_count": 5,
   "id": "56b61ec3",
   "metadata": {},
   "outputs": [],
   "source": [
    "def remove_URL (text):\n",
    "    url = re.compile(r\"https?://\\s+ www\\.\\s+\")\n",
    "    return url.sub(r\"\", text)\n",
    "\n",
    "\n",
    "def remove_html(text):\n",
    "    html = re.compile(r\"<.*?>\")\n",
    "    return html.sub(r\"\", text)\n",
    "         \n",
    "\n",
    "def remove_emoji(string):\n",
    "    emoji_pattern = re.compile(\n",
    "        \"[\"\n",
    "        u\"\\U0001F600-\\U0001F64F\" # emoticons\n",
    "        u\"\\U0001F300-\\U0001F5FF\" # symbols & pictographs\n",
    "        u\"\\U0001F680-\\U0001F6FF\" # transport & map symbols\n",
    "        u\"\\U0001F1E0-\\U0001F1FF\" # flags (i0s)\n",
    "        u\"\\U00002702-\\U000027B0\"\n",
    "        u\"\\U000024C2-\\U0001F251\"\n",
    "        \"]+\",\n",
    "        flags=re.UNICODE,\n",
    "    )\n",
    "    return emoji_pattern.sub(r\"\", string)\n",
    "\n",
    "\n",
    "def remove_punct (text):\n",
    "    table = str.maketrans (\"\",\"\",string.punctuation)\n",
    "    return text.translate(table)\n",
    "\n",
    "stop = set (stopwords.words ( \"english\"))\n",
    "def remove_stopwords (text):\n",
    "    text = [word.lower () for word in text.split() if word.lower() not in stop]\n",
    "    return \" \".join (text)"
   ]
  },
  {
   "cell_type": "code",
   "execution_count": 6,
   "id": "b003b517",
   "metadata": {},
   "outputs": [],
   "source": [
    "def cleanDataframe(df):\n",
    "    Review_cleaned = df.Review.map(lambda x: remove_URL(x))\n",
    "    Review_cleaned = Review_cleaned.map(lambda x: remove_html(x))\n",
    "    Review_cleaned = Review_cleaned.map(lambda x: remove_emoji(x))\n",
    "    Review_cleaned = Review_cleaned.map(lambda x: remove_punct(x)) \n",
    "    Review_cleaned = Review_cleaned.map(remove_stopwords)   \n",
    "    return Review_cleaned"
   ]
  },
  {
   "cell_type": "code",
   "execution_count": 7,
   "id": "d50dc970",
   "metadata": {},
   "outputs": [
    {
     "data": {
      "text/html": [
       "<div>\n",
       "<style scoped>\n",
       "    .dataframe tbody tr th:only-of-type {\n",
       "        vertical-align: middle;\n",
       "    }\n",
       "\n",
       "    .dataframe tbody tr th {\n",
       "        vertical-align: top;\n",
       "    }\n",
       "\n",
       "    .dataframe thead th {\n",
       "        text-align: right;\n",
       "    }\n",
       "</style>\n",
       "<table border=\"1\" class=\"dataframe\">\n",
       "  <thead>\n",
       "    <tr style=\"text-align: right;\">\n",
       "      <th></th>\n",
       "      <th>Review</th>\n",
       "      <th>Review_cleaned</th>\n",
       "      <th>Rating</th>\n",
       "    </tr>\n",
       "  </thead>\n",
       "  <tbody>\n",
       "    <tr>\n",
       "      <th>0</th>\n",
       "      <td>Hollywood Hotel sure lives up to its name.  Yo...</td>\n",
       "      <td>hollywood hotel sure lives name really get sen...</td>\n",
       "      <td>5</td>\n",
       "    </tr>\n",
       "    <tr>\n",
       "      <th>1</th>\n",
       "      <td>We had a reservation at this hotel this weeken...</td>\n",
       "      <td>reservation hotel weekend chose book directly ...</td>\n",
       "      <td>5</td>\n",
       "    </tr>\n",
       "    <tr>\n",
       "      <th>2</th>\n",
       "      <td>We were mostly happy with our stay here. The s...</td>\n",
       "      <td>mostly happy stay staff welcoming parking secu...</td>\n",
       "      <td>4</td>\n",
       "    </tr>\n",
       "    <tr>\n",
       "      <th>3</th>\n",
       "      <td>Pil give us great customer service. He took go...</td>\n",
       "      <td>pil give us great customer service took good c...</td>\n",
       "      <td>5</td>\n",
       "    </tr>\n",
       "    <tr>\n",
       "      <th>4</th>\n",
       "      <td>Very friendly staff. Daniel did an excellent j...</td>\n",
       "      <td>friendly staff daniel excellent job customer s...</td>\n",
       "      <td>5</td>\n",
       "    </tr>\n",
       "    <tr>\n",
       "      <th>...</th>\n",
       "      <td>...</td>\n",
       "      <td>...</td>\n",
       "      <td>...</td>\n",
       "    </tr>\n",
       "    <tr>\n",
       "      <th>38787</th>\n",
       "      <td>ok price look hotel ok little run average clea...</td>\n",
       "      <td>ok price look hotel ok little run average clea...</td>\n",
       "      <td>2</td>\n",
       "    </tr>\n",
       "    <tr>\n",
       "      <th>38788</th>\n",
       "      <td>deceptive staff deceptive desk staff claiming ...</td>\n",
       "      <td>deceptive staff deceptive desk staff claiming ...</td>\n",
       "      <td>2</td>\n",
       "    </tr>\n",
       "    <tr>\n",
       "      <th>38789</th>\n",
       "      <td>not impressed unfriendly staff checked asked h...</td>\n",
       "      <td>impressed unfriendly staff checked asked highe...</td>\n",
       "      <td>2</td>\n",
       "    </tr>\n",
       "    <tr>\n",
       "      <th>38790</th>\n",
       "      <td>ok just looks nice modern outside, desk staff ...</td>\n",
       "      <td>ok looks nice modern outside desk staff nt par...</td>\n",
       "      <td>2</td>\n",
       "    </tr>\n",
       "    <tr>\n",
       "      <th>38791</th>\n",
       "      <td>people talking, ca n't believe excellent ratin...</td>\n",
       "      <td>people talking ca nt believe excellent ratings...</td>\n",
       "      <td>2</td>\n",
       "    </tr>\n",
       "  </tbody>\n",
       "</table>\n",
       "<p>38792 rows × 3 columns</p>\n",
       "</div>"
      ],
      "text/plain": [
       "                                                  Review  \\\n",
       "0      Hollywood Hotel sure lives up to its name.  Yo...   \n",
       "1      We had a reservation at this hotel this weeken...   \n",
       "2      We were mostly happy with our stay here. The s...   \n",
       "3      Pil give us great customer service. He took go...   \n",
       "4      Very friendly staff. Daniel did an excellent j...   \n",
       "...                                                  ...   \n",
       "38787  ok price look hotel ok little run average clea...   \n",
       "38788  deceptive staff deceptive desk staff claiming ...   \n",
       "38789  not impressed unfriendly staff checked asked h...   \n",
       "38790  ok just looks nice modern outside, desk staff ...   \n",
       "38791  people talking, ca n't believe excellent ratin...   \n",
       "\n",
       "                                          Review_cleaned  Rating  \n",
       "0      hollywood hotel sure lives name really get sen...       5  \n",
       "1      reservation hotel weekend chose book directly ...       5  \n",
       "2      mostly happy stay staff welcoming parking secu...       4  \n",
       "3      pil give us great customer service took good c...       5  \n",
       "4      friendly staff daniel excellent job customer s...       5  \n",
       "...                                                  ...     ...  \n",
       "38787  ok price look hotel ok little run average clea...       2  \n",
       "38788  deceptive staff deceptive desk staff claiming ...       2  \n",
       "38789  impressed unfriendly staff checked asked highe...       2  \n",
       "38790  ok looks nice modern outside desk staff nt par...       2  \n",
       "38791  people talking ca nt believe excellent ratings...       2  \n",
       "\n",
       "[38792 rows x 3 columns]"
      ]
     },
     "execution_count": 7,
     "metadata": {},
     "output_type": "execute_result"
    }
   ],
   "source": [
    "#comparison of cleaned data and raw data\n",
    "df=[]\n",
    "df = data.copy()\n",
    "df.insert(1, \"Review_cleaned\", cleanDataframe(data))\n",
    "df"
   ]
  },
  {
   "cell_type": "code",
   "execution_count": 6,
   "id": "47a751fb",
   "metadata": {},
   "outputs": [
    {
     "data": {
      "text/html": [
       "<div>\n",
       "<style scoped>\n",
       "    .dataframe tbody tr th:only-of-type {\n",
       "        vertical-align: middle;\n",
       "    }\n",
       "\n",
       "    .dataframe tbody tr th {\n",
       "        vertical-align: top;\n",
       "    }\n",
       "\n",
       "    .dataframe thead th {\n",
       "        text-align: right;\n",
       "    }\n",
       "</style>\n",
       "<table border=\"1\" class=\"dataframe\">\n",
       "  <thead>\n",
       "    <tr style=\"text-align: right;\">\n",
       "      <th></th>\n",
       "      <th>Review</th>\n",
       "      <th>Rating</th>\n",
       "    </tr>\n",
       "  </thead>\n",
       "  <tbody>\n",
       "    <tr>\n",
       "      <th>0</th>\n",
       "      <td>hollywood hotel sure lives name really get sen...</td>\n",
       "      <td>5</td>\n",
       "    </tr>\n",
       "    <tr>\n",
       "      <th>1</th>\n",
       "      <td>reservation hotel weekend chose book directly ...</td>\n",
       "      <td>5</td>\n",
       "    </tr>\n",
       "    <tr>\n",
       "      <th>2</th>\n",
       "      <td>mostly happy stay staff welcoming parking secu...</td>\n",
       "      <td>4</td>\n",
       "    </tr>\n",
       "    <tr>\n",
       "      <th>3</th>\n",
       "      <td>pil give us great customer service took good c...</td>\n",
       "      <td>5</td>\n",
       "    </tr>\n",
       "    <tr>\n",
       "      <th>4</th>\n",
       "      <td>friendly staff daniel excellent job customer s...</td>\n",
       "      <td>5</td>\n",
       "    </tr>\n",
       "    <tr>\n",
       "      <th>...</th>\n",
       "      <td>...</td>\n",
       "      <td>...</td>\n",
       "    </tr>\n",
       "    <tr>\n",
       "      <th>38787</th>\n",
       "      <td>ok price look hotel ok little run average clea...</td>\n",
       "      <td>2</td>\n",
       "    </tr>\n",
       "    <tr>\n",
       "      <th>38788</th>\n",
       "      <td>deceptive staff deceptive desk staff claiming ...</td>\n",
       "      <td>2</td>\n",
       "    </tr>\n",
       "    <tr>\n",
       "      <th>38789</th>\n",
       "      <td>impressed unfriendly staff checked asked highe...</td>\n",
       "      <td>2</td>\n",
       "    </tr>\n",
       "    <tr>\n",
       "      <th>38790</th>\n",
       "      <td>ok looks nice modern outside desk staff nt par...</td>\n",
       "      <td>2</td>\n",
       "    </tr>\n",
       "    <tr>\n",
       "      <th>38791</th>\n",
       "      <td>people talking ca nt believe excellent ratings...</td>\n",
       "      <td>2</td>\n",
       "    </tr>\n",
       "  </tbody>\n",
       "</table>\n",
       "<p>38792 rows × 2 columns</p>\n",
       "</div>"
      ],
      "text/plain": [
       "                                                  Review  Rating\n",
       "0      hollywood hotel sure lives name really get sen...       5\n",
       "1      reservation hotel weekend chose book directly ...       5\n",
       "2      mostly happy stay staff welcoming parking secu...       4\n",
       "3      pil give us great customer service took good c...       5\n",
       "4      friendly staff daniel excellent job customer s...       5\n",
       "...                                                  ...     ...\n",
       "38787  ok price look hotel ok little run average clea...       2\n",
       "38788  deceptive staff deceptive desk staff claiming ...       2\n",
       "38789  impressed unfriendly staff checked asked highe...       2\n",
       "38790  ok looks nice modern outside desk staff nt par...       2\n",
       "38791  people talking ca nt believe excellent ratings...       2\n",
       "\n",
       "[38792 rows x 2 columns]"
      ]
     },
     "execution_count": 6,
     "metadata": {},
     "output_type": "execute_result"
    }
   ],
   "source": [
    "#data cleaning\n",
    "data.Review = cleanDataframe(data)\n",
    "data"
   ]
  },
  {
   "cell_type": "markdown",
   "id": "aebab243",
   "metadata": {},
   "source": [
    "## Commonly Used Words"
   ]
  },
  {
   "cell_type": "code",
   "execution_count": 32,
   "id": "95a0227b",
   "metadata": {},
   "outputs": [],
   "source": [
    "# Concatenate all tweet texts into a single string\n",
    "all_text = ' '.join(data['Review'].values)"
   ]
  },
  {
   "cell_type": "code",
   "execution_count": 33,
   "id": "a5cbd02c",
   "metadata": {},
   "outputs": [],
   "source": [
    "# Split the text into individual words\n",
    "words = all_text.split()"
   ]
  },
  {
   "cell_type": "code",
   "execution_count": 34,
   "id": "4d1d9191",
   "metadata": {},
   "outputs": [],
   "source": [
    "# Count the frequency of each word\n",
    "word_counts = Counter(words)"
   ]
  },
  {
   "cell_type": "code",
   "execution_count": 35,
   "id": "4062cbbf",
   "metadata": {},
   "outputs": [
    {
     "data": {
      "text/plain": [
       "[('hotel', 49229),\n",
       " ('room', 45435),\n",
       " ('staff', 20956),\n",
       " ('great', 19168),\n",
       " ('stay', 18479),\n",
       " ('rooms', 15053),\n",
       " ('location', 14945),\n",
       " ('good', 13713),\n",
       " ('clean', 12820),\n",
       " ('stayed', 11220),\n",
       " ('nice', 11055),\n",
       " ('us', 10731),\n",
       " ('would', 10634),\n",
       " ('service', 9805),\n",
       " ('time', 9647),\n",
       " ('night', 9103),\n",
       " ('friendly', 8819),\n",
       " ('small', 8744),\n",
       " ('one', 8411),\n",
       " ('new', 7724),\n",
       " ('helpful', 7608),\n",
       " ('day', 7587),\n",
       " ('really', 7399),\n",
       " ('like', 7308),\n",
       " ('breakfast', 7212),\n",
       " ('desk', 7157),\n",
       " ('get', 6938),\n",
       " ('walk', 6856),\n",
       " ('place', 6819),\n",
       " ('bed', 6781),\n",
       " ('bathroom', 6698),\n",
       " ('also', 6290),\n",
       " ('comfortable', 6126),\n",
       " ('floor', 5871),\n",
       " ('well', 5594),\n",
       " ('front', 5414),\n",
       " ('got', 5392),\n",
       " ('could', 5336),\n",
       " ('view', 5312),\n",
       " ('check', 5308),\n",
       " ('universal', 5283),\n",
       " ('food', 5209),\n",
       " ('2', 5194),\n",
       " ('back', 5188),\n",
       " ('close', 5178),\n",
       " ('park', 5135),\n",
       " ('city', 5017),\n",
       " ('nights', 4874),\n",
       " ('area', 4831),\n",
       " ('times', 4819)]"
      ]
     },
     "execution_count": 35,
     "metadata": {},
     "output_type": "execute_result"
    }
   ],
   "source": [
    "top_words = word_counts.most_common(50)\n",
    "top_words"
   ]
  },
  {
   "cell_type": "code",
   "execution_count": 36,
   "id": "053c4ed2",
   "metadata": {},
   "outputs": [
    {
     "data": {
      "image/png": "[encoded data removed]",
      "text/plain": [
       "<Figure size 640x480 with 1 Axes>"
      ]
     },
     "metadata": {},
     "output_type": "display_data"
    }
   ],
   "source": [
    "# Create a bar chart of the most common words\n",
    "top_words = word_counts.most_common(10) # Change the number to show more/less words\n",
    "x_values = [word[0] for word in top_words]\n",
    "y_values = [word[1] for word in top_words]\n",
    "plt.bar(x_values, y_values)\n",
    "plt.xlabel('Word')\n",
    "plt.ylabel('Frequency')\n",
    "plt.title('Most Commonly Used Words')\n",
    "plt.show()"
   ]
  },
  {
   "cell_type": "markdown",
   "id": "76831196",
   "metadata": {},
   "source": [
    "### Note:\n",
    "It wasn't really important to remove some frequently used words like 'room' and 'hotel' since models already handel that situation by ignoring words that are used in all classes"
   ]
  },
  {
   "cell_type": "markdown",
   "id": "0d0f8021",
   "metadata": {},
   "source": [
    "## Converting Text into Numerical Features / Vectorization"
   ]
  },
  {
   "cell_type": "code",
   "execution_count": 8,
   "id": "754e369b",
   "metadata": {},
   "outputs": [],
   "source": [
    "from sklearn.feature_extraction.text import TfidfVectorizer\n",
    "\n",
    "vectorizer = TfidfVectorizer()\n",
    "X = vectorizer.fit_transform(data['Review'])\n",
    "y = data['Rating']"
   ]
  },
  {
   "cell_type": "markdown",
   "id": "04845926",
   "metadata": {},
   "source": [
    "## Class Distributions"
   ]
  },
  {
   "cell_type": "code",
   "execution_count": 38,
   "id": "8d27fc88",
   "metadata": {},
   "outputs": [
    {
     "data": {
      "image/png": "[encoded data removed]",
      "text/plain": [
       "<Figure size 640x480 with 1 Axes>"
      ]
     },
     "metadata": {},
     "output_type": "display_data"
    }
   ],
   "source": [
    "# Count the number of instances in each class\n",
    "class_counts = data['Rating'].value_counts()\n",
    "class_counts.plot.bar()\n",
    "plt.title('Class Distribution')\n",
    "plt.xlabel('Rating')\n",
    "plt.ylabel('Count')\n",
    "plt.show()"
   ]
  },
  {
   "cell_type": "markdown",
   "id": "1f23baaa",
   "metadata": {},
   "source": [
    "# Machine Learning Models"
   ]
  },
  {
   "cell_type": "code",
   "execution_count": 9,
   "id": "7d222b4f",
   "metadata": {},
   "outputs": [],
   "source": [
    "from sklearn.model_selection import train_test_split\n",
    "from sklearn.metrics import accuracy_score, f1_score, recall_score, precision_score, confusion_matrix,confusion_matrix, ConfusionMatrixDisplay\n",
    "from sklearn.model_selection import cross_val_score, cross_val_predict, KFold\n",
    "\n",
    "X_train, X_test, y_train, y_test = train_test_split(X, y, test_size=0.2,  random_state=42)"
   ]
  },
  {
   "cell_type": "code",
   "execution_count": 10,
   "id": "62e4f008",
   "metadata": {},
   "outputs": [],
   "source": [
    "def cross_validation(model, X, y, folds):\n",
    "    # Define your cross-validation strategy\n",
    "    cv = KFold(n_splits=folds, shuffle=True, random_state=42)\n",
    "    \n",
    "    accuracies = cross_val_score(model, X, y, cv=cv, scoring='accuracy')\n",
    "    accuracies = pd.Series(accuracies)\n",
    "    print(\"Accuracy : min=\", accuracies.min()*100, \"%  max=\", accuracies.max()*100, \"%  mean=\", accuracies.mean()*100, \"%\")\n",
    "\n",
    "    precisions = cross_val_score(model, X, y, cv=cv, scoring='precision_macro')\n",
    "    print(\"Precisions : min=\", precisions.min()*100, \"%  max=\",precisions.max()*100, \"%  mean=\", precisions.mean()*100, \"%\")\n",
    "    \n",
    "    f1_scores = cross_val_score(model, X, y, cv=cv, scoring='f1_macro')\n",
    "    print(\"F1_score : min=\", f1_scores.min()*100, \"%  max=\",f1_scores.max()*100, \"%  mean=\",f1_scores.mean())\n",
    "    \n",
    "    y_pred = cross_val_predict(model, X, y, cv=cv)\n",
    "\n",
    "    cm = confusion_matrix(y, y_pred)\n",
    "\n",
    "    cm_display = ConfusionMatrixDisplay(cm).plot()\n"
   ]
  },
  {
   "cell_type": "markdown",
   "id": "855e3aca",
   "metadata": {},
   "source": [
    "## Support Vector Machines"
   ]
  },
  {
   "cell_type": "code",
   "execution_count": 23,
   "id": "e0927331",
   "metadata": {},
   "outputs": [
    {
     "data": {
      "text/plain": [
       "SVC(kernel='linear')"
      ]
     },
     "execution_count": 23,
     "metadata": {},
     "output_type": "execute_result"
    }
   ],
   "source": [
    "from sklearn import svm\n",
    "\n",
    "# train an SVM model\n",
    "svmModel = svm.SVC(kernel='linear')\n",
    "\n",
    "svmModel"
   ]
  },
  {
   "cell_type": "code",
   "execution_count": null,
   "id": "c2381b25",
   "metadata": {},
   "outputs": [],
   "source": [
    "cross_validation(svmModel, X, y, 50)"
   ]
  },
  {
   "cell_type": "code",
   "execution_count": 24,
   "id": "1f15251f",
   "metadata": {},
   "outputs": [
    {
     "data": {
      "text/plain": [
       "SVC(kernel='linear')"
      ]
     },
     "execution_count": 24,
     "metadata": {},
     "output_type": "execute_result"
    }
   ],
   "source": [
    "svmModel.fit(X_train, y_train)"
   ]
  },
  {
   "cell_type": "code",
   "execution_count": 25,
   "id": "ca31d039",
   "metadata": {},
   "outputs": [
    {
     "data": {
      "text/plain": [
       "array([5, 5, 5, ..., 5, 4, 3], dtype=int64)"
      ]
     },
     "execution_count": 25,
     "metadata": {},
     "output_type": "execute_result"
    }
   ],
   "source": [
    "y_pred = svmModel.predict(X_test)\n",
    "y_pred"
   ]
  },
  {
   "cell_type": "code",
   "execution_count": 26,
   "id": "73634329",
   "metadata": {},
   "outputs": [
    {
     "name": "stdout",
     "output_type": "stream",
     "text": [
      "Accuracy: 63.732439747390124 %\n",
      "precision score: 59.16614186664238 %\n",
      "f1score: 58.673830232545996 %\n",
      "[[ 549  198   70   15   10]\n",
      " [ 230  450  207   40   11]\n",
      " [  76   98  485  372   60]\n",
      " [  22   30  236  965  606]\n",
      " [  10   10   52  461 2496]]\n"
     ]
    },
    {
     "data": {
      "image/png": "[encoded data removed]",
      "text/plain": [
       "<Figure size 640x480 with 2 Axes>"
      ]
     },
     "metadata": {},
     "output_type": "display_data"
    }
   ],
   "source": [
    "acc = accuracy_score(y_test, y_pred)\n",
    "precision = precision_score(y_test, y_pred, average='macro')\n",
    "f1 = f1_score(y_test, y_pred, average='macro')\n",
    "print(\"Accuracy:\", acc*100, \"%\")\n",
    "print(\"precision score:\", precision*100, \"%\")\n",
    "print(\"f1score:\", f1*100, \"%\")\n",
    "\n",
    "cm = confusion_matrix(y_test, y_pred)\n",
    "\n",
    "cm_display = ConfusionMatrixDisplay(cm).plot()"
   ]
  },
  {
   "cell_type": "markdown",
   "id": "80e68348",
   "metadata": {},
   "source": [
    "## Multinomial Naive Bayes Model"
   ]
  },
  {
   "cell_type": "code",
   "execution_count": 27,
   "id": "2efc99f0",
   "metadata": {},
   "outputs": [],
   "source": [
    "from sklearn.naive_bayes import MultinomialNB\n",
    "# train a Naive Bayes classifier\n",
    "mnb = MultinomialNB()"
   ]
  },
  {
   "cell_type": "code",
   "execution_count": 28,
   "id": "42d460ec",
   "metadata": {},
   "outputs": [
    {
     "data": {
      "text/plain": [
       "MultinomialNB()"
      ]
     },
     "execution_count": 28,
     "metadata": {},
     "output_type": "execute_result"
    }
   ],
   "source": [
    "mnb.fit(X_train, y_train)"
   ]
  },
  {
   "cell_type": "code",
   "execution_count": 29,
   "id": "92fb4e5e",
   "metadata": {},
   "outputs": [
    {
     "data": {
      "text/plain": [
       "array([5, 5, 5, ..., 5, 5, 5], dtype=int64)"
      ]
     },
     "execution_count": 29,
     "metadata": {},
     "output_type": "execute_result"
    }
   ],
   "source": [
    "y_pred = mnb.predict(X_test)\n",
    "y_pred"
   ]
  },
  {
   "cell_type": "code",
   "execution_count": 30,
   "id": "6e20653b",
   "metadata": {},
   "outputs": [
    {
     "name": "stdout",
     "output_type": "stream",
     "text": [
      "Accuracy: 48.614512179404564 %\n",
      "precision score: 47.16923693713887 %\n",
      "f1score: 32.22641680159305 %\n"
     ]
    },
    {
     "data": {
      "image/png": "[encoded data removed]",
      "text/plain": [
       "<Figure size 640x480 with 2 Axes>"
      ]
     },
     "metadata": {},
     "output_type": "display_data"
    }
   ],
   "source": [
    "acc = accuracy_score(y_test, y_pred)\n",
    "precision = precision_score(y_test, y_pred, average='macro')\n",
    "f1 = f1_score(y_test, y_pred, average='macro')\n",
    "print(\"Accuracy:\", acc*100, \"%\")\n",
    "print(\"precision score:\", precision*100, \"%\")\n",
    "print(\"f1score:\", f1*100, \"%\")\n",
    "\n",
    "cm = confusion_matrix(y_test, y_pred)\n",
    "\n",
    "cm_display = ConfusionMatrixDisplay(cm).plot()"
   ]
  },
  {
   "cell_type": "code",
   "execution_count": 31,
   "id": "24e00446",
   "metadata": {
    "scrolled": true
   },
   "outputs": [
    {
     "name": "stdout",
     "output_type": "stream",
     "text": [
      "Accuracy : min= 44.329896907216494 %  max= 56.70103092783505 %  mean= 50.32208503156714 %\n"
     ]
    },
    {
     "name": "stderr",
     "output_type": "stream",
     "text": [
      "C:\\Users\\bouta\\anaconda3\\lib\\site-packages\\sklearn\\metrics\\_classification.py:1318: UndefinedMetricWarning: Precision is ill-defined and being set to 0.0 in labels with no predicted samples. Use `zero_division` parameter to control this behavior.\n",
      "  _warn_prf(average, modifier, msg_start, len(result))\n"
     ]
    },
    {
     "name": "stdout",
     "output_type": "stream",
     "text": [
      "Precisions : min= 39.65348010549249 %  max= 70.01345778163665 %  mean= 49.46045790945584 %\n",
      "F1_score : min= 27.507914612686157 %  max= 40.22336847733288 %  mean= 0.3527304974465396\n"
     ]
    },
    {
     "data": {
      "image/png": "[encoded data removed]",
      "text/plain": [
       "<Figure size 640x480 with 2 Axes>"
      ]
     },
     "metadata": {},
     "output_type": "display_data"
    }
   ],
   "source": [
    "cross_validation(mnb, X, y, 100)"
   ]
  },
  {
   "cell_type": "markdown",
   "id": "8b61a7c1",
   "metadata": {},
   "source": [
    "## Decision Tree"
   ]
  },
  {
   "cell_type": "code",
   "execution_count": 11,
   "id": "4b36aaed",
   "metadata": {},
   "outputs": [],
   "source": [
    "from sklearn import tree"
   ]
  },
  {
   "cell_type": "code",
   "execution_count": 12,
   "id": "8a51bda4",
   "metadata": {},
   "outputs": [],
   "source": [
    "dtc = tree.DecisionTreeClassifier()"
   ]
  },
  {
   "cell_type": "code",
   "execution_count": 13,
   "id": "5021be2e",
   "metadata": {},
   "outputs": [
    {
     "name": "stdout",
     "output_type": "stream",
     "text": [
      "Wall time: 42.3 s\n"
     ]
    },
    {
     "data": {
      "text/plain": [
       "DecisionTreeClassifier()"
      ]
     },
     "execution_count": 13,
     "metadata": {},
     "output_type": "execute_result"
    }
   ],
   "source": [
    "%%time\n",
    "dtc.fit(X_train, y_train)"
   ]
  },
  {
   "cell_type": "code",
   "execution_count": 14,
   "id": "935e28e9",
   "metadata": {},
   "outputs": [],
   "source": [
    "# evaluate the classifier on the test set\n",
    "y_pred = dtc.predict(X_test)"
   ]
  },
  {
   "cell_type": "code",
   "execution_count": 265,
   "id": "a20171da",
   "metadata": {},
   "outputs": [
    {
     "data": {
      "text/plain": [
       "array([3, 4, 5, ..., 4, 3, 3], dtype=int64)"
      ]
     },
     "execution_count": 265,
     "metadata": {},
     "output_type": "execute_result"
    }
   ],
   "source": [
    "y_pred"
   ]
  },
  {
   "cell_type": "code",
   "execution_count": 15,
   "id": "cc9a1469",
   "metadata": {},
   "outputs": [
    {
     "name": "stdout",
     "output_type": "stream",
     "text": [
      "Accuracy: 49.233148601623924 %\n",
      "precision score: 44.21683088813258 %\n",
      "f1 score: 44.00791187988465 %\n",
      "[[ 359  205  115   88   75]\n",
      " [ 256  381  110  108   83]\n",
      " [  84  122  324  315  246]\n",
      " [  72  106  282  732  667]\n",
      " [  67   69  201  668 2024]]\n"
     ]
    }
   ],
   "source": [
    "acc = accuracy_score(y_test, y_pred)\n",
    "precision = precision_score(y_test, y_pred, average='macro')\n",
    "f1 = f1_score(y_test, y_pred, average='macro')\n",
    "print(\"Accuracy:\", acc*100, \"%\")\n",
    "print(\"precision score:\", precision*100, \"%\")\n",
    "print(\"f1 score:\", f1*100, \"%\")\n",
    "print(confusion_matrix(y_test, y_pred))"
   ]
  },
  {
   "cell_type": "code",
   "execution_count": 16,
   "id": "4f4a7c7d",
   "metadata": {},
   "outputs": [
    {
     "data": {
      "image/png": "[encoded data removed]",
      "text/plain": [
       "<Figure size 640x480 with 2 Axes>"
      ]
     },
     "metadata": {},
     "output_type": "display_data"
    }
   ],
   "source": [
    "cm = confusion_matrix(y_test, y_pred)\n",
    "\n",
    "cm_display = ConfusionMatrixDisplay(cm).plot()"
   ]
  },
  {
   "cell_type": "code",
   "execution_count": null,
   "id": "7aa489c5",
   "metadata": {},
   "outputs": [],
   "source": [
    "cross_validation(dtc, X, y, 50)"
   ]
  },
  {
   "cell_type": "markdown",
   "id": "a373afc5",
   "metadata": {},
   "source": [
    "## Random Forest"
   ]
  },
  {
   "cell_type": "code",
   "execution_count": 17,
   "id": "e0e628b7",
   "metadata": {},
   "outputs": [],
   "source": [
    "from sklearn.ensemble import RandomForestClassifier"
   ]
  },
  {
   "cell_type": "code",
   "execution_count": 18,
   "id": "d0afc23f",
   "metadata": {},
   "outputs": [],
   "source": [
    "rfc = RandomForestClassifier(random_state=0)"
   ]
  },
  {
   "cell_type": "code",
   "execution_count": 19,
   "id": "c5c70e9d",
   "metadata": {},
   "outputs": [
    {
     "name": "stdout",
     "output_type": "stream",
     "text": [
      "Wall time: 1min 50s\n"
     ]
    },
    {
     "data": {
      "text/plain": [
       "RandomForestClassifier(random_state=0)"
      ]
     },
     "execution_count": 19,
     "metadata": {},
     "output_type": "execute_result"
    }
   ],
   "source": [
    "%%time\n",
    "rfc.fit(X_train, y_train)"
   ]
  },
  {
   "cell_type": "code",
   "execution_count": 20,
   "id": "bc92628d",
   "metadata": {},
   "outputs": [],
   "source": [
    "# evaluate the classifier on the test set\n",
    "y_pred = rfc.predict(X_test)"
   ]
  },
  {
   "cell_type": "code",
   "execution_count": 272,
   "id": "2bf39332",
   "metadata": {},
   "outputs": [
    {
     "data": {
      "text/plain": [
       "array([5, 2, 4, ..., 1, 5, 4], dtype=int64)"
      ]
     },
     "execution_count": 272,
     "metadata": {},
     "output_type": "execute_result"
    }
   ],
   "source": [
    "y_pred"
   ]
  },
  {
   "cell_type": "code",
   "execution_count": 21,
   "id": "080e0b23",
   "metadata": {},
   "outputs": [
    {
     "name": "stdout",
     "output_type": "stream",
     "text": [
      "Accuracy: 56.38613223353525 %\n",
      "precision score: 57.10298694095683 %\n",
      "f1 score: 46.96678253701833 %\n",
      "[[ 397  134   39   80  192]\n",
      " [ 159  345   68  176  190]\n",
      " [  38    3  136  516  398]\n",
      " [  12    1   31  702 1113]\n",
      " [   9    1    6  218 2795]]\n"
     ]
    }
   ],
   "source": [
    "acc = accuracy_score(y_test, y_pred)\n",
    "precision = precision_score(y_test, y_pred, average='macro')\n",
    "f1 = f1_score(y_test, y_pred, average='macro')\n",
    "print(\"Accuracy:\", acc*100, \"%\")\n",
    "print(\"precision score:\", precision*100, \"%\")\n",
    "print(\"f1 score:\", f1*100, \"%\")\n",
    "print(confusion_matrix(y_test, y_pred))"
   ]
  },
  {
   "cell_type": "code",
   "execution_count": 22,
   "id": "f47d450b",
   "metadata": {},
   "outputs": [
    {
     "data": {
      "image/png": "[encoded data removed]",
      "text/plain": [
       "<Figure size 640x480 with 2 Axes>"
      ]
     },
     "metadata": {},
     "output_type": "display_data"
    }
   ],
   "source": [
    "cm = confusion_matrix(y_test, y_pred)\n",
    "\n",
    "cm_display = ConfusionMatrixDisplay(cm).plot()"
   ]
  },
  {
   "cell_type": "code",
   "execution_count": null,
   "id": "a08c4eec",
   "metadata": {},
   "outputs": [],
   "source": [
    "cross_validation(rfc, X, y, 10)"
   ]
  },
  {
   "cell_type": "code",
   "execution_count": null,
   "id": "17227a5e",
   "metadata": {},
   "outputs": [],
   "source": [
    "#Affichage résumé des entrainements de modèles\n",
    "summary = pd.DataFrame(columns=['File Name','Size','Category 1','Category 2','Category 3','Category 4','Category 5','Lemmatization',''])"
   ]
  }
 ],
 "metadata": {
  "kernelspec": {
   "display_name": "Python 3 (ipykernel)",
   "language": "python",
   "name": "python3"
  },
  "language_info": {
   "codemirror_mode": {
    "name": "ipython",
    "version": 3
   },
   "file_extension": ".py",
   "mimetype": "text/x-python",
   "name": "python",
   "nbconvert_exporter": "python",
   "pygments_lexer": "ipython3",
   "version": "3.9.13"
  }
 },
 "nbformat": 4,
 "nbformat_minor": 5
}
